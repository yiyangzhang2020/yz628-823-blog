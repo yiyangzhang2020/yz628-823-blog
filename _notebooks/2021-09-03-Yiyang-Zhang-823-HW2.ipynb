{
 "cells": [
  {
   "cell_type": "markdown",
   "metadata": {},
   "source": [
    "## Number theory and a Google recruitment puzzle\n",
    "\n",
    "### Find the first 10-digit prime in the decimal expansion of 17π.\n",
    "\n",
    "### The first 5 digits in the decimal expansion of π are 14159. The first 4-digit prime in the decimal expansion of π are 4159. You are asked to find the first 10-digit prime in the decimal expansion of 17π. First solve sub-problems (divide and conquer):\n"
   ]
  },
  {
   "cell_type": "markdown",
   "metadata": {},
   "source": [
    "### -------------------------------------------------------------------------------------------------------\n",
    "### Write a function to generate an arbitrary large expansion of a mathematical expression like π.\n",
    "#### (Hint: You can use the standard library `decimal` or the 3rd party library `sympy` to do this)\n"
   ]
  },
  {
   "cell_type": "markdown",
   "metadata": {},
   "source": [
    "### For the first function, I used the sympy library (mpmath). Since the function wasn't outputting enough decimal places, I set the mp.dps as 1000. \n",
    "### This function has two input conditions to check, either pi(π) or e(euler number). Next, I set a multiplier and multiply them by it. Then I set the precision criterion to get the number of digits after the decimal wanted and turn it into a string. This creates the decimal expansion of a given number. "
   ]
  },
  {
   "cell_type": "code",
   "execution_count": 151,
   "metadata": {},
   "outputs": [
    {
     "ename": "IndentationError",
     "evalue": "unindent does not match any outer indentation level (<tokenize>, line 20)",
     "output_type": "error",
     "traceback": [
      "\u001b[0;36m  File \u001b[0;32m\"<tokenize>\"\u001b[0;36m, line \u001b[0;32m20\u001b[0m\n\u001b[0;31m    if number =='pi':\u001b[0m\n\u001b[0m    ^\u001b[0m\n\u001b[0;31mIndentationError\u001b[0m\u001b[0;31m:\u001b[0m unindent does not match any outer indentation level\n"
     ]
    }
   ],
   "source": [
    "import math\n",
    "try:\n",
    "    from sympy.mpmath import mp\n",
    "except ImportError:\n",
    "    from mpmath import mp\n",
    "mp.dps=1000\n",
    "\n",
    "def create_expansion(precision,number,multiplier):\n",
    "     '''\n",
    "    this function takes a number with a multiplier and outputs its decimal expansion with a specific number of decimals \n",
    "    \n",
    "    input: \n",
    "    precision, number of decimals wanted\n",
    "    number, number to be expanded('pi' or 'e')\n",
    "    multiplier, multiplier of the number to be expanded\n",
    "    \n",
    "    returns: an string of decimal expansion of the input number\n",
    "    '''\n",
    "    #check if number is pi\n",
    "    if number =='pi':\n",
    "        #create a string of the number(multiplied by the multiplier) expansion with precision as number of decimals\n",
    "        str_pi = str(( multiplier*mp.pi)).replace('.','')[0:precision]\n",
    "        return(str_pi)\n",
    "    #check if number is e\n",
    "    elif number =='e':\n",
    "        str_e = str(( multiplier*mp.e)).replace('.','')[0:precision]\n",
    "        return(str_e)\n",
    "\n",
    "#type either 'pi' or 'e' for number in create_expansion function\n",
    "\n",
    "#print(create_expansion(50,'pi',17))\n",
    "#print(create_expansion(25,'e',1))"
   ]
  },
  {
   "cell_type": "markdown",
   "metadata": {},
   "source": [
    "### Unit test of create_expansion function:"
   ]
  },
  {
   "cell_type": "code",
   "execution_count": 139,
   "metadata": {
    "scrolled": true
   },
   "outputs": [
    {
     "name": "stderr",
     "output_type": "stream",
     "text": [
      "test_create_expansion (__main__.TestNotebook)\n",
      "test the expansion of the number we want ... ok\n",
      "\n",
      "----------------------------------------------------------------------\n",
      "Ran 1 test in 0.001s\n",
      "\n",
      "OK\n"
     ]
    },
    {
     "data": {
      "text/plain": [
       "<unittest.main.TestProgram at 0x7f8427f6b950>"
      ]
     },
     "execution_count": 139,
     "metadata": {},
     "output_type": "execute_result"
    }
   ],
   "source": [
    "import unittest\n",
    "\n",
    "class TestNotebook(unittest.TestCase):\n",
    "    \n",
    "    def test_create_expansion(self):\n",
    "        \"\"\"test the expansion of the number we want\"\"\"\n",
    "        self.assertEqual(create_expansion(5,'pi',1),str(31415))\n",
    "       \n",
    "   \n",
    "unittest.main(argv=[''], verbosity=2, exit=False)"
   ]
  },
  {
   "cell_type": "markdown",
   "metadata": {},
   "source": [
    "### -------------------------------------------------------------------------------------------------------\n",
    "### - Write a function to check if a number is prime. Hint: See Sieve of Eratosthenes"
   ]
  },
  {
   "cell_type": "markdown",
   "metadata": {},
   "source": [
    "### For this function, the first criterion I set is to check if the given number is 1 or not. If it is 1, then it is not a prime number. \n",
    "### Next we check if the given number is 2 or not. If it is 2, then it is a prime number.\n",
    "### Then we check if the given number can be divided by 2, if so, it is an even number, thus it is not a prime number.\n",
    "### Lastly, we check from 3 to the positive square root of x so that it only iterate a portion of X values. The step is 2 so no even number other than 2 will participate in this iteration. \n",
    "### This function reduces the run time complexity dramatically from a function without the above steps. "
   ]
  },
  {
   "cell_type": "code",
   "execution_count": 140,
   "metadata": {},
   "outputs": [],
   "source": [
    "import math\n",
    "def IsPrimeNumber(x):\n",
    "    '''\n",
    "    this function takes an input number and test whether it is a prime number or not\n",
    "    and outputs an answer\n",
    "    x: int, input to be tested\n",
    "    returns: an answer (True or False)\n",
    "    '''\n",
    "    # exclude 1 which is not prime\n",
    "    if x == 1:\n",
    "        return False\n",
    "    # take out 2 as a base case\n",
    "    elif x == 2:\n",
    "        return True\n",
    "    elif x % 2 == 0:\n",
    "        return False\n",
    "    else:\n",
    "        # iterate through 3 to the positive square root of x to see if x can be divided by any, step is 2 which excludes all even number.\n",
    "        for y in range(3, int(math.sqrt(x) + 1), 2):\n",
    "            # if x can be divided, then x is not prime\n",
    "            if x % y == 0:\n",
    "                return False\n",
    "    # if x can not be divided, then x is a prime number\n",
    "    return True"
   ]
  },
  {
   "cell_type": "markdown",
   "metadata": {},
   "source": [
    "### Unit test of IsPrimeNumber function:"
   ]
  },
  {
   "cell_type": "code",
   "execution_count": 141,
   "metadata": {},
   "outputs": [
    {
     "name": "stderr",
     "output_type": "stream",
     "text": [
      "test_IsPrimeNumber (__main__.TestNotebook)\n",
      "test IsPrimeNumber ... ok\n",
      "\n",
      "----------------------------------------------------------------------\n",
      "Ran 1 test in 0.001s\n",
      "\n",
      "OK\n"
     ]
    },
    {
     "data": {
      "text/plain": [
       "<unittest.main.TestProgram at 0x7f84390c1d10>"
      ]
     },
     "execution_count": 141,
     "metadata": {},
     "output_type": "execute_result"
    }
   ],
   "source": [
    "class TestNotebook(unittest.TestCase):\n",
    "    \n",
    "    def test_IsPrimeNumber(self):\n",
    "        \"\"\"test IsPrimeNumber\"\"\"\n",
    "        self.assertFalse(IsPrimeNumber(1))\n",
    "        self.assertTrue(IsPrimeNumber(2))\n",
    "        self.assertFalse(IsPrimeNumber(51))\n",
    "        self.assertTrue(IsPrimeNumber(1373))\n",
    "        self.assertFalse(IsPrimeNumber(33333))\n",
    "        \n",
    "unittest.main(argv=[''], verbosity=2, exit=False)"
   ]
  },
  {
   "cell_type": "markdown",
   "metadata": {},
   "source": [
    "### -------------------------------------------------------------------------------------------------------\n",
    "### - Write a function to generate sliding windows of a specified width from a long iterable (e.g. a string representation of a number)"
   ]
  },
  {
   "cell_type": "markdown",
   "metadata": {},
   "source": [
    "### Then we have the window function which generates sliding windows of a specified width from a long iterable. This one is pretty straight forward, it returns a list of sliding windows(substrings of the input string). One interesting part I did in this function is that I added a list called 'seen' which records every slinding windows(substrings) we have seen so we will not have repeated slinding windows(substrings) in the output list(non_repeated). This will reduce the run time complexity since a lof of redundant values will be checked later if the specified width is too small. "
   ]
  },
  {
   "cell_type": "code",
   "execution_count": 142,
   "metadata": {},
   "outputs": [],
   "source": [
    "def window(seq, width):\n",
    "    '''\n",
    "    this function takes an input string and returns all the substrings with the length wanted\n",
    "    seq: str, input string to be sliced into 'windows'\n",
    "    width: length of windows wanted\n",
    "    returns: all the substrings(windows) with the length wanted(width)\n",
    "    '''\n",
    "    #exclude the number before the decimal\n",
    "    seq=seq[1:]\n",
    "    #create two lists, seen and non_repeated\n",
    "    seen, non_repeated =[], []\n",
    "    #iterate through the input string \n",
    "    for i in range(0,len(seq)-(width-1)):\n",
    "        #create windows of given width\n",
    "        t = seq[i:i+width]\n",
    "        #excluded repeated windows\n",
    "        if t not in seen:\n",
    "            #collect non-repeated windows\n",
    "            non_repeated.append(t)\n",
    "        #collect repeated windows as seen windows\n",
    "        seen.append(t)\n",
    "    #return a list of non-repeated windows\n",
    "    return list(non_repeated)\n"
   ]
  },
  {
   "cell_type": "code",
   "execution_count": 143,
   "metadata": {},
   "outputs": [
    {
     "name": "stdout",
     "output_type": "stream",
     "text": [
      "['2345', '3456', '4567', '5678']\n"
     ]
    }
   ],
   "source": [
    "print(window(str(12345678), 4))"
   ]
  },
  {
   "cell_type": "markdown",
   "metadata": {},
   "source": [
    "### Unit test of window function:"
   ]
  },
  {
   "cell_type": "code",
   "execution_count": 144,
   "metadata": {},
   "outputs": [
    {
     "name": "stderr",
     "output_type": "stream",
     "text": [
      "test_window (__main__.TestNotebook)\n",
      "test window. ... ok\n",
      "\n",
      "----------------------------------------------------------------------\n",
      "Ran 1 test in 0.001s\n",
      "\n",
      "OK\n"
     ]
    },
    {
     "data": {
      "text/plain": [
       "<unittest.main.TestProgram at 0x7f8427f0f710>"
      ]
     },
     "execution_count": 144,
     "metadata": {},
     "output_type": "execute_result"
    }
   ],
   "source": [
    "class TestNotebook(unittest.TestCase):\n",
    "    \n",
    " def test_window(self):\n",
    "    \"\"\"test window.\"\"\"\n",
    "    self.assertEqual(window(str(12345678), 4), ['2345', '3456', '4567', '5678'])\n",
    "        \n",
    "unittest.main(argv=[''], verbosity=2, exit=False)"
   ]
  },
  {
   "cell_type": "markdown",
   "metadata": {},
   "source": [
    "\n",
    "### -------------------------------------------------------------------------------------------------------\n",
    "### Now use these helper functions to write the function that you need.\n",
    "### Write a unit test for this final function, given that the first 10-digit prime in the expansion e is 7427466391.\n",
    "### Finally, solve the given problem.\n"
   ]
  },
  {
   "cell_type": "markdown",
   "metadata": {},
   "source": [
    "### This function uses all of the helper functions I wrote above. \n",
    "### It iterates through the list of numbers generated by the window function from the string of the expansion of the given number generated by the create_expansion function, and then checks whether every number of this list is a prime number using the IsPrimeNumber function. \n",
    "### Lastly, it returns the first prime number of the expansion with the wanted length of digits. "
   ]
  },
  {
   "cell_type": "code",
   "execution_count": 145,
   "metadata": {},
   "outputs": [],
   "source": [
    "def give_prime_expansion(digits_of_number, input_number, multiplier, length_of_prime):\n",
    "    '''\n",
    "    this function takes the digits of number, an input number('pi' or 'e'), a multiplier and the length of prime number we want, returns the first prime number in the expansion.\n",
    "    digits_of_number: the number of decimal digits\n",
    "    the input_number: pi or e\n",
    "    multiplier: a multiplier of the input number\n",
    "    length_of_prime: the length of the prime number we want \n",
    "    returns: the first prime number in the decimal expansion of the input number\n",
    "    '''\n",
    "    #iterte through the list of windows of numbers\n",
    "    for numbers in window(create_expansion(digits_of_number,input_number,multiplier),length_of_prime):\n",
    "        #check if the number is prime\n",
    "        if IsPrimeNumber(int(numbers)):\n",
    "            #output the number we want\n",
    "            print(f\"The first {length_of_prime}-digit prime number in the decimal expansion of {multiplier} {input_number} is: \")\n",
    "            return(int(numbers))\n",
    "            break\n"
   ]
  },
  {
   "cell_type": "markdown",
   "metadata": {},
   "source": [
    "### Thus we can find the first 10-digit prime in the decimal expansion of 17π."
   ]
  },
  {
   "cell_type": "code",
   "execution_count": 146,
   "metadata": {},
   "outputs": [
    {
     "name": "stdout",
     "output_type": "stream",
     "text": [
      "The first 10-digit prime number in the decimal expansion of 17 pi is: \n",
      "8649375157\n"
     ]
    }
   ],
   "source": [
    "#example\n",
    "print(give_prime_expansion(99,'pi',17,10))"
   ]
  },
  {
   "cell_type": "markdown",
   "metadata": {},
   "source": [
    "### Unit test of give_prime_expansion function:"
   ]
  },
  {
   "cell_type": "code",
   "execution_count": 147,
   "metadata": {},
   "outputs": [
    {
     "name": "stderr",
     "output_type": "stream",
     "text": [
      "test_give_prime_expansion (__main__.TestNotebook)\n",
      "test test_give_prime_expansion . ... "
     ]
    },
    {
     "name": "stdout",
     "output_type": "stream",
     "text": [
      "The first 10-digit prime number in the decimal expansion of 1 e is: \n",
      "The first 5-digit prime number in the decimal expansion of 1 pi is: \n"
     ]
    },
    {
     "name": "stderr",
     "output_type": "stream",
     "text": [
      "ok\n",
      "\n",
      "----------------------------------------------------------------------\n",
      "Ran 1 test in 0.008s\n",
      "\n",
      "OK\n"
     ]
    },
    {
     "data": {
      "text/plain": [
       "<unittest.main.TestProgram at 0x7f8427f19d90>"
      ]
     },
     "execution_count": 147,
     "metadata": {},
     "output_type": "execute_result"
    }
   ],
   "source": [
    "class TestNotebook(unittest.TestCase):\n",
    "    def test_give_prime_expansion(self):\n",
    "        \"\"\"test test_give_prime_expansion .\"\"\"\n",
    "        self.assertEqual(give_prime_expansion(120,'e',1,10), 7427466391)\n",
    "        self.assertEqual(give_prime_expansion(99,'pi',1,5), 14159)\n",
    "   \n",
    "unittest.main(argv=[''], verbosity=2, exit=False)"
   ]
  },
  {
   "cell_type": "code",
   "execution_count": null,
   "metadata": {},
   "outputs": [],
   "source": []
  },
  {
   "cell_type": "code",
   "execution_count": null,
   "metadata": {},
   "outputs": [],
   "source": []
  }
 ],
 "metadata": {
  "kernelspec": {
   "display_name": "Python 3",
   "language": "python",
   "name": "python3"
  },
  "language_info": {
   "codemirror_mode": {
    "name": "ipython",
    "version": 3
   },
   "file_extension": ".py",
   "mimetype": "text/x-python",
   "name": "python",
   "nbconvert_exporter": "python",
   "pygments_lexer": "ipython3",
   "version": "3.7.8"
  }
 },
 "nbformat": 4,
 "nbformat_minor": 4
}
