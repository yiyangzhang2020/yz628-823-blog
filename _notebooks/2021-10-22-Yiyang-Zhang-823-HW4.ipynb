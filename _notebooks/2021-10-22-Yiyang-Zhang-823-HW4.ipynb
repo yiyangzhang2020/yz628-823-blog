{
 "cells": [
  {
   "attachments": {},
   "cell_type": "markdown",
   "metadata": {},
   "source": [
    "## 823 HW4\n",
    "## Is there life after graduate school?\n",
    "\n",
    "### Download data of Science and Engineering PhDs awarded in the US. Do some analysis in pandas. Make a dashboard visualization of a few interesting aspects of the data.\n",
    "### click network URL: http://10.2.226.217:8501 for my dashboard visualization \n"
   ]
  },
  {
   "cell_type": "code",
   "execution_count": null,
   "metadata": {},
   "outputs": [],
   "source": [
    "import pandas as pd\n",
    "import numpy as np\n",
    "import plotly.express as px\n",
    "import altair as alt\n",
    "import matplotlib.pyplot as plt\n",
    "import seaborn as sns\n",
    "import streamlit as st"
   ]
  },
  {
   "cell_type": "code",
   "execution_count": 93,
   "metadata": {},
   "outputs": [],
   "source": [
    "#read in dataset 001/002/unemp\n",
    "df001 = pd.read_excel(\"https://ncses.nsf.gov/pubs/nsf19301/assets/data/tables/sed17-sr-tab001.xlsx\")\n",
    "df012= pd.read_excel(\"https://ncses.nsf.gov/pubs/nsf19301/assets/data/tables/sed17-sr-tab012.xlsx\")\n",
    "df_unemployment=pd.read_excel(\"DataFinder-20211022004844.xlsx\")"
   ]
  },
  {
   "cell_type": "code",
   "execution_count": 94,
   "metadata": {},
   "outputs": [],
   "source": [
    "#drop unnecessary columns\n",
    "df_unemp=df_unemployment.iloc[17:].iloc[: , :-9].rename(columns={\"Labor Force Statistics from the Current Population Survey\": \"Year\", \"Unnamed: 1\": \"Period\",\"Unnamed: 2\": \"Month\",\"Unnamed: 3\": \"Unemployment Rate\"})\n",
    "df_unemp.head(20)\n",
    "df_unemp_group = df_unemp.loc[:1, 'Unemployment Rate'].mean()"
   ]
  },
  {
   "cell_type": "code",
   "execution_count": 95,
   "metadata": {},
   "outputs": [],
   "source": [
    "#print(df_unemp_group)"
   ]
  },
  {
   "cell_type": "code",
   "execution_count": 96,
   "metadata": {},
   "outputs": [
    {
     "data": {
      "text/html": [
       "<div>\n",
       "<style scoped>\n",
       "    .dataframe tbody tr th:only-of-type {\n",
       "        vertical-align: middle;\n",
       "    }\n",
       "\n",
       "    .dataframe tbody tr th {\n",
       "        vertical-align: top;\n",
       "    }\n",
       "\n",
       "    .dataframe thead th {\n",
       "        text-align: right;\n",
       "    }\n",
       "</style>\n",
       "<table border=\"1\" class=\"dataframe\">\n",
       "  <thead>\n",
       "    <tr style=\"text-align: right;\">\n",
       "      <th></th>\n",
       "      <th>Table 1</th>\n",
       "      <th>Unnamed: 1</th>\n",
       "      <th>Unnamed: 2</th>\n",
       "    </tr>\n",
       "  </thead>\n",
       "  <tbody>\n",
       "    <tr>\n",
       "      <th>3</th>\n",
       "      <td>1958</td>\n",
       "      <td>8773</td>\n",
       "      <td>-</td>\n",
       "    </tr>\n",
       "    <tr>\n",
       "      <th>4</th>\n",
       "      <td>1959</td>\n",
       "      <td>9213</td>\n",
       "      <td>5</td>\n",
       "    </tr>\n",
       "    <tr>\n",
       "      <th>5</th>\n",
       "      <td>1960</td>\n",
       "      <td>9733</td>\n",
       "      <td>5.6</td>\n",
       "    </tr>\n",
       "  </tbody>\n",
       "</table>\n",
       "</div>"
      ],
      "text/plain": [
       "  Table 1 Unnamed: 1 Unnamed: 2\n",
       "3    1958       8773          -\n",
       "4    1959       9213          5\n",
       "5    1960       9733        5.6"
      ]
     },
     "execution_count": 96,
     "metadata": {},
     "output_type": "execute_result"
    }
   ],
   "source": [
    "df001 = df001.iloc[3:]\n",
    "#df001.head(15)\n",
    "df001.head(3)"
   ]
  },
  {
   "cell_type": "code",
   "execution_count": 97,
   "metadata": {},
   "outputs": [
    {
     "data": {
      "text/html": [
       "<div>\n",
       "<style scoped>\n",
       "    .dataframe tbody tr th:only-of-type {\n",
       "        vertical-align: middle;\n",
       "    }\n",
       "\n",
       "    .dataframe tbody tr th {\n",
       "        vertical-align: top;\n",
       "    }\n",
       "\n",
       "    .dataframe thead th {\n",
       "        text-align: right;\n",
       "    }\n",
       "</style>\n",
       "<table border=\"1\" class=\"dataframe\">\n",
       "  <thead>\n",
       "    <tr style=\"text-align: right;\">\n",
       "      <th></th>\n",
       "      <th>Year</th>\n",
       "      <th>Total Doctorate Recipients</th>\n",
       "      <th>Percentage Change From Last Year</th>\n",
       "      <th>Change Percentage</th>\n",
       "    </tr>\n",
       "  </thead>\n",
       "  <tbody>\n",
       "    <tr>\n",
       "      <th>3</th>\n",
       "      <td>1958</td>\n",
       "      <td>8773</td>\n",
       "      <td>-</td>\n",
       "      <td>-%</td>\n",
       "    </tr>\n",
       "    <tr>\n",
       "      <th>4</th>\n",
       "      <td>1959</td>\n",
       "      <td>9213</td>\n",
       "      <td>5</td>\n",
       "      <td>5%</td>\n",
       "    </tr>\n",
       "    <tr>\n",
       "      <th>5</th>\n",
       "      <td>1960</td>\n",
       "      <td>9733</td>\n",
       "      <td>5.6</td>\n",
       "      <td>5.6%</td>\n",
       "    </tr>\n",
       "    <tr>\n",
       "      <th>6</th>\n",
       "      <td>1961</td>\n",
       "      <td>10413</td>\n",
       "      <td>7</td>\n",
       "      <td>7%</td>\n",
       "    </tr>\n",
       "    <tr>\n",
       "      <th>7</th>\n",
       "      <td>1962</td>\n",
       "      <td>11500</td>\n",
       "      <td>10.4</td>\n",
       "      <td>10.4%</td>\n",
       "    </tr>\n",
       "    <tr>\n",
       "      <th>8</th>\n",
       "      <td>1963</td>\n",
       "      <td>12728</td>\n",
       "      <td>10.7</td>\n",
       "      <td>10.7%</td>\n",
       "    </tr>\n",
       "    <tr>\n",
       "      <th>9</th>\n",
       "      <td>1964</td>\n",
       "      <td>14325</td>\n",
       "      <td>12.5</td>\n",
       "      <td>12.5%</td>\n",
       "    </tr>\n",
       "    <tr>\n",
       "      <th>10</th>\n",
       "      <td>1965</td>\n",
       "      <td>16340</td>\n",
       "      <td>14.1</td>\n",
       "      <td>14.1%</td>\n",
       "    </tr>\n",
       "    <tr>\n",
       "      <th>11</th>\n",
       "      <td>1966</td>\n",
       "      <td>17949</td>\n",
       "      <td>9.8</td>\n",
       "      <td>9.8%</td>\n",
       "    </tr>\n",
       "    <tr>\n",
       "      <th>12</th>\n",
       "      <td>1967</td>\n",
       "      <td>20403</td>\n",
       "      <td>13.7</td>\n",
       "      <td>13.7%</td>\n",
       "    </tr>\n",
       "  </tbody>\n",
       "</table>\n",
       "</div>"
      ],
      "text/plain": [
       "    Year Total Doctorate Recipients Percentage Change From Last Year  \\\n",
       "3   1958                       8773                                -   \n",
       "4   1959                       9213                                5   \n",
       "5   1960                       9733                              5.6   \n",
       "6   1961                      10413                                7   \n",
       "7   1962                      11500                             10.4   \n",
       "8   1963                      12728                             10.7   \n",
       "9   1964                      14325                             12.5   \n",
       "10  1965                      16340                             14.1   \n",
       "11  1966                      17949                              9.8   \n",
       "12  1967                      20403                             13.7   \n",
       "\n",
       "   Change Percentage  \n",
       "3                 -%  \n",
       "4                 5%  \n",
       "5               5.6%  \n",
       "6                 7%  \n",
       "7              10.4%  \n",
       "8              10.7%  \n",
       "9              12.5%  \n",
       "10             14.1%  \n",
       "11              9.8%  \n",
       "12             13.7%  "
      ]
     },
     "execution_count": 97,
     "metadata": {},
     "output_type": "execute_result"
    }
   ],
   "source": [
    "df001=df001.rename(columns={\"Table 1\": \"Year\", \"Unnamed: 1\": \"Total Doctorate Recipients\",\"Unnamed: 2\": \"Percentage Change From Last Year\"})\n",
    "df001['Change Percentage'] = df001['Percentage Change From Last Year'].astype(str) + '%'\n",
    "df001.head(10)"
   ]
  },
  {
   "cell_type": "code",
   "execution_count": 98,
   "metadata": {},
   "outputs": [
    {
     "data": {
      "application/vnd.plotly.v1+json": {
       "config": {
        "plotlyServerURL": "https://plot.ly"
       },
       "data": [
        {
         "hovertemplate": "Year=%{x}<br>Total Doctorate Recipients=%{y}<extra></extra>",
         "legendgroup": "",
         "line": {
          "color": "#636efa",
          "dash": "solid"
         },
         "mode": "lines",
         "name": "",
         "orientation": "v",
         "showlegend": false,
         "type": "scatter",
         "x": [
          1958,
          1959,
          1960,
          1961,
          1962,
          1963,
          1964,
          1965,
          1966,
          1967,
          1968,
          1969,
          1970,
          1971,
          1972,
          1973,
          1974,
          1975,
          1976,
          1977,
          1978,
          1979,
          1980,
          1981,
          1982,
          1983,
          1984,
          1985,
          1986,
          1987,
          1988,
          1989,
          1990,
          1991,
          1992,
          1993,
          1994,
          1995,
          1996,
          1997,
          1998,
          1999,
          2000,
          2001,
          2002,
          2003,
          2004,
          2005,
          2006,
          2007,
          2008,
          2009,
          2010,
          2011,
          2012,
          2013,
          2014,
          2015,
          2016,
          2017
         ],
         "xaxis": "x",
         "y": [
          8773,
          9213,
          9733,
          10413,
          11500,
          12728,
          14325,
          16340,
          17949,
          20403,
          22937,
          25743,
          29498,
          31867,
          33041,
          33755,
          33047,
          32952,
          32946,
          31716,
          30875,
          31238,
          31019,
          31355,
          31108,
          31280,
          31334,
          31295,
          31897,
          32365,
          33497,
          34325,
          36065,
          37530,
          38886,
          39800,
          41034,
          41747,
          42437,
          42539,
          42636,
          41100,
          41369,
          40744,
          40031,
          40762,
          42122,
          43385,
          45620,
          48132,
          48777,
          49552,
          48029,
          48911,
          50944,
          52704,
          53992,
          54901,
          54862,
          54664
         ],
         "yaxis": "y"
        }
       ],
       "layout": {
        "legend": {
         "tracegroupgap": 0
        },
        "template": {
         "data": {
          "bar": [
           {
            "error_x": {
             "color": "#2a3f5f"
            },
            "error_y": {
             "color": "#2a3f5f"
            },
            "marker": {
             "line": {
              "color": "#E5ECF6",
              "width": 0.5
             }
            },
            "type": "bar"
           }
          ],
          "barpolar": [
           {
            "marker": {
             "line": {
              "color": "#E5ECF6",
              "width": 0.5
             }
            },
            "type": "barpolar"
           }
          ],
          "carpet": [
           {
            "aaxis": {
             "endlinecolor": "#2a3f5f",
             "gridcolor": "white",
             "linecolor": "white",
             "minorgridcolor": "white",
             "startlinecolor": "#2a3f5f"
            },
            "baxis": {
             "endlinecolor": "#2a3f5f",
             "gridcolor": "white",
             "linecolor": "white",
             "minorgridcolor": "white",
             "startlinecolor": "#2a3f5f"
            },
            "type": "carpet"
           }
          ],
          "choropleth": [
           {
            "colorbar": {
             "outlinewidth": 0,
             "ticks": ""
            },
            "type": "choropleth"
           }
          ],
          "contour": [
           {
            "colorbar": {
             "outlinewidth": 0,
             "ticks": ""
            },
            "colorscale": [
             [
              0,
              "#0d0887"
             ],
             [
              0.1111111111111111,
              "#46039f"
             ],
             [
              0.2222222222222222,
              "#7201a8"
             ],
             [
              0.3333333333333333,
              "#9c179e"
             ],
             [
              0.4444444444444444,
              "#bd3786"
             ],
             [
              0.5555555555555556,
              "#d8576b"
             ],
             [
              0.6666666666666666,
              "#ed7953"
             ],
             [
              0.7777777777777778,
              "#fb9f3a"
             ],
             [
              0.8888888888888888,
              "#fdca26"
             ],
             [
              1,
              "#f0f921"
             ]
            ],
            "type": "contour"
           }
          ],
          "contourcarpet": [
           {
            "colorbar": {
             "outlinewidth": 0,
             "ticks": ""
            },
            "type": "contourcarpet"
           }
          ],
          "heatmap": [
           {
            "colorbar": {
             "outlinewidth": 0,
             "ticks": ""
            },
            "colorscale": [
             [
              0,
              "#0d0887"
             ],
             [
              0.1111111111111111,
              "#46039f"
             ],
             [
              0.2222222222222222,
              "#7201a8"
             ],
             [
              0.3333333333333333,
              "#9c179e"
             ],
             [
              0.4444444444444444,
              "#bd3786"
             ],
             [
              0.5555555555555556,
              "#d8576b"
             ],
             [
              0.6666666666666666,
              "#ed7953"
             ],
             [
              0.7777777777777778,
              "#fb9f3a"
             ],
             [
              0.8888888888888888,
              "#fdca26"
             ],
             [
              1,
              "#f0f921"
             ]
            ],
            "type": "heatmap"
           }
          ],
          "heatmapgl": [
           {
            "colorbar": {
             "outlinewidth": 0,
             "ticks": ""
            },
            "colorscale": [
             [
              0,
              "#0d0887"
             ],
             [
              0.1111111111111111,
              "#46039f"
             ],
             [
              0.2222222222222222,
              "#7201a8"
             ],
             [
              0.3333333333333333,
              "#9c179e"
             ],
             [
              0.4444444444444444,
              "#bd3786"
             ],
             [
              0.5555555555555556,
              "#d8576b"
             ],
             [
              0.6666666666666666,
              "#ed7953"
             ],
             [
              0.7777777777777778,
              "#fb9f3a"
             ],
             [
              0.8888888888888888,
              "#fdca26"
             ],
             [
              1,
              "#f0f921"
             ]
            ],
            "type": "heatmapgl"
           }
          ],
          "histogram": [
           {
            "marker": {
             "colorbar": {
              "outlinewidth": 0,
              "ticks": ""
             }
            },
            "type": "histogram"
           }
          ],
          "histogram2d": [
           {
            "colorbar": {
             "outlinewidth": 0,
             "ticks": ""
            },
            "colorscale": [
             [
              0,
              "#0d0887"
             ],
             [
              0.1111111111111111,
              "#46039f"
             ],
             [
              0.2222222222222222,
              "#7201a8"
             ],
             [
              0.3333333333333333,
              "#9c179e"
             ],
             [
              0.4444444444444444,
              "#bd3786"
             ],
             [
              0.5555555555555556,
              "#d8576b"
             ],
             [
              0.6666666666666666,
              "#ed7953"
             ],
             [
              0.7777777777777778,
              "#fb9f3a"
             ],
             [
              0.8888888888888888,
              "#fdca26"
             ],
             [
              1,
              "#f0f921"
             ]
            ],
            "type": "histogram2d"
           }
          ],
          "histogram2dcontour": [
           {
            "colorbar": {
             "outlinewidth": 0,
             "ticks": ""
            },
            "colorscale": [
             [
              0,
              "#0d0887"
             ],
             [
              0.1111111111111111,
              "#46039f"
             ],
             [
              0.2222222222222222,
              "#7201a8"
             ],
             [
              0.3333333333333333,
              "#9c179e"
             ],
             [
              0.4444444444444444,
              "#bd3786"
             ],
             [
              0.5555555555555556,
              "#d8576b"
             ],
             [
              0.6666666666666666,
              "#ed7953"
             ],
             [
              0.7777777777777778,
              "#fb9f3a"
             ],
             [
              0.8888888888888888,
              "#fdca26"
             ],
             [
              1,
              "#f0f921"
             ]
            ],
            "type": "histogram2dcontour"
           }
          ],
          "mesh3d": [
           {
            "colorbar": {
             "outlinewidth": 0,
             "ticks": ""
            },
            "type": "mesh3d"
           }
          ],
          "parcoords": [
           {
            "line": {
             "colorbar": {
              "outlinewidth": 0,
              "ticks": ""
             }
            },
            "type": "parcoords"
           }
          ],
          "pie": [
           {
            "automargin": true,
            "type": "pie"
           }
          ],
          "scatter": [
           {
            "marker": {
             "colorbar": {
              "outlinewidth": 0,
              "ticks": ""
             }
            },
            "type": "scatter"
           }
          ],
          "scatter3d": [
           {
            "line": {
             "colorbar": {
              "outlinewidth": 0,
              "ticks": ""
             }
            },
            "marker": {
             "colorbar": {
              "outlinewidth": 0,
              "ticks": ""
             }
            },
            "type": "scatter3d"
           }
          ],
          "scattercarpet": [
           {
            "marker": {
             "colorbar": {
              "outlinewidth": 0,
              "ticks": ""
             }
            },
            "type": "scattercarpet"
           }
          ],
          "scattergeo": [
           {
            "marker": {
             "colorbar": {
              "outlinewidth": 0,
              "ticks": ""
             }
            },
            "type": "scattergeo"
           }
          ],
          "scattergl": [
           {
            "marker": {
             "colorbar": {
              "outlinewidth": 0,
              "ticks": ""
             }
            },
            "type": "scattergl"
           }
          ],
          "scattermapbox": [
           {
            "marker": {
             "colorbar": {
              "outlinewidth": 0,
              "ticks": ""
             }
            },
            "type": "scattermapbox"
           }
          ],
          "scatterpolar": [
           {
            "marker": {
             "colorbar": {
              "outlinewidth": 0,
              "ticks": ""
             }
            },
            "type": "scatterpolar"
           }
          ],
          "scatterpolargl": [
           {
            "marker": {
             "colorbar": {
              "outlinewidth": 0,
              "ticks": ""
             }
            },
            "type": "scatterpolargl"
           }
          ],
          "scatterternary": [
           {
            "marker": {
             "colorbar": {
              "outlinewidth": 0,
              "ticks": ""
             }
            },
            "type": "scatterternary"
           }
          ],
          "surface": [
           {
            "colorbar": {
             "outlinewidth": 0,
             "ticks": ""
            },
            "colorscale": [
             [
              0,
              "#0d0887"
             ],
             [
              0.1111111111111111,
              "#46039f"
             ],
             [
              0.2222222222222222,
              "#7201a8"
             ],
             [
              0.3333333333333333,
              "#9c179e"
             ],
             [
              0.4444444444444444,
              "#bd3786"
             ],
             [
              0.5555555555555556,
              "#d8576b"
             ],
             [
              0.6666666666666666,
              "#ed7953"
             ],
             [
              0.7777777777777778,
              "#fb9f3a"
             ],
             [
              0.8888888888888888,
              "#fdca26"
             ],
             [
              1,
              "#f0f921"
             ]
            ],
            "type": "surface"
           }
          ],
          "table": [
           {
            "cells": {
             "fill": {
              "color": "#EBF0F8"
             },
             "line": {
              "color": "white"
             }
            },
            "header": {
             "fill": {
              "color": "#C8D4E3"
             },
             "line": {
              "color": "white"
             }
            },
            "type": "table"
           }
          ]
         },
         "layout": {
          "annotationdefaults": {
           "arrowcolor": "#2a3f5f",
           "arrowhead": 0,
           "arrowwidth": 1
          },
          "coloraxis": {
           "colorbar": {
            "outlinewidth": 0,
            "ticks": ""
           }
          },
          "colorscale": {
           "diverging": [
            [
             0,
             "#8e0152"
            ],
            [
             0.1,
             "#c51b7d"
            ],
            [
             0.2,
             "#de77ae"
            ],
            [
             0.3,
             "#f1b6da"
            ],
            [
             0.4,
             "#fde0ef"
            ],
            [
             0.5,
             "#f7f7f7"
            ],
            [
             0.6,
             "#e6f5d0"
            ],
            [
             0.7,
             "#b8e186"
            ],
            [
             0.8,
             "#7fbc41"
            ],
            [
             0.9,
             "#4d9221"
            ],
            [
             1,
             "#276419"
            ]
           ],
           "sequential": [
            [
             0,
             "#0d0887"
            ],
            [
             0.1111111111111111,
             "#46039f"
            ],
            [
             0.2222222222222222,
             "#7201a8"
            ],
            [
             0.3333333333333333,
             "#9c179e"
            ],
            [
             0.4444444444444444,
             "#bd3786"
            ],
            [
             0.5555555555555556,
             "#d8576b"
            ],
            [
             0.6666666666666666,
             "#ed7953"
            ],
            [
             0.7777777777777778,
             "#fb9f3a"
            ],
            [
             0.8888888888888888,
             "#fdca26"
            ],
            [
             1,
             "#f0f921"
            ]
           ],
           "sequentialminus": [
            [
             0,
             "#0d0887"
            ],
            [
             0.1111111111111111,
             "#46039f"
            ],
            [
             0.2222222222222222,
             "#7201a8"
            ],
            [
             0.3333333333333333,
             "#9c179e"
            ],
            [
             0.4444444444444444,
             "#bd3786"
            ],
            [
             0.5555555555555556,
             "#d8576b"
            ],
            [
             0.6666666666666666,
             "#ed7953"
            ],
            [
             0.7777777777777778,
             "#fb9f3a"
            ],
            [
             0.8888888888888888,
             "#fdca26"
            ],
            [
             1,
             "#f0f921"
            ]
           ]
          },
          "colorway": [
           "#636efa",
           "#EF553B",
           "#00cc96",
           "#ab63fa",
           "#FFA15A",
           "#19d3f3",
           "#FF6692",
           "#B6E880",
           "#FF97FF",
           "#FECB52"
          ],
          "font": {
           "color": "#2a3f5f"
          },
          "geo": {
           "bgcolor": "white",
           "lakecolor": "white",
           "landcolor": "#E5ECF6",
           "showlakes": true,
           "showland": true,
           "subunitcolor": "white"
          },
          "hoverlabel": {
           "align": "left"
          },
          "hovermode": "closest",
          "mapbox": {
           "style": "light"
          },
          "paper_bgcolor": "white",
          "plot_bgcolor": "#E5ECF6",
          "polar": {
           "angularaxis": {
            "gridcolor": "white",
            "linecolor": "white",
            "ticks": ""
           },
           "bgcolor": "#E5ECF6",
           "radialaxis": {
            "gridcolor": "white",
            "linecolor": "white",
            "ticks": ""
           }
          },
          "scene": {
           "xaxis": {
            "backgroundcolor": "#E5ECF6",
            "gridcolor": "white",
            "gridwidth": 2,
            "linecolor": "white",
            "showbackground": true,
            "ticks": "",
            "zerolinecolor": "white"
           },
           "yaxis": {
            "backgroundcolor": "#E5ECF6",
            "gridcolor": "white",
            "gridwidth": 2,
            "linecolor": "white",
            "showbackground": true,
            "ticks": "",
            "zerolinecolor": "white"
           },
           "zaxis": {
            "backgroundcolor": "#E5ECF6",
            "gridcolor": "white",
            "gridwidth": 2,
            "linecolor": "white",
            "showbackground": true,
            "ticks": "",
            "zerolinecolor": "white"
           }
          },
          "shapedefaults": {
           "line": {
            "color": "#2a3f5f"
           }
          },
          "ternary": {
           "aaxis": {
            "gridcolor": "white",
            "linecolor": "white",
            "ticks": ""
           },
           "baxis": {
            "gridcolor": "white",
            "linecolor": "white",
            "ticks": ""
           },
           "bgcolor": "#E5ECF6",
           "caxis": {
            "gridcolor": "white",
            "linecolor": "white",
            "ticks": ""
           }
          },
          "title": {
           "x": 0.05
          },
          "xaxis": {
           "automargin": true,
           "gridcolor": "white",
           "linecolor": "white",
           "ticks": "",
           "title": {
            "standoff": 15
           },
           "zerolinecolor": "white",
           "zerolinewidth": 2
          },
          "yaxis": {
           "automargin": true,
           "gridcolor": "white",
           "linecolor": "white",
           "ticks": "",
           "title": {
            "standoff": 15
           },
           "zerolinecolor": "white",
           "zerolinewidth": 2
          }
         }
        },
        "title": {
         "text": "Doctorate recipients from U.S. colleges and universities: 1958–2017"
        },
        "xaxis": {
         "anchor": "y",
         "domain": [
          0,
          1
         ],
         "title": {
          "text": "Year"
         }
        },
        "yaxis": {
         "anchor": "x",
         "domain": [
          0,
          1
         ],
         "title": {
          "text": "Total Doctorate Recipients"
         }
        }
       }
      },
      "text/html": [
       "<div>\n",
       "        \n",
       "        \n",
       "            <div id=\"d4dbf233-ce7b-4d1d-9a74-6afb86b9d1f5\" class=\"plotly-graph-div\" style=\"height:525px; width:100%;\"></div>\n",
       "            <script type=\"text/javascript\">\n",
       "                require([\"plotly\"], function(Plotly) {\n",
       "                    window.PLOTLYENV=window.PLOTLYENV || {};\n",
       "                    \n",
       "                if (document.getElementById(\"d4dbf233-ce7b-4d1d-9a74-6afb86b9d1f5\")) {\n",
       "                    Plotly.newPlot(\n",
       "                        'd4dbf233-ce7b-4d1d-9a74-6afb86b9d1f5',\n",
       "                        [{\"hovertemplate\": \"Year=%{x}<br>Total Doctorate Recipients=%{y}<extra></extra>\", \"legendgroup\": \"\", \"line\": {\"color\": \"#636efa\", \"dash\": \"solid\"}, \"mode\": \"lines\", \"name\": \"\", \"orientation\": \"v\", \"showlegend\": false, \"type\": \"scatter\", \"x\": [1958, 1959, 1960, 1961, 1962, 1963, 1964, 1965, 1966, 1967, 1968, 1969, 1970, 1971, 1972, 1973, 1974, 1975, 1976, 1977, 1978, 1979, 1980, 1981, 1982, 1983, 1984, 1985, 1986, 1987, 1988, 1989, 1990, 1991, 1992, 1993, 1994, 1995, 1996, 1997, 1998, 1999, 2000, 2001, 2002, 2003, 2004, 2005, 2006, 2007, 2008, 2009, 2010, 2011, 2012, 2013, 2014, 2015, 2016, 2017], \"xaxis\": \"x\", \"y\": [8773, 9213, 9733, 10413, 11500, 12728, 14325, 16340, 17949, 20403, 22937, 25743, 29498, 31867, 33041, 33755, 33047, 32952, 32946, 31716, 30875, 31238, 31019, 31355, 31108, 31280, 31334, 31295, 31897, 32365, 33497, 34325, 36065, 37530, 38886, 39800, 41034, 41747, 42437, 42539, 42636, 41100, 41369, 40744, 40031, 40762, 42122, 43385, 45620, 48132, 48777, 49552, 48029, 48911, 50944, 52704, 53992, 54901, 54862, 54664], \"yaxis\": \"y\"}],\n",
       "                        {\"legend\": {\"tracegroupgap\": 0}, \"template\": {\"data\": {\"bar\": [{\"error_x\": {\"color\": \"#2a3f5f\"}, \"error_y\": {\"color\": \"#2a3f5f\"}, \"marker\": {\"line\": {\"color\": \"#E5ECF6\", \"width\": 0.5}}, \"type\": \"bar\"}], \"barpolar\": [{\"marker\": {\"line\": {\"color\": \"#E5ECF6\", \"width\": 0.5}}, \"type\": \"barpolar\"}], \"carpet\": [{\"aaxis\": {\"endlinecolor\": \"#2a3f5f\", \"gridcolor\": \"white\", \"linecolor\": \"white\", \"minorgridcolor\": \"white\", \"startlinecolor\": \"#2a3f5f\"}, \"baxis\": {\"endlinecolor\": \"#2a3f5f\", \"gridcolor\": \"white\", \"linecolor\": \"white\", \"minorgridcolor\": \"white\", \"startlinecolor\": \"#2a3f5f\"}, \"type\": \"carpet\"}], \"choropleth\": [{\"colorbar\": {\"outlinewidth\": 0, \"ticks\": \"\"}, \"type\": \"choropleth\"}], \"contour\": [{\"colorbar\": {\"outlinewidth\": 0, \"ticks\": \"\"}, \"colorscale\": [[0.0, \"#0d0887\"], [0.1111111111111111, \"#46039f\"], [0.2222222222222222, \"#7201a8\"], [0.3333333333333333, \"#9c179e\"], [0.4444444444444444, \"#bd3786\"], [0.5555555555555556, \"#d8576b\"], [0.6666666666666666, \"#ed7953\"], [0.7777777777777778, \"#fb9f3a\"], [0.8888888888888888, \"#fdca26\"], [1.0, \"#f0f921\"]], \"type\": \"contour\"}], \"contourcarpet\": [{\"colorbar\": {\"outlinewidth\": 0, \"ticks\": \"\"}, \"type\": \"contourcarpet\"}], \"heatmap\": [{\"colorbar\": {\"outlinewidth\": 0, \"ticks\": \"\"}, \"colorscale\": [[0.0, \"#0d0887\"], [0.1111111111111111, \"#46039f\"], [0.2222222222222222, \"#7201a8\"], [0.3333333333333333, \"#9c179e\"], [0.4444444444444444, \"#bd3786\"], [0.5555555555555556, \"#d8576b\"], [0.6666666666666666, \"#ed7953\"], [0.7777777777777778, \"#fb9f3a\"], [0.8888888888888888, \"#fdca26\"], [1.0, \"#f0f921\"]], \"type\": \"heatmap\"}], \"heatmapgl\": [{\"colorbar\": {\"outlinewidth\": 0, \"ticks\": \"\"}, \"colorscale\": [[0.0, \"#0d0887\"], [0.1111111111111111, \"#46039f\"], [0.2222222222222222, \"#7201a8\"], [0.3333333333333333, \"#9c179e\"], [0.4444444444444444, \"#bd3786\"], [0.5555555555555556, \"#d8576b\"], [0.6666666666666666, \"#ed7953\"], [0.7777777777777778, \"#fb9f3a\"], [0.8888888888888888, \"#fdca26\"], [1.0, \"#f0f921\"]], \"type\": \"heatmapgl\"}], \"histogram\": [{\"marker\": {\"colorbar\": {\"outlinewidth\": 0, \"ticks\": \"\"}}, \"type\": \"histogram\"}], \"histogram2d\": [{\"colorbar\": {\"outlinewidth\": 0, \"ticks\": \"\"}, \"colorscale\": [[0.0, \"#0d0887\"], [0.1111111111111111, \"#46039f\"], [0.2222222222222222, \"#7201a8\"], [0.3333333333333333, \"#9c179e\"], [0.4444444444444444, \"#bd3786\"], [0.5555555555555556, \"#d8576b\"], [0.6666666666666666, \"#ed7953\"], [0.7777777777777778, \"#fb9f3a\"], [0.8888888888888888, \"#fdca26\"], [1.0, \"#f0f921\"]], \"type\": \"histogram2d\"}], \"histogram2dcontour\": [{\"colorbar\": {\"outlinewidth\": 0, \"ticks\": \"\"}, \"colorscale\": [[0.0, \"#0d0887\"], [0.1111111111111111, \"#46039f\"], [0.2222222222222222, \"#7201a8\"], [0.3333333333333333, \"#9c179e\"], [0.4444444444444444, \"#bd3786\"], [0.5555555555555556, \"#d8576b\"], [0.6666666666666666, \"#ed7953\"], [0.7777777777777778, \"#fb9f3a\"], [0.8888888888888888, \"#fdca26\"], [1.0, \"#f0f921\"]], \"type\": \"histogram2dcontour\"}], \"mesh3d\": [{\"colorbar\": {\"outlinewidth\": 0, \"ticks\": \"\"}, \"type\": \"mesh3d\"}], \"parcoords\": [{\"line\": {\"colorbar\": {\"outlinewidth\": 0, \"ticks\": \"\"}}, \"type\": \"parcoords\"}], \"pie\": [{\"automargin\": true, \"type\": \"pie\"}], \"scatter\": [{\"marker\": {\"colorbar\": {\"outlinewidth\": 0, \"ticks\": \"\"}}, \"type\": \"scatter\"}], \"scatter3d\": [{\"line\": {\"colorbar\": {\"outlinewidth\": 0, \"ticks\": \"\"}}, \"marker\": {\"colorbar\": {\"outlinewidth\": 0, \"ticks\": \"\"}}, \"type\": \"scatter3d\"}], \"scattercarpet\": [{\"marker\": {\"colorbar\": {\"outlinewidth\": 0, \"ticks\": \"\"}}, \"type\": \"scattercarpet\"}], \"scattergeo\": [{\"marker\": {\"colorbar\": {\"outlinewidth\": 0, \"ticks\": \"\"}}, \"type\": \"scattergeo\"}], \"scattergl\": [{\"marker\": {\"colorbar\": {\"outlinewidth\": 0, \"ticks\": \"\"}}, \"type\": \"scattergl\"}], \"scattermapbox\": [{\"marker\": {\"colorbar\": {\"outlinewidth\": 0, \"ticks\": \"\"}}, \"type\": \"scattermapbox\"}], \"scatterpolar\": [{\"marker\": {\"colorbar\": {\"outlinewidth\": 0, \"ticks\": \"\"}}, \"type\": \"scatterpolar\"}], \"scatterpolargl\": [{\"marker\": {\"colorbar\": {\"outlinewidth\": 0, \"ticks\": \"\"}}, \"type\": \"scatterpolargl\"}], \"scatterternary\": [{\"marker\": {\"colorbar\": {\"outlinewidth\": 0, \"ticks\": \"\"}}, \"type\": \"scatterternary\"}], \"surface\": [{\"colorbar\": {\"outlinewidth\": 0, \"ticks\": \"\"}, \"colorscale\": [[0.0, \"#0d0887\"], [0.1111111111111111, \"#46039f\"], [0.2222222222222222, \"#7201a8\"], [0.3333333333333333, \"#9c179e\"], [0.4444444444444444, \"#bd3786\"], [0.5555555555555556, \"#d8576b\"], [0.6666666666666666, \"#ed7953\"], [0.7777777777777778, \"#fb9f3a\"], [0.8888888888888888, \"#fdca26\"], [1.0, \"#f0f921\"]], \"type\": \"surface\"}], \"table\": [{\"cells\": {\"fill\": {\"color\": \"#EBF0F8\"}, \"line\": {\"color\": \"white\"}}, \"header\": {\"fill\": {\"color\": \"#C8D4E3\"}, \"line\": {\"color\": \"white\"}}, \"type\": \"table\"}]}, \"layout\": {\"annotationdefaults\": {\"arrowcolor\": \"#2a3f5f\", \"arrowhead\": 0, \"arrowwidth\": 1}, \"coloraxis\": {\"colorbar\": {\"outlinewidth\": 0, \"ticks\": \"\"}}, \"colorscale\": {\"diverging\": [[0, \"#8e0152\"], [0.1, \"#c51b7d\"], [0.2, \"#de77ae\"], [0.3, \"#f1b6da\"], [0.4, \"#fde0ef\"], [0.5, \"#f7f7f7\"], [0.6, \"#e6f5d0\"], [0.7, \"#b8e186\"], [0.8, \"#7fbc41\"], [0.9, \"#4d9221\"], [1, \"#276419\"]], \"sequential\": [[0.0, \"#0d0887\"], [0.1111111111111111, \"#46039f\"], [0.2222222222222222, \"#7201a8\"], [0.3333333333333333, \"#9c179e\"], [0.4444444444444444, \"#bd3786\"], [0.5555555555555556, \"#d8576b\"], [0.6666666666666666, \"#ed7953\"], [0.7777777777777778, \"#fb9f3a\"], [0.8888888888888888, \"#fdca26\"], [1.0, \"#f0f921\"]], \"sequentialminus\": [[0.0, \"#0d0887\"], [0.1111111111111111, \"#46039f\"], [0.2222222222222222, \"#7201a8\"], [0.3333333333333333, \"#9c179e\"], [0.4444444444444444, \"#bd3786\"], [0.5555555555555556, \"#d8576b\"], [0.6666666666666666, \"#ed7953\"], [0.7777777777777778, \"#fb9f3a\"], [0.8888888888888888, \"#fdca26\"], [1.0, \"#f0f921\"]]}, \"colorway\": [\"#636efa\", \"#EF553B\", \"#00cc96\", \"#ab63fa\", \"#FFA15A\", \"#19d3f3\", \"#FF6692\", \"#B6E880\", \"#FF97FF\", \"#FECB52\"], \"font\": {\"color\": \"#2a3f5f\"}, \"geo\": {\"bgcolor\": \"white\", \"lakecolor\": \"white\", \"landcolor\": \"#E5ECF6\", \"showlakes\": true, \"showland\": true, \"subunitcolor\": \"white\"}, \"hoverlabel\": {\"align\": \"left\"}, \"hovermode\": \"closest\", \"mapbox\": {\"style\": \"light\"}, \"paper_bgcolor\": \"white\", \"plot_bgcolor\": \"#E5ECF6\", \"polar\": {\"angularaxis\": {\"gridcolor\": \"white\", \"linecolor\": \"white\", \"ticks\": \"\"}, \"bgcolor\": \"#E5ECF6\", \"radialaxis\": {\"gridcolor\": \"white\", \"linecolor\": \"white\", \"ticks\": \"\"}}, \"scene\": {\"xaxis\": {\"backgroundcolor\": \"#E5ECF6\", \"gridcolor\": \"white\", \"gridwidth\": 2, \"linecolor\": \"white\", \"showbackground\": true, \"ticks\": \"\", \"zerolinecolor\": \"white\"}, \"yaxis\": {\"backgroundcolor\": \"#E5ECF6\", \"gridcolor\": \"white\", \"gridwidth\": 2, \"linecolor\": \"white\", \"showbackground\": true, \"ticks\": \"\", \"zerolinecolor\": \"white\"}, \"zaxis\": {\"backgroundcolor\": \"#E5ECF6\", \"gridcolor\": \"white\", \"gridwidth\": 2, \"linecolor\": \"white\", \"showbackground\": true, \"ticks\": \"\", \"zerolinecolor\": \"white\"}}, \"shapedefaults\": {\"line\": {\"color\": \"#2a3f5f\"}}, \"ternary\": {\"aaxis\": {\"gridcolor\": \"white\", \"linecolor\": \"white\", \"ticks\": \"\"}, \"baxis\": {\"gridcolor\": \"white\", \"linecolor\": \"white\", \"ticks\": \"\"}, \"bgcolor\": \"#E5ECF6\", \"caxis\": {\"gridcolor\": \"white\", \"linecolor\": \"white\", \"ticks\": \"\"}}, \"title\": {\"x\": 0.05}, \"xaxis\": {\"automargin\": true, \"gridcolor\": \"white\", \"linecolor\": \"white\", \"ticks\": \"\", \"title\": {\"standoff\": 15}, \"zerolinecolor\": \"white\", \"zerolinewidth\": 2}, \"yaxis\": {\"automargin\": true, \"gridcolor\": \"white\", \"linecolor\": \"white\", \"ticks\": \"\", \"title\": {\"standoff\": 15}, \"zerolinecolor\": \"white\", \"zerolinewidth\": 2}}}, \"title\": {\"text\": \"Doctorate recipients from U.S. colleges and universities: 1958\\u20132017\"}, \"xaxis\": {\"anchor\": \"y\", \"domain\": [0.0, 1.0], \"title\": {\"text\": \"Year\"}}, \"yaxis\": {\"anchor\": \"x\", \"domain\": [0.0, 1.0], \"title\": {\"text\": \"Total Doctorate Recipients\"}}},\n",
       "                        {\"responsive\": true}\n",
       "                    ).then(function(){\n",
       "                            \n",
       "var gd = document.getElementById('d4dbf233-ce7b-4d1d-9a74-6afb86b9d1f5');\n",
       "var x = new MutationObserver(function (mutations, observer) {{\n",
       "        var display = window.getComputedStyle(gd).display;\n",
       "        if (!display || display === 'none') {{\n",
       "            console.log([gd, 'removed!']);\n",
       "            Plotly.purge(gd);\n",
       "            observer.disconnect();\n",
       "        }}\n",
       "}});\n",
       "\n",
       "// Listen for the removal of the full notebook cells\n",
       "var notebookContainer = gd.closest('#notebook-container');\n",
       "if (notebookContainer) {{\n",
       "    x.observe(notebookContainer, {childList: true});\n",
       "}}\n",
       "\n",
       "// Listen for the clearing of the current output cell\n",
       "var outputEl = gd.closest('.output');\n",
       "if (outputEl) {{\n",
       "    x.observe(outputEl, {childList: true});\n",
       "}}\n",
       "\n",
       "                        })\n",
       "                };\n",
       "                });\n",
       "            </script>\n",
       "        </div>"
      ]
     },
     "metadata": {},
     "output_type": "display_data"
    },
    {
     "data": {
      "application/vnd.plotly.v1+json": {
       "config": {
        "plotlyServerURL": "https://plot.ly"
       },
       "data": [
        {
         "hovertemplate": "Year=%{x}<br>Change Percentage=%{y}<extra></extra>",
         "legendgroup": "1958",
         "marker": {
          "color": "#636efa",
          "symbol": "circle"
         },
         "mode": "markers",
         "name": "1958",
         "orientation": "v",
         "showlegend": true,
         "type": "scatter",
         "x": [
          1958
         ],
         "xaxis": "x",
         "y": [
          "-%"
         ],
         "yaxis": "y"
        },
        {
         "hovertemplate": "Year=%{x}<br>Change Percentage=%{y}<extra></extra>",
         "legendgroup": "1959",
         "marker": {
          "color": "#EF553B",
          "symbol": "circle"
         },
         "mode": "markers",
         "name": "1959",
         "orientation": "v",
         "showlegend": true,
         "type": "scatter",
         "x": [
          1959
         ],
         "xaxis": "x",
         "y": [
          "5%"
         ],
         "yaxis": "y"
        },
        {
         "hovertemplate": "Year=%{x}<br>Change Percentage=%{y}<extra></extra>",
         "legendgroup": "1960",
         "marker": {
          "color": "#00cc96",
          "symbol": "circle"
         },
         "mode": "markers",
         "name": "1960",
         "orientation": "v",
         "showlegend": true,
         "type": "scatter",
         "x": [
          1960
         ],
         "xaxis": "x",
         "y": [
          "5.6%"
         ],
         "yaxis": "y"
        },
        {
         "hovertemplate": "Year=%{x}<br>Change Percentage=%{y}<extra></extra>",
         "legendgroup": "1961",
         "marker": {
          "color": "#ab63fa",
          "symbol": "circle"
         },
         "mode": "markers",
         "name": "1961",
         "orientation": "v",
         "showlegend": true,
         "type": "scatter",
         "x": [
          1961
         ],
         "xaxis": "x",
         "y": [
          "7%"
         ],
         "yaxis": "y"
        },
        {
         "hovertemplate": "Year=%{x}<br>Change Percentage=%{y}<extra></extra>",
         "legendgroup": "1962",
         "marker": {
          "color": "#FFA15A",
          "symbol": "circle"
         },
         "mode": "markers",
         "name": "1962",
         "orientation": "v",
         "showlegend": true,
         "type": "scatter",
         "x": [
          1962
         ],
         "xaxis": "x",
         "y": [
          "10.4%"
         ],
         "yaxis": "y"
        },
        {
         "hovertemplate": "Year=%{x}<br>Change Percentage=%{y}<extra></extra>",
         "legendgroup": "1963",
         "marker": {
          "color": "#19d3f3",
          "symbol": "circle"
         },
         "mode": "markers",
         "name": "1963",
         "orientation": "v",
         "showlegend": true,
         "type": "scatter",
         "x": [
          1963
         ],
         "xaxis": "x",
         "y": [
          "10.7%"
         ],
         "yaxis": "y"
        },
        {
         "hovertemplate": "Year=%{x}<br>Change Percentage=%{y}<extra></extra>",
         "legendgroup": "1964",
         "marker": {
          "color": "#FF6692",
          "symbol": "circle"
         },
         "mode": "markers",
         "name": "1964",
         "orientation": "v",
         "showlegend": true,
         "type": "scatter",
         "x": [
          1964
         ],
         "xaxis": "x",
         "y": [
          "12.5%"
         ],
         "yaxis": "y"
        },
        {
         "hovertemplate": "Year=%{x}<br>Change Percentage=%{y}<extra></extra>",
         "legendgroup": "1965",
         "marker": {
          "color": "#B6E880",
          "symbol": "circle"
         },
         "mode": "markers",
         "name": "1965",
         "orientation": "v",
         "showlegend": true,
         "type": "scatter",
         "x": [
          1965
         ],
         "xaxis": "x",
         "y": [
          "14.1%"
         ],
         "yaxis": "y"
        },
        {
         "hovertemplate": "Year=%{x}<br>Change Percentage=%{y}<extra></extra>",
         "legendgroup": "1966",
         "marker": {
          "color": "#FF97FF",
          "symbol": "circle"
         },
         "mode": "markers",
         "name": "1966",
         "orientation": "v",
         "showlegend": true,
         "type": "scatter",
         "x": [
          1966
         ],
         "xaxis": "x",
         "y": [
          "9.8%"
         ],
         "yaxis": "y"
        },
        {
         "hovertemplate": "Year=%{x}<br>Change Percentage=%{y}<extra></extra>",
         "legendgroup": "1967",
         "marker": {
          "color": "#FECB52",
          "symbol": "circle"
         },
         "mode": "markers",
         "name": "1967",
         "orientation": "v",
         "showlegend": true,
         "type": "scatter",
         "x": [
          1967
         ],
         "xaxis": "x",
         "y": [
          "13.7%"
         ],
         "yaxis": "y"
        },
        {
         "hovertemplate": "Year=%{x}<br>Change Percentage=%{y}<extra></extra>",
         "legendgroup": "1968",
         "marker": {
          "color": "#636efa",
          "symbol": "circle"
         },
         "mode": "markers",
         "name": "1968",
         "orientation": "v",
         "showlegend": true,
         "type": "scatter",
         "x": [
          1968
         ],
         "xaxis": "x",
         "y": [
          "12.4%"
         ],
         "yaxis": "y"
        },
        {
         "hovertemplate": "Year=%{x}<br>Change Percentage=%{y}<extra></extra>",
         "legendgroup": "1969",
         "marker": {
          "color": "#EF553B",
          "symbol": "circle"
         },
         "mode": "markers",
         "name": "1969",
         "orientation": "v",
         "showlegend": true,
         "type": "scatter",
         "x": [
          1969
         ],
         "xaxis": "x",
         "y": [
          "12.2%"
         ],
         "yaxis": "y"
        },
        {
         "hovertemplate": "Year=%{x}<br>Change Percentage=%{y}<extra></extra>",
         "legendgroup": "1970",
         "marker": {
          "color": "#00cc96",
          "symbol": "circle"
         },
         "mode": "markers",
         "name": "1970",
         "orientation": "v",
         "showlegend": true,
         "type": "scatter",
         "x": [
          1970
         ],
         "xaxis": "x",
         "y": [
          "14.6%"
         ],
         "yaxis": "y"
        },
        {
         "hovertemplate": "Year=%{x}<br>Change Percentage=%{y}<extra></extra>",
         "legendgroup": "1971",
         "marker": {
          "color": "#ab63fa",
          "symbol": "circle"
         },
         "mode": "markers",
         "name": "1971",
         "orientation": "v",
         "showlegend": true,
         "type": "scatter",
         "x": [
          1971
         ],
         "xaxis": "x",
         "y": [
          "8%"
         ],
         "yaxis": "y"
        },
        {
         "hovertemplate": "Year=%{x}<br>Change Percentage=%{y}<extra></extra>",
         "legendgroup": "1972",
         "marker": {
          "color": "#FFA15A",
          "symbol": "circle"
         },
         "mode": "markers",
         "name": "1972",
         "orientation": "v",
         "showlegend": true,
         "type": "scatter",
         "x": [
          1972
         ],
         "xaxis": "x",
         "y": [
          "3.7%"
         ],
         "yaxis": "y"
        },
        {
         "hovertemplate": "Year=%{x}<br>Change Percentage=%{y}<extra></extra>",
         "legendgroup": "1973",
         "marker": {
          "color": "#19d3f3",
          "symbol": "circle"
         },
         "mode": "markers",
         "name": "1973",
         "orientation": "v",
         "showlegend": true,
         "type": "scatter",
         "x": [
          1973
         ],
         "xaxis": "x",
         "y": [
          "2.2%"
         ],
         "yaxis": "y"
        },
        {
         "hovertemplate": "Year=%{x}<br>Change Percentage=%{y}<extra></extra>",
         "legendgroup": "1974",
         "marker": {
          "color": "#FF6692",
          "symbol": "circle"
         },
         "mode": "markers",
         "name": "1974",
         "orientation": "v",
         "showlegend": true,
         "type": "scatter",
         "x": [
          1974
         ],
         "xaxis": "x",
         "y": [
          "-2.1%"
         ],
         "yaxis": "y"
        },
        {
         "hovertemplate": "Year=%{x}<br>Change Percentage=%{y}<extra></extra>",
         "legendgroup": "1975",
         "marker": {
          "color": "#B6E880",
          "symbol": "circle"
         },
         "mode": "markers",
         "name": "1975",
         "orientation": "v",
         "showlegend": true,
         "type": "scatter",
         "x": [
          1975
         ],
         "xaxis": "x",
         "y": [
          "-0.3%"
         ],
         "yaxis": "y"
        },
        {
         "hovertemplate": "Year=%{x}<br>Change Percentage=%{y}<extra></extra>",
         "legendgroup": "1976",
         "marker": {
          "color": "#FF97FF",
          "symbol": "circle"
         },
         "mode": "markers",
         "name": "1976",
         "orientation": "v",
         "showlegend": true,
         "type": "scatter",
         "x": [
          1976
         ],
         "xaxis": "x",
         "y": [
          "*%"
         ],
         "yaxis": "y"
        },
        {
         "hovertemplate": "Year=%{x}<br>Change Percentage=%{y}<extra></extra>",
         "legendgroup": "1977",
         "marker": {
          "color": "#FECB52",
          "symbol": "circle"
         },
         "mode": "markers",
         "name": "1977",
         "orientation": "v",
         "showlegend": true,
         "type": "scatter",
         "x": [
          1977
         ],
         "xaxis": "x",
         "y": [
          "-3.7%"
         ],
         "yaxis": "y"
        },
        {
         "hovertemplate": "Year=%{x}<br>Change Percentage=%{y}<extra></extra>",
         "legendgroup": "1978",
         "marker": {
          "color": "#636efa",
          "symbol": "circle"
         },
         "mode": "markers",
         "name": "1978",
         "orientation": "v",
         "showlegend": true,
         "type": "scatter",
         "x": [
          1978
         ],
         "xaxis": "x",
         "y": [
          "-2.7%"
         ],
         "yaxis": "y"
        },
        {
         "hovertemplate": "Year=%{x}<br>Change Percentage=%{y}<extra></extra>",
         "legendgroup": "1979",
         "marker": {
          "color": "#EF553B",
          "symbol": "circle"
         },
         "mode": "markers",
         "name": "1979",
         "orientation": "v",
         "showlegend": true,
         "type": "scatter",
         "x": [
          1979
         ],
         "xaxis": "x",
         "y": [
          "1.2%"
         ],
         "yaxis": "y"
        },
        {
         "hovertemplate": "Year=%{x}<br>Change Percentage=%{y}<extra></extra>",
         "legendgroup": "1980",
         "marker": {
          "color": "#00cc96",
          "symbol": "circle"
         },
         "mode": "markers",
         "name": "1980",
         "orientation": "v",
         "showlegend": true,
         "type": "scatter",
         "x": [
          1980
         ],
         "xaxis": "x",
         "y": [
          "-0.7%"
         ],
         "yaxis": "y"
        },
        {
         "hovertemplate": "Year=%{x}<br>Change Percentage=%{y}<extra></extra>",
         "legendgroup": "1981",
         "marker": {
          "color": "#ab63fa",
          "symbol": "circle"
         },
         "mode": "markers",
         "name": "1981",
         "orientation": "v",
         "showlegend": true,
         "type": "scatter",
         "x": [
          1981
         ],
         "xaxis": "x",
         "y": [
          "1.1%"
         ],
         "yaxis": "y"
        },
        {
         "hovertemplate": "Year=%{x}<br>Change Percentage=%{y}<extra></extra>",
         "legendgroup": "1982",
         "marker": {
          "color": "#FFA15A",
          "symbol": "circle"
         },
         "mode": "markers",
         "name": "1982",
         "orientation": "v",
         "showlegend": true,
         "type": "scatter",
         "x": [
          1982
         ],
         "xaxis": "x",
         "y": [
          "-0.8%"
         ],
         "yaxis": "y"
        },
        {
         "hovertemplate": "Year=%{x}<br>Change Percentage=%{y}<extra></extra>",
         "legendgroup": "1983",
         "marker": {
          "color": "#19d3f3",
          "symbol": "circle"
         },
         "mode": "markers",
         "name": "1983",
         "orientation": "v",
         "showlegend": true,
         "type": "scatter",
         "x": [
          1983
         ],
         "xaxis": "x",
         "y": [
          "0.6%"
         ],
         "yaxis": "y"
        },
        {
         "hovertemplate": "Year=%{x}<br>Change Percentage=%{y}<extra></extra>",
         "legendgroup": "1984",
         "marker": {
          "color": "#FF6692",
          "symbol": "circle"
         },
         "mode": "markers",
         "name": "1984",
         "orientation": "v",
         "showlegend": true,
         "type": "scatter",
         "x": [
          1984
         ],
         "xaxis": "x",
         "y": [
          "0.2%"
         ],
         "yaxis": "y"
        },
        {
         "hovertemplate": "Year=%{x}<br>Change Percentage=%{y}<extra></extra>",
         "legendgroup": "1985",
         "marker": {
          "color": "#B6E880",
          "symbol": "circle"
         },
         "mode": "markers",
         "name": "1985",
         "orientation": "v",
         "showlegend": true,
         "type": "scatter",
         "x": [
          1985
         ],
         "xaxis": "x",
         "y": [
          "-0.1%"
         ],
         "yaxis": "y"
        },
        {
         "hovertemplate": "Year=%{x}<br>Change Percentage=%{y}<extra></extra>",
         "legendgroup": "1986",
         "marker": {
          "color": "#FF97FF",
          "symbol": "circle"
         },
         "mode": "markers",
         "name": "1986",
         "orientation": "v",
         "showlegend": true,
         "type": "scatter",
         "x": [
          1986
         ],
         "xaxis": "x",
         "y": [
          "1.9%"
         ],
         "yaxis": "y"
        },
        {
         "hovertemplate": "Year=%{x}<br>Change Percentage=%{y}<extra></extra>",
         "legendgroup": "1987",
         "marker": {
          "color": "#FECB52",
          "symbol": "circle"
         },
         "mode": "markers",
         "name": "1987",
         "orientation": "v",
         "showlegend": true,
         "type": "scatter",
         "x": [
          1987
         ],
         "xaxis": "x",
         "y": [
          "1.5%"
         ],
         "yaxis": "y"
        },
        {
         "hovertemplate": "Year=%{x}<br>Change Percentage=%{y}<extra></extra>",
         "legendgroup": "1988",
         "marker": {
          "color": "#636efa",
          "symbol": "circle"
         },
         "mode": "markers",
         "name": "1988",
         "orientation": "v",
         "showlegend": true,
         "type": "scatter",
         "x": [
          1988
         ],
         "xaxis": "x",
         "y": [
          "3.5%"
         ],
         "yaxis": "y"
        },
        {
         "hovertemplate": "Year=%{x}<br>Change Percentage=%{y}<extra></extra>",
         "legendgroup": "1989",
         "marker": {
          "color": "#EF553B",
          "symbol": "circle"
         },
         "mode": "markers",
         "name": "1989",
         "orientation": "v",
         "showlegend": true,
         "type": "scatter",
         "x": [
          1989
         ],
         "xaxis": "x",
         "y": [
          "2.5%"
         ],
         "yaxis": "y"
        },
        {
         "hovertemplate": "Year=%{x}<br>Change Percentage=%{y}<extra></extra>",
         "legendgroup": "1990",
         "marker": {
          "color": "#00cc96",
          "symbol": "circle"
         },
         "mode": "markers",
         "name": "1990",
         "orientation": "v",
         "showlegend": true,
         "type": "scatter",
         "x": [
          1990
         ],
         "xaxis": "x",
         "y": [
          "5.1%"
         ],
         "yaxis": "y"
        },
        {
         "hovertemplate": "Year=%{x}<br>Change Percentage=%{y}<extra></extra>",
         "legendgroup": "1991",
         "marker": {
          "color": "#ab63fa",
          "symbol": "circle"
         },
         "mode": "markers",
         "name": "1991",
         "orientation": "v",
         "showlegend": true,
         "type": "scatter",
         "x": [
          1991
         ],
         "xaxis": "x",
         "y": [
          "4.1%"
         ],
         "yaxis": "y"
        },
        {
         "hovertemplate": "Year=%{x}<br>Change Percentage=%{y}<extra></extra>",
         "legendgroup": "1992",
         "marker": {
          "color": "#FFA15A",
          "symbol": "circle"
         },
         "mode": "markers",
         "name": "1992",
         "orientation": "v",
         "showlegend": true,
         "type": "scatter",
         "x": [
          1992
         ],
         "xaxis": "x",
         "y": [
          "3.6%"
         ],
         "yaxis": "y"
        },
        {
         "hovertemplate": "Year=%{x}<br>Change Percentage=%{y}<extra></extra>",
         "legendgroup": "1993",
         "marker": {
          "color": "#19d3f3",
          "symbol": "circle"
         },
         "mode": "markers",
         "name": "1993",
         "orientation": "v",
         "showlegend": true,
         "type": "scatter",
         "x": [
          1993
         ],
         "xaxis": "x",
         "y": [
          "2.4%"
         ],
         "yaxis": "y"
        },
        {
         "hovertemplate": "Year=%{x}<br>Change Percentage=%{y}<extra></extra>",
         "legendgroup": "1994",
         "marker": {
          "color": "#FF6692",
          "symbol": "circle"
         },
         "mode": "markers",
         "name": "1994",
         "orientation": "v",
         "showlegend": true,
         "type": "scatter",
         "x": [
          1994
         ],
         "xaxis": "x",
         "y": [
          "3.1%"
         ],
         "yaxis": "y"
        },
        {
         "hovertemplate": "Year=%{x}<br>Change Percentage=%{y}<extra></extra>",
         "legendgroup": "1995",
         "marker": {
          "color": "#B6E880",
          "symbol": "circle"
         },
         "mode": "markers",
         "name": "1995",
         "orientation": "v",
         "showlegend": true,
         "type": "scatter",
         "x": [
          1995
         ],
         "xaxis": "x",
         "y": [
          "1.7%"
         ],
         "yaxis": "y"
        },
        {
         "hovertemplate": "Year=%{x}<br>Change Percentage=%{y}<extra></extra>",
         "legendgroup": "1996",
         "marker": {
          "color": "#FF97FF",
          "symbol": "circle"
         },
         "mode": "markers",
         "name": "1996",
         "orientation": "v",
         "showlegend": true,
         "type": "scatter",
         "x": [
          1996
         ],
         "xaxis": "x",
         "y": [
          "1.7%"
         ],
         "yaxis": "y"
        },
        {
         "hovertemplate": "Year=%{x}<br>Change Percentage=%{y}<extra></extra>",
         "legendgroup": "1997",
         "marker": {
          "color": "#FECB52",
          "symbol": "circle"
         },
         "mode": "markers",
         "name": "1997",
         "orientation": "v",
         "showlegend": true,
         "type": "scatter",
         "x": [
          1997
         ],
         "xaxis": "x",
         "y": [
          "0.2%"
         ],
         "yaxis": "y"
        },
        {
         "hovertemplate": "Year=%{x}<br>Change Percentage=%{y}<extra></extra>",
         "legendgroup": "1998",
         "marker": {
          "color": "#636efa",
          "symbol": "circle"
         },
         "mode": "markers",
         "name": "1998",
         "orientation": "v",
         "showlegend": true,
         "type": "scatter",
         "x": [
          1998
         ],
         "xaxis": "x",
         "y": [
          "0.2%"
         ],
         "yaxis": "y"
        },
        {
         "hovertemplate": "Year=%{x}<br>Change Percentage=%{y}<extra></extra>",
         "legendgroup": "1999",
         "marker": {
          "color": "#EF553B",
          "symbol": "circle"
         },
         "mode": "markers",
         "name": "1999",
         "orientation": "v",
         "showlegend": true,
         "type": "scatter",
         "x": [
          1999
         ],
         "xaxis": "x",
         "y": [
          "-3.6%"
         ],
         "yaxis": "y"
        },
        {
         "hovertemplate": "Year=%{x}<br>Change Percentage=%{y}<extra></extra>",
         "legendgroup": "2000",
         "marker": {
          "color": "#00cc96",
          "symbol": "circle"
         },
         "mode": "markers",
         "name": "2000",
         "orientation": "v",
         "showlegend": true,
         "type": "scatter",
         "x": [
          2000
         ],
         "xaxis": "x",
         "y": [
          "0.7%"
         ],
         "yaxis": "y"
        },
        {
         "hovertemplate": "Year=%{x}<br>Change Percentage=%{y}<extra></extra>",
         "legendgroup": "2001",
         "marker": {
          "color": "#ab63fa",
          "symbol": "circle"
         },
         "mode": "markers",
         "name": "2001",
         "orientation": "v",
         "showlegend": true,
         "type": "scatter",
         "x": [
          2001
         ],
         "xaxis": "x",
         "y": [
          "-1.5%"
         ],
         "yaxis": "y"
        },
        {
         "hovertemplate": "Year=%{x}<br>Change Percentage=%{y}<extra></extra>",
         "legendgroup": "2002",
         "marker": {
          "color": "#FFA15A",
          "symbol": "circle"
         },
         "mode": "markers",
         "name": "2002",
         "orientation": "v",
         "showlegend": true,
         "type": "scatter",
         "x": [
          2002
         ],
         "xaxis": "x",
         "y": [
          "-1.7%"
         ],
         "yaxis": "y"
        },
        {
         "hovertemplate": "Year=%{x}<br>Change Percentage=%{y}<extra></extra>",
         "legendgroup": "2003",
         "marker": {
          "color": "#19d3f3",
          "symbol": "circle"
         },
         "mode": "markers",
         "name": "2003",
         "orientation": "v",
         "showlegend": true,
         "type": "scatter",
         "x": [
          2003
         ],
         "xaxis": "x",
         "y": [
          "1.8%"
         ],
         "yaxis": "y"
        },
        {
         "hovertemplate": "Year=%{x}<br>Change Percentage=%{y}<extra></extra>",
         "legendgroup": "2004",
         "marker": {
          "color": "#FF6692",
          "symbol": "circle"
         },
         "mode": "markers",
         "name": "2004",
         "orientation": "v",
         "showlegend": true,
         "type": "scatter",
         "x": [
          2004
         ],
         "xaxis": "x",
         "y": [
          "3.3%"
         ],
         "yaxis": "y"
        },
        {
         "hovertemplate": "Year=%{x}<br>Change Percentage=%{y}<extra></extra>",
         "legendgroup": "2005",
         "marker": {
          "color": "#B6E880",
          "symbol": "circle"
         },
         "mode": "markers",
         "name": "2005",
         "orientation": "v",
         "showlegend": true,
         "type": "scatter",
         "x": [
          2005
         ],
         "xaxis": "x",
         "y": [
          "3%"
         ],
         "yaxis": "y"
        },
        {
         "hovertemplate": "Year=%{x}<br>Change Percentage=%{y}<extra></extra>",
         "legendgroup": "2006",
         "marker": {
          "color": "#FF97FF",
          "symbol": "circle"
         },
         "mode": "markers",
         "name": "2006",
         "orientation": "v",
         "showlegend": true,
         "type": "scatter",
         "x": [
          2006
         ],
         "xaxis": "x",
         "y": [
          "5.2%"
         ],
         "yaxis": "y"
        },
        {
         "hovertemplate": "Year=%{x}<br>Change Percentage=%{y}<extra></extra>",
         "legendgroup": "2007",
         "marker": {
          "color": "#FECB52",
          "symbol": "circle"
         },
         "mode": "markers",
         "name": "2007",
         "orientation": "v",
         "showlegend": true,
         "type": "scatter",
         "x": [
          2007
         ],
         "xaxis": "x",
         "y": [
          "5.5%"
         ],
         "yaxis": "y"
        },
        {
         "hovertemplate": "Year=%{x}<br>Change Percentage=%{y}<extra></extra>",
         "legendgroup": "2008",
         "marker": {
          "color": "#636efa",
          "symbol": "circle"
         },
         "mode": "markers",
         "name": "2008",
         "orientation": "v",
         "showlegend": true,
         "type": "scatter",
         "x": [
          2008
         ],
         "xaxis": "x",
         "y": [
          "1.3%"
         ],
         "yaxis": "y"
        },
        {
         "hovertemplate": "Year=%{x}<br>Change Percentage=%{y}<extra></extra>",
         "legendgroup": "2009",
         "marker": {
          "color": "#EF553B",
          "symbol": "circle"
         },
         "mode": "markers",
         "name": "2009",
         "orientation": "v",
         "showlegend": true,
         "type": "scatter",
         "x": [
          2009
         ],
         "xaxis": "x",
         "y": [
          "1.6%"
         ],
         "yaxis": "y"
        },
        {
         "hovertemplate": "Year=%{x}<br>Change Percentage=%{y}<extra></extra>",
         "legendgroup": "2010",
         "marker": {
          "color": "#00cc96",
          "symbol": "circle"
         },
         "mode": "markers",
         "name": "2010",
         "orientation": "v",
         "showlegend": true,
         "type": "scatter",
         "x": [
          2010
         ],
         "xaxis": "x",
         "y": [
          "-3.1%"
         ],
         "yaxis": "y"
        },
        {
         "hovertemplate": "Year=%{x}<br>Change Percentage=%{y}<extra></extra>",
         "legendgroup": "2011",
         "marker": {
          "color": "#ab63fa",
          "symbol": "circle"
         },
         "mode": "markers",
         "name": "2011",
         "orientation": "v",
         "showlegend": true,
         "type": "scatter",
         "x": [
          2011
         ],
         "xaxis": "x",
         "y": [
          "1.8%"
         ],
         "yaxis": "y"
        },
        {
         "hovertemplate": "Year=%{x}<br>Change Percentage=%{y}<extra></extra>",
         "legendgroup": "2012",
         "marker": {
          "color": "#FFA15A",
          "symbol": "circle"
         },
         "mode": "markers",
         "name": "2012",
         "orientation": "v",
         "showlegend": true,
         "type": "scatter",
         "x": [
          2012
         ],
         "xaxis": "x",
         "y": [
          "4.2%"
         ],
         "yaxis": "y"
        },
        {
         "hovertemplate": "Year=%{x}<br>Change Percentage=%{y}<extra></extra>",
         "legendgroup": "2013",
         "marker": {
          "color": "#19d3f3",
          "symbol": "circle"
         },
         "mode": "markers",
         "name": "2013",
         "orientation": "v",
         "showlegend": true,
         "type": "scatter",
         "x": [
          2013
         ],
         "xaxis": "x",
         "y": [
          "3.5%"
         ],
         "yaxis": "y"
        },
        {
         "hovertemplate": "Year=%{x}<br>Change Percentage=%{y}<extra></extra>",
         "legendgroup": "2014",
         "marker": {
          "color": "#FF6692",
          "symbol": "circle"
         },
         "mode": "markers",
         "name": "2014",
         "orientation": "v",
         "showlegend": true,
         "type": "scatter",
         "x": [
          2014
         ],
         "xaxis": "x",
         "y": [
          "2.4%"
         ],
         "yaxis": "y"
        },
        {
         "hovertemplate": "Year=%{x}<br>Change Percentage=%{y}<extra></extra>",
         "legendgroup": "2015",
         "marker": {
          "color": "#B6E880",
          "symbol": "circle"
         },
         "mode": "markers",
         "name": "2015",
         "orientation": "v",
         "showlegend": true,
         "type": "scatter",
         "x": [
          2015
         ],
         "xaxis": "x",
         "y": [
          "1.7%"
         ],
         "yaxis": "y"
        },
        {
         "hovertemplate": "Year=%{x}<br>Change Percentage=%{y}<extra></extra>",
         "legendgroup": "2016",
         "marker": {
          "color": "#FF97FF",
          "symbol": "circle"
         },
         "mode": "markers",
         "name": "2016",
         "orientation": "v",
         "showlegend": true,
         "type": "scatter",
         "x": [
          2016
         ],
         "xaxis": "x",
         "y": [
          "-0.1%"
         ],
         "yaxis": "y"
        },
        {
         "hovertemplate": "Year=%{x}<br>Change Percentage=%{y}<extra></extra>",
         "legendgroup": "2017",
         "marker": {
          "color": "#FECB52",
          "symbol": "circle"
         },
         "mode": "markers",
         "name": "2017",
         "orientation": "v",
         "showlegend": true,
         "type": "scatter",
         "x": [
          2017
         ],
         "xaxis": "x",
         "y": [
          "-0.4%"
         ],
         "yaxis": "y"
        }
       ],
       "layout": {
        "legend": {
         "title": {
          "text": "Year"
         },
         "tracegroupgap": 0
        },
        "template": {
         "data": {
          "bar": [
           {
            "error_x": {
             "color": "#2a3f5f"
            },
            "error_y": {
             "color": "#2a3f5f"
            },
            "marker": {
             "line": {
              "color": "#E5ECF6",
              "width": 0.5
             }
            },
            "type": "bar"
           }
          ],
          "barpolar": [
           {
            "marker": {
             "line": {
              "color": "#E5ECF6",
              "width": 0.5
             }
            },
            "type": "barpolar"
           }
          ],
          "carpet": [
           {
            "aaxis": {
             "endlinecolor": "#2a3f5f",
             "gridcolor": "white",
             "linecolor": "white",
             "minorgridcolor": "white",
             "startlinecolor": "#2a3f5f"
            },
            "baxis": {
             "endlinecolor": "#2a3f5f",
             "gridcolor": "white",
             "linecolor": "white",
             "minorgridcolor": "white",
             "startlinecolor": "#2a3f5f"
            },
            "type": "carpet"
           }
          ],
          "choropleth": [
           {
            "colorbar": {
             "outlinewidth": 0,
             "ticks": ""
            },
            "type": "choropleth"
           }
          ],
          "contour": [
           {
            "colorbar": {
             "outlinewidth": 0,
             "ticks": ""
            },
            "colorscale": [
             [
              0,
              "#0d0887"
             ],
             [
              0.1111111111111111,
              "#46039f"
             ],
             [
              0.2222222222222222,
              "#7201a8"
             ],
             [
              0.3333333333333333,
              "#9c179e"
             ],
             [
              0.4444444444444444,
              "#bd3786"
             ],
             [
              0.5555555555555556,
              "#d8576b"
             ],
             [
              0.6666666666666666,
              "#ed7953"
             ],
             [
              0.7777777777777778,
              "#fb9f3a"
             ],
             [
              0.8888888888888888,
              "#fdca26"
             ],
             [
              1,
              "#f0f921"
             ]
            ],
            "type": "contour"
           }
          ],
          "contourcarpet": [
           {
            "colorbar": {
             "outlinewidth": 0,
             "ticks": ""
            },
            "type": "contourcarpet"
           }
          ],
          "heatmap": [
           {
            "colorbar": {
             "outlinewidth": 0,
             "ticks": ""
            },
            "colorscale": [
             [
              0,
              "#0d0887"
             ],
             [
              0.1111111111111111,
              "#46039f"
             ],
             [
              0.2222222222222222,
              "#7201a8"
             ],
             [
              0.3333333333333333,
              "#9c179e"
             ],
             [
              0.4444444444444444,
              "#bd3786"
             ],
             [
              0.5555555555555556,
              "#d8576b"
             ],
             [
              0.6666666666666666,
              "#ed7953"
             ],
             [
              0.7777777777777778,
              "#fb9f3a"
             ],
             [
              0.8888888888888888,
              "#fdca26"
             ],
             [
              1,
              "#f0f921"
             ]
            ],
            "type": "heatmap"
           }
          ],
          "heatmapgl": [
           {
            "colorbar": {
             "outlinewidth": 0,
             "ticks": ""
            },
            "colorscale": [
             [
              0,
              "#0d0887"
             ],
             [
              0.1111111111111111,
              "#46039f"
             ],
             [
              0.2222222222222222,
              "#7201a8"
             ],
             [
              0.3333333333333333,
              "#9c179e"
             ],
             [
              0.4444444444444444,
              "#bd3786"
             ],
             [
              0.5555555555555556,
              "#d8576b"
             ],
             [
              0.6666666666666666,
              "#ed7953"
             ],
             [
              0.7777777777777778,
              "#fb9f3a"
             ],
             [
              0.8888888888888888,
              "#fdca26"
             ],
             [
              1,
              "#f0f921"
             ]
            ],
            "type": "heatmapgl"
           }
          ],
          "histogram": [
           {
            "marker": {
             "colorbar": {
              "outlinewidth": 0,
              "ticks": ""
             }
            },
            "type": "histogram"
           }
          ],
          "histogram2d": [
           {
            "colorbar": {
             "outlinewidth": 0,
             "ticks": ""
            },
            "colorscale": [
             [
              0,
              "#0d0887"
             ],
             [
              0.1111111111111111,
              "#46039f"
             ],
             [
              0.2222222222222222,
              "#7201a8"
             ],
             [
              0.3333333333333333,
              "#9c179e"
             ],
             [
              0.4444444444444444,
              "#bd3786"
             ],
             [
              0.5555555555555556,
              "#d8576b"
             ],
             [
              0.6666666666666666,
              "#ed7953"
             ],
             [
              0.7777777777777778,
              "#fb9f3a"
             ],
             [
              0.8888888888888888,
              "#fdca26"
             ],
             [
              1,
              "#f0f921"
             ]
            ],
            "type": "histogram2d"
           }
          ],
          "histogram2dcontour": [
           {
            "colorbar": {
             "outlinewidth": 0,
             "ticks": ""
            },
            "colorscale": [
             [
              0,
              "#0d0887"
             ],
             [
              0.1111111111111111,
              "#46039f"
             ],
             [
              0.2222222222222222,
              "#7201a8"
             ],
             [
              0.3333333333333333,
              "#9c179e"
             ],
             [
              0.4444444444444444,
              "#bd3786"
             ],
             [
              0.5555555555555556,
              "#d8576b"
             ],
             [
              0.6666666666666666,
              "#ed7953"
             ],
             [
              0.7777777777777778,
              "#fb9f3a"
             ],
             [
              0.8888888888888888,
              "#fdca26"
             ],
             [
              1,
              "#f0f921"
             ]
            ],
            "type": "histogram2dcontour"
           }
          ],
          "mesh3d": [
           {
            "colorbar": {
             "outlinewidth": 0,
             "ticks": ""
            },
            "type": "mesh3d"
           }
          ],
          "parcoords": [
           {
            "line": {
             "colorbar": {
              "outlinewidth": 0,
              "ticks": ""
             }
            },
            "type": "parcoords"
           }
          ],
          "pie": [
           {
            "automargin": true,
            "type": "pie"
           }
          ],
          "scatter": [
           {
            "marker": {
             "colorbar": {
              "outlinewidth": 0,
              "ticks": ""
             }
            },
            "type": "scatter"
           }
          ],
          "scatter3d": [
           {
            "line": {
             "colorbar": {
              "outlinewidth": 0,
              "ticks": ""
             }
            },
            "marker": {
             "colorbar": {
              "outlinewidth": 0,
              "ticks": ""
             }
            },
            "type": "scatter3d"
           }
          ],
          "scattercarpet": [
           {
            "marker": {
             "colorbar": {
              "outlinewidth": 0,
              "ticks": ""
             }
            },
            "type": "scattercarpet"
           }
          ],
          "scattergeo": [
           {
            "marker": {
             "colorbar": {
              "outlinewidth": 0,
              "ticks": ""
             }
            },
            "type": "scattergeo"
           }
          ],
          "scattergl": [
           {
            "marker": {
             "colorbar": {
              "outlinewidth": 0,
              "ticks": ""
             }
            },
            "type": "scattergl"
           }
          ],
          "scattermapbox": [
           {
            "marker": {
             "colorbar": {
              "outlinewidth": 0,
              "ticks": ""
             }
            },
            "type": "scattermapbox"
           }
          ],
          "scatterpolar": [
           {
            "marker": {
             "colorbar": {
              "outlinewidth": 0,
              "ticks": ""
             }
            },
            "type": "scatterpolar"
           }
          ],
          "scatterpolargl": [
           {
            "marker": {
             "colorbar": {
              "outlinewidth": 0,
              "ticks": ""
             }
            },
            "type": "scatterpolargl"
           }
          ],
          "scatterternary": [
           {
            "marker": {
             "colorbar": {
              "outlinewidth": 0,
              "ticks": ""
             }
            },
            "type": "scatterternary"
           }
          ],
          "surface": [
           {
            "colorbar": {
             "outlinewidth": 0,
             "ticks": ""
            },
            "colorscale": [
             [
              0,
              "#0d0887"
             ],
             [
              0.1111111111111111,
              "#46039f"
             ],
             [
              0.2222222222222222,
              "#7201a8"
             ],
             [
              0.3333333333333333,
              "#9c179e"
             ],
             [
              0.4444444444444444,
              "#bd3786"
             ],
             [
              0.5555555555555556,
              "#d8576b"
             ],
             [
              0.6666666666666666,
              "#ed7953"
             ],
             [
              0.7777777777777778,
              "#fb9f3a"
             ],
             [
              0.8888888888888888,
              "#fdca26"
             ],
             [
              1,
              "#f0f921"
             ]
            ],
            "type": "surface"
           }
          ],
          "table": [
           {
            "cells": {
             "fill": {
              "color": "#EBF0F8"
             },
             "line": {
              "color": "white"
             }
            },
            "header": {
             "fill": {
              "color": "#C8D4E3"
             },
             "line": {
              "color": "white"
             }
            },
            "type": "table"
           }
          ]
         },
         "layout": {
          "annotationdefaults": {
           "arrowcolor": "#2a3f5f",
           "arrowhead": 0,
           "arrowwidth": 1
          },
          "coloraxis": {
           "colorbar": {
            "outlinewidth": 0,
            "ticks": ""
           }
          },
          "colorscale": {
           "diverging": [
            [
             0,
             "#8e0152"
            ],
            [
             0.1,
             "#c51b7d"
            ],
            [
             0.2,
             "#de77ae"
            ],
            [
             0.3,
             "#f1b6da"
            ],
            [
             0.4,
             "#fde0ef"
            ],
            [
             0.5,
             "#f7f7f7"
            ],
            [
             0.6,
             "#e6f5d0"
            ],
            [
             0.7,
             "#b8e186"
            ],
            [
             0.8,
             "#7fbc41"
            ],
            [
             0.9,
             "#4d9221"
            ],
            [
             1,
             "#276419"
            ]
           ],
           "sequential": [
            [
             0,
             "#0d0887"
            ],
            [
             0.1111111111111111,
             "#46039f"
            ],
            [
             0.2222222222222222,
             "#7201a8"
            ],
            [
             0.3333333333333333,
             "#9c179e"
            ],
            [
             0.4444444444444444,
             "#bd3786"
            ],
            [
             0.5555555555555556,
             "#d8576b"
            ],
            [
             0.6666666666666666,
             "#ed7953"
            ],
            [
             0.7777777777777778,
             "#fb9f3a"
            ],
            [
             0.8888888888888888,
             "#fdca26"
            ],
            [
             1,
             "#f0f921"
            ]
           ],
           "sequentialminus": [
            [
             0,
             "#0d0887"
            ],
            [
             0.1111111111111111,
             "#46039f"
            ],
            [
             0.2222222222222222,
             "#7201a8"
            ],
            [
             0.3333333333333333,
             "#9c179e"
            ],
            [
             0.4444444444444444,
             "#bd3786"
            ],
            [
             0.5555555555555556,
             "#d8576b"
            ],
            [
             0.6666666666666666,
             "#ed7953"
            ],
            [
             0.7777777777777778,
             "#fb9f3a"
            ],
            [
             0.8888888888888888,
             "#fdca26"
            ],
            [
             1,
             "#f0f921"
            ]
           ]
          },
          "colorway": [
           "#636efa",
           "#EF553B",
           "#00cc96",
           "#ab63fa",
           "#FFA15A",
           "#19d3f3",
           "#FF6692",
           "#B6E880",
           "#FF97FF",
           "#FECB52"
          ],
          "font": {
           "color": "#2a3f5f"
          },
          "geo": {
           "bgcolor": "white",
           "lakecolor": "white",
           "landcolor": "#E5ECF6",
           "showlakes": true,
           "showland": true,
           "subunitcolor": "white"
          },
          "hoverlabel": {
           "align": "left"
          },
          "hovermode": "closest",
          "mapbox": {
           "style": "light"
          },
          "paper_bgcolor": "white",
          "plot_bgcolor": "#E5ECF6",
          "polar": {
           "angularaxis": {
            "gridcolor": "white",
            "linecolor": "white",
            "ticks": ""
           },
           "bgcolor": "#E5ECF6",
           "radialaxis": {
            "gridcolor": "white",
            "linecolor": "white",
            "ticks": ""
           }
          },
          "scene": {
           "xaxis": {
            "backgroundcolor": "#E5ECF6",
            "gridcolor": "white",
            "gridwidth": 2,
            "linecolor": "white",
            "showbackground": true,
            "ticks": "",
            "zerolinecolor": "white"
           },
           "yaxis": {
            "backgroundcolor": "#E5ECF6",
            "gridcolor": "white",
            "gridwidth": 2,
            "linecolor": "white",
            "showbackground": true,
            "ticks": "",
            "zerolinecolor": "white"
           },
           "zaxis": {
            "backgroundcolor": "#E5ECF6",
            "gridcolor": "white",
            "gridwidth": 2,
            "linecolor": "white",
            "showbackground": true,
            "ticks": "",
            "zerolinecolor": "white"
           }
          },
          "shapedefaults": {
           "line": {
            "color": "#2a3f5f"
           }
          },
          "ternary": {
           "aaxis": {
            "gridcolor": "white",
            "linecolor": "white",
            "ticks": ""
           },
           "baxis": {
            "gridcolor": "white",
            "linecolor": "white",
            "ticks": ""
           },
           "bgcolor": "#E5ECF6",
           "caxis": {
            "gridcolor": "white",
            "linecolor": "white",
            "ticks": ""
           }
          },
          "title": {
           "x": 0.05
          },
          "xaxis": {
           "automargin": true,
           "gridcolor": "white",
           "linecolor": "white",
           "ticks": "",
           "title": {
            "standoff": 15
           },
           "zerolinecolor": "white",
           "zerolinewidth": 2
          },
          "yaxis": {
           "automargin": true,
           "gridcolor": "white",
           "linecolor": "white",
           "ticks": "",
           "title": {
            "standoff": 15
           },
           "zerolinecolor": "white",
           "zerolinewidth": 2
          }
         }
        },
        "title": {
         "text": "Percentage change from last year"
        },
        "xaxis": {
         "anchor": "y",
         "categoryarray": [
          1958,
          1959,
          1960,
          1961,
          1962,
          1963,
          1964,
          1965,
          1966,
          1967,
          1968,
          1969,
          1970,
          1971,
          1972,
          1973,
          1974,
          1975,
          1976,
          1977,
          1978,
          1979,
          1980,
          1981,
          1982,
          1983,
          1984,
          1985,
          1986,
          1987,
          1988,
          1989,
          1990,
          1991,
          1992,
          1993,
          1994,
          1995,
          1996,
          1997,
          1998,
          1999,
          2000,
          2001,
          2002,
          2003,
          2004,
          2005,
          2006,
          2007,
          2008,
          2009,
          2010,
          2011,
          2012,
          2013,
          2014,
          2015,
          2016,
          2017
         ],
         "categoryorder": "array",
         "domain": [
          0,
          1
         ],
         "title": {
          "text": "Year"
         }
        },
        "yaxis": {
         "anchor": "x",
         "domain": [
          0,
          1
         ],
         "title": {
          "text": "Change Percentage"
         }
        }
       }
      },
      "text/html": [
       "<div>\n",
       "        \n",
       "        \n",
       "            <div id=\"b29d916d-137e-4bd6-85b9-eb427351035a\" class=\"plotly-graph-div\" style=\"height:525px; width:100%;\"></div>\n",
       "            <script type=\"text/javascript\">\n",
       "                require([\"plotly\"], function(Plotly) {\n",
       "                    window.PLOTLYENV=window.PLOTLYENV || {};\n",
       "                    \n",
       "                if (document.getElementById(\"b29d916d-137e-4bd6-85b9-eb427351035a\")) {\n",
       "                    Plotly.newPlot(\n",
       "                        'b29d916d-137e-4bd6-85b9-eb427351035a',\n",
       "                        [{\"hovertemplate\": \"Year=%{x}<br>Change Percentage=%{y}<extra></extra>\", \"legendgroup\": \"1958\", \"marker\": {\"color\": \"#636efa\", \"symbol\": \"circle\"}, \"mode\": \"markers\", \"name\": \"1958\", \"orientation\": \"v\", \"showlegend\": true, \"type\": \"scatter\", \"x\": [1958], \"xaxis\": \"x\", \"y\": [\"-%\"], \"yaxis\": \"y\"}, {\"hovertemplate\": \"Year=%{x}<br>Change Percentage=%{y}<extra></extra>\", \"legendgroup\": \"1959\", \"marker\": {\"color\": \"#EF553B\", \"symbol\": \"circle\"}, \"mode\": \"markers\", \"name\": \"1959\", \"orientation\": \"v\", \"showlegend\": true, \"type\": \"scatter\", \"x\": [1959], \"xaxis\": \"x\", \"y\": [\"5%\"], \"yaxis\": \"y\"}, {\"hovertemplate\": \"Year=%{x}<br>Change Percentage=%{y}<extra></extra>\", \"legendgroup\": \"1960\", \"marker\": {\"color\": \"#00cc96\", \"symbol\": \"circle\"}, \"mode\": \"markers\", \"name\": \"1960\", \"orientation\": \"v\", \"showlegend\": true, \"type\": \"scatter\", \"x\": [1960], \"xaxis\": \"x\", \"y\": [\"5.6%\"], \"yaxis\": \"y\"}, {\"hovertemplate\": \"Year=%{x}<br>Change Percentage=%{y}<extra></extra>\", \"legendgroup\": \"1961\", \"marker\": {\"color\": \"#ab63fa\", \"symbol\": \"circle\"}, \"mode\": \"markers\", \"name\": \"1961\", \"orientation\": \"v\", \"showlegend\": true, \"type\": \"scatter\", \"x\": [1961], \"xaxis\": \"x\", \"y\": [\"7%\"], \"yaxis\": \"y\"}, {\"hovertemplate\": \"Year=%{x}<br>Change Percentage=%{y}<extra></extra>\", \"legendgroup\": \"1962\", \"marker\": {\"color\": \"#FFA15A\", \"symbol\": \"circle\"}, \"mode\": \"markers\", \"name\": \"1962\", \"orientation\": \"v\", \"showlegend\": true, \"type\": \"scatter\", \"x\": [1962], \"xaxis\": \"x\", \"y\": [\"10.4%\"], \"yaxis\": \"y\"}, {\"hovertemplate\": \"Year=%{x}<br>Change Percentage=%{y}<extra></extra>\", \"legendgroup\": \"1963\", \"marker\": {\"color\": \"#19d3f3\", \"symbol\": \"circle\"}, \"mode\": \"markers\", \"name\": \"1963\", \"orientation\": \"v\", \"showlegend\": true, \"type\": \"scatter\", \"x\": [1963], \"xaxis\": \"x\", \"y\": [\"10.7%\"], \"yaxis\": \"y\"}, {\"hovertemplate\": \"Year=%{x}<br>Change Percentage=%{y}<extra></extra>\", \"legendgroup\": \"1964\", \"marker\": {\"color\": \"#FF6692\", \"symbol\": \"circle\"}, \"mode\": \"markers\", \"name\": \"1964\", \"orientation\": \"v\", \"showlegend\": true, \"type\": \"scatter\", \"x\": [1964], \"xaxis\": \"x\", \"y\": [\"12.5%\"], \"yaxis\": \"y\"}, {\"hovertemplate\": \"Year=%{x}<br>Change Percentage=%{y}<extra></extra>\", \"legendgroup\": \"1965\", \"marker\": {\"color\": \"#B6E880\", \"symbol\": \"circle\"}, \"mode\": \"markers\", \"name\": \"1965\", \"orientation\": \"v\", \"showlegend\": true, \"type\": \"scatter\", \"x\": [1965], \"xaxis\": \"x\", \"y\": [\"14.1%\"], \"yaxis\": \"y\"}, {\"hovertemplate\": \"Year=%{x}<br>Change Percentage=%{y}<extra></extra>\", \"legendgroup\": \"1966\", \"marker\": {\"color\": \"#FF97FF\", \"symbol\": \"circle\"}, \"mode\": \"markers\", \"name\": \"1966\", \"orientation\": \"v\", \"showlegend\": true, \"type\": \"scatter\", \"x\": [1966], \"xaxis\": \"x\", \"y\": [\"9.8%\"], \"yaxis\": \"y\"}, {\"hovertemplate\": \"Year=%{x}<br>Change Percentage=%{y}<extra></extra>\", \"legendgroup\": \"1967\", \"marker\": {\"color\": \"#FECB52\", \"symbol\": \"circle\"}, \"mode\": \"markers\", \"name\": \"1967\", \"orientation\": \"v\", \"showlegend\": true, \"type\": \"scatter\", \"x\": [1967], \"xaxis\": \"x\", \"y\": [\"13.7%\"], \"yaxis\": \"y\"}, {\"hovertemplate\": \"Year=%{x}<br>Change Percentage=%{y}<extra></extra>\", \"legendgroup\": \"1968\", \"marker\": {\"color\": \"#636efa\", \"symbol\": \"circle\"}, \"mode\": \"markers\", \"name\": \"1968\", \"orientation\": \"v\", \"showlegend\": true, \"type\": \"scatter\", \"x\": [1968], \"xaxis\": \"x\", \"y\": [\"12.4%\"], \"yaxis\": \"y\"}, {\"hovertemplate\": \"Year=%{x}<br>Change Percentage=%{y}<extra></extra>\", \"legendgroup\": \"1969\", \"marker\": {\"color\": \"#EF553B\", \"symbol\": \"circle\"}, \"mode\": \"markers\", \"name\": \"1969\", \"orientation\": \"v\", \"showlegend\": true, \"type\": \"scatter\", \"x\": [1969], \"xaxis\": \"x\", \"y\": [\"12.2%\"], \"yaxis\": \"y\"}, {\"hovertemplate\": \"Year=%{x}<br>Change Percentage=%{y}<extra></extra>\", \"legendgroup\": \"1970\", \"marker\": {\"color\": \"#00cc96\", \"symbol\": \"circle\"}, \"mode\": \"markers\", \"name\": \"1970\", \"orientation\": \"v\", \"showlegend\": true, \"type\": \"scatter\", \"x\": [1970], \"xaxis\": \"x\", \"y\": [\"14.6%\"], \"yaxis\": \"y\"}, {\"hovertemplate\": \"Year=%{x}<br>Change Percentage=%{y}<extra></extra>\", \"legendgroup\": \"1971\", \"marker\": {\"color\": \"#ab63fa\", \"symbol\": \"circle\"}, \"mode\": \"markers\", \"name\": \"1971\", \"orientation\": \"v\", \"showlegend\": true, \"type\": \"scatter\", \"x\": [1971], \"xaxis\": \"x\", \"y\": [\"8%\"], \"yaxis\": \"y\"}, {\"hovertemplate\": \"Year=%{x}<br>Change Percentage=%{y}<extra></extra>\", \"legendgroup\": \"1972\", \"marker\": {\"color\": \"#FFA15A\", \"symbol\": \"circle\"}, \"mode\": \"markers\", \"name\": \"1972\", \"orientation\": \"v\", \"showlegend\": true, \"type\": \"scatter\", \"x\": [1972], \"xaxis\": \"x\", \"y\": [\"3.7%\"], \"yaxis\": \"y\"}, {\"hovertemplate\": \"Year=%{x}<br>Change Percentage=%{y}<extra></extra>\", \"legendgroup\": \"1973\", \"marker\": {\"color\": \"#19d3f3\", \"symbol\": \"circle\"}, \"mode\": \"markers\", \"name\": \"1973\", \"orientation\": \"v\", \"showlegend\": true, \"type\": \"scatter\", \"x\": [1973], \"xaxis\": \"x\", \"y\": [\"2.2%\"], \"yaxis\": \"y\"}, {\"hovertemplate\": \"Year=%{x}<br>Change Percentage=%{y}<extra></extra>\", \"legendgroup\": \"1974\", \"marker\": {\"color\": \"#FF6692\", \"symbol\": \"circle\"}, \"mode\": \"markers\", \"name\": \"1974\", \"orientation\": \"v\", \"showlegend\": true, \"type\": \"scatter\", \"x\": [1974], \"xaxis\": \"x\", \"y\": [\"-2.1%\"], \"yaxis\": \"y\"}, {\"hovertemplate\": \"Year=%{x}<br>Change Percentage=%{y}<extra></extra>\", \"legendgroup\": \"1975\", \"marker\": {\"color\": \"#B6E880\", \"symbol\": \"circle\"}, \"mode\": \"markers\", \"name\": \"1975\", \"orientation\": \"v\", \"showlegend\": true, \"type\": \"scatter\", \"x\": [1975], \"xaxis\": \"x\", \"y\": [\"-0.3%\"], \"yaxis\": \"y\"}, {\"hovertemplate\": \"Year=%{x}<br>Change Percentage=%{y}<extra></extra>\", \"legendgroup\": \"1976\", \"marker\": {\"color\": \"#FF97FF\", \"symbol\": \"circle\"}, \"mode\": \"markers\", \"name\": \"1976\", \"orientation\": \"v\", \"showlegend\": true, \"type\": \"scatter\", \"x\": [1976], \"xaxis\": \"x\", \"y\": [\"*%\"], \"yaxis\": \"y\"}, {\"hovertemplate\": \"Year=%{x}<br>Change Percentage=%{y}<extra></extra>\", \"legendgroup\": \"1977\", \"marker\": {\"color\": \"#FECB52\", \"symbol\": \"circle\"}, \"mode\": \"markers\", \"name\": \"1977\", \"orientation\": \"v\", \"showlegend\": true, \"type\": \"scatter\", \"x\": [1977], \"xaxis\": \"x\", \"y\": [\"-3.7%\"], \"yaxis\": \"y\"}, {\"hovertemplate\": \"Year=%{x}<br>Change Percentage=%{y}<extra></extra>\", \"legendgroup\": \"1978\", \"marker\": {\"color\": \"#636efa\", \"symbol\": \"circle\"}, \"mode\": \"markers\", \"name\": \"1978\", \"orientation\": \"v\", \"showlegend\": true, \"type\": \"scatter\", \"x\": [1978], \"xaxis\": \"x\", \"y\": [\"-2.7%\"], \"yaxis\": \"y\"}, {\"hovertemplate\": \"Year=%{x}<br>Change Percentage=%{y}<extra></extra>\", \"legendgroup\": \"1979\", \"marker\": {\"color\": \"#EF553B\", \"symbol\": \"circle\"}, \"mode\": \"markers\", \"name\": \"1979\", \"orientation\": \"v\", \"showlegend\": true, \"type\": \"scatter\", \"x\": [1979], \"xaxis\": \"x\", \"y\": [\"1.2%\"], \"yaxis\": \"y\"}, {\"hovertemplate\": \"Year=%{x}<br>Change Percentage=%{y}<extra></extra>\", \"legendgroup\": \"1980\", \"marker\": {\"color\": \"#00cc96\", \"symbol\": \"circle\"}, \"mode\": \"markers\", \"name\": \"1980\", \"orientation\": \"v\", \"showlegend\": true, \"type\": \"scatter\", \"x\": [1980], \"xaxis\": \"x\", \"y\": [\"-0.7%\"], \"yaxis\": \"y\"}, {\"hovertemplate\": \"Year=%{x}<br>Change Percentage=%{y}<extra></extra>\", \"legendgroup\": \"1981\", \"marker\": {\"color\": \"#ab63fa\", \"symbol\": \"circle\"}, \"mode\": \"markers\", \"name\": \"1981\", \"orientation\": \"v\", \"showlegend\": true, \"type\": \"scatter\", \"x\": [1981], \"xaxis\": \"x\", \"y\": [\"1.1%\"], \"yaxis\": \"y\"}, {\"hovertemplate\": \"Year=%{x}<br>Change Percentage=%{y}<extra></extra>\", \"legendgroup\": \"1982\", \"marker\": {\"color\": \"#FFA15A\", \"symbol\": \"circle\"}, \"mode\": \"markers\", \"name\": \"1982\", \"orientation\": \"v\", \"showlegend\": true, \"type\": \"scatter\", \"x\": [1982], \"xaxis\": \"x\", \"y\": [\"-0.8%\"], \"yaxis\": \"y\"}, {\"hovertemplate\": \"Year=%{x}<br>Change Percentage=%{y}<extra></extra>\", \"legendgroup\": \"1983\", \"marker\": {\"color\": \"#19d3f3\", \"symbol\": \"circle\"}, \"mode\": \"markers\", \"name\": \"1983\", \"orientation\": \"v\", \"showlegend\": true, \"type\": \"scatter\", \"x\": [1983], \"xaxis\": \"x\", \"y\": [\"0.6%\"], \"yaxis\": \"y\"}, {\"hovertemplate\": \"Year=%{x}<br>Change Percentage=%{y}<extra></extra>\", \"legendgroup\": \"1984\", \"marker\": {\"color\": \"#FF6692\", \"symbol\": \"circle\"}, \"mode\": \"markers\", \"name\": \"1984\", \"orientation\": \"v\", \"showlegend\": true, \"type\": \"scatter\", \"x\": [1984], \"xaxis\": \"x\", \"y\": [\"0.2%\"], \"yaxis\": \"y\"}, {\"hovertemplate\": \"Year=%{x}<br>Change Percentage=%{y}<extra></extra>\", \"legendgroup\": \"1985\", \"marker\": {\"color\": \"#B6E880\", \"symbol\": \"circle\"}, \"mode\": \"markers\", \"name\": \"1985\", \"orientation\": \"v\", \"showlegend\": true, \"type\": \"scatter\", \"x\": [1985], \"xaxis\": \"x\", \"y\": [\"-0.1%\"], \"yaxis\": \"y\"}, {\"hovertemplate\": \"Year=%{x}<br>Change Percentage=%{y}<extra></extra>\", \"legendgroup\": \"1986\", \"marker\": {\"color\": \"#FF97FF\", \"symbol\": \"circle\"}, \"mode\": \"markers\", \"name\": \"1986\", \"orientation\": \"v\", \"showlegend\": true, \"type\": \"scatter\", \"x\": [1986], \"xaxis\": \"x\", \"y\": [\"1.9%\"], \"yaxis\": \"y\"}, {\"hovertemplate\": \"Year=%{x}<br>Change Percentage=%{y}<extra></extra>\", \"legendgroup\": \"1987\", \"marker\": {\"color\": \"#FECB52\", \"symbol\": \"circle\"}, \"mode\": \"markers\", \"name\": \"1987\", \"orientation\": \"v\", \"showlegend\": true, \"type\": \"scatter\", \"x\": [1987], \"xaxis\": \"x\", \"y\": [\"1.5%\"], \"yaxis\": \"y\"}, {\"hovertemplate\": \"Year=%{x}<br>Change Percentage=%{y}<extra></extra>\", \"legendgroup\": \"1988\", \"marker\": {\"color\": \"#636efa\", \"symbol\": \"circle\"}, \"mode\": \"markers\", \"name\": \"1988\", \"orientation\": \"v\", \"showlegend\": true, \"type\": \"scatter\", \"x\": [1988], \"xaxis\": \"x\", \"y\": [\"3.5%\"], \"yaxis\": \"y\"}, {\"hovertemplate\": \"Year=%{x}<br>Change Percentage=%{y}<extra></extra>\", \"legendgroup\": \"1989\", \"marker\": {\"color\": \"#EF553B\", \"symbol\": \"circle\"}, \"mode\": \"markers\", \"name\": \"1989\", \"orientation\": \"v\", \"showlegend\": true, \"type\": \"scatter\", \"x\": [1989], \"xaxis\": \"x\", \"y\": [\"2.5%\"], \"yaxis\": \"y\"}, {\"hovertemplate\": \"Year=%{x}<br>Change Percentage=%{y}<extra></extra>\", \"legendgroup\": \"1990\", \"marker\": {\"color\": \"#00cc96\", \"symbol\": \"circle\"}, \"mode\": \"markers\", \"name\": \"1990\", \"orientation\": \"v\", \"showlegend\": true, \"type\": \"scatter\", \"x\": [1990], \"xaxis\": \"x\", \"y\": [\"5.1%\"], \"yaxis\": \"y\"}, {\"hovertemplate\": \"Year=%{x}<br>Change Percentage=%{y}<extra></extra>\", \"legendgroup\": \"1991\", \"marker\": {\"color\": \"#ab63fa\", \"symbol\": \"circle\"}, \"mode\": \"markers\", \"name\": \"1991\", \"orientation\": \"v\", \"showlegend\": true, \"type\": \"scatter\", \"x\": [1991], \"xaxis\": \"x\", \"y\": [\"4.1%\"], \"yaxis\": \"y\"}, {\"hovertemplate\": \"Year=%{x}<br>Change Percentage=%{y}<extra></extra>\", \"legendgroup\": \"1992\", \"marker\": {\"color\": \"#FFA15A\", \"symbol\": \"circle\"}, \"mode\": \"markers\", \"name\": \"1992\", \"orientation\": \"v\", \"showlegend\": true, \"type\": \"scatter\", \"x\": [1992], \"xaxis\": \"x\", \"y\": [\"3.6%\"], \"yaxis\": \"y\"}, {\"hovertemplate\": \"Year=%{x}<br>Change Percentage=%{y}<extra></extra>\", \"legendgroup\": \"1993\", \"marker\": {\"color\": \"#19d3f3\", \"symbol\": \"circle\"}, \"mode\": \"markers\", \"name\": \"1993\", \"orientation\": \"v\", \"showlegend\": true, \"type\": \"scatter\", \"x\": [1993], \"xaxis\": \"x\", \"y\": [\"2.4%\"], \"yaxis\": \"y\"}, {\"hovertemplate\": \"Year=%{x}<br>Change Percentage=%{y}<extra></extra>\", \"legendgroup\": \"1994\", \"marker\": {\"color\": \"#FF6692\", \"symbol\": \"circle\"}, \"mode\": \"markers\", \"name\": \"1994\", \"orientation\": \"v\", \"showlegend\": true, \"type\": \"scatter\", \"x\": [1994], \"xaxis\": \"x\", \"y\": [\"3.1%\"], \"yaxis\": \"y\"}, {\"hovertemplate\": \"Year=%{x}<br>Change Percentage=%{y}<extra></extra>\", \"legendgroup\": \"1995\", \"marker\": {\"color\": \"#B6E880\", \"symbol\": \"circle\"}, \"mode\": \"markers\", \"name\": \"1995\", \"orientation\": \"v\", \"showlegend\": true, \"type\": \"scatter\", \"x\": [1995], \"xaxis\": \"x\", \"y\": [\"1.7%\"], \"yaxis\": \"y\"}, {\"hovertemplate\": \"Year=%{x}<br>Change Percentage=%{y}<extra></extra>\", \"legendgroup\": \"1996\", \"marker\": {\"color\": \"#FF97FF\", \"symbol\": \"circle\"}, \"mode\": \"markers\", \"name\": \"1996\", \"orientation\": \"v\", \"showlegend\": true, \"type\": \"scatter\", \"x\": [1996], \"xaxis\": \"x\", \"y\": [\"1.7%\"], \"yaxis\": \"y\"}, {\"hovertemplate\": \"Year=%{x}<br>Change Percentage=%{y}<extra></extra>\", \"legendgroup\": \"1997\", \"marker\": {\"color\": \"#FECB52\", \"symbol\": \"circle\"}, \"mode\": \"markers\", \"name\": \"1997\", \"orientation\": \"v\", \"showlegend\": true, \"type\": \"scatter\", \"x\": [1997], \"xaxis\": \"x\", \"y\": [\"0.2%\"], \"yaxis\": \"y\"}, {\"hovertemplate\": \"Year=%{x}<br>Change Percentage=%{y}<extra></extra>\", \"legendgroup\": \"1998\", \"marker\": {\"color\": \"#636efa\", \"symbol\": \"circle\"}, \"mode\": \"markers\", \"name\": \"1998\", \"orientation\": \"v\", \"showlegend\": true, \"type\": \"scatter\", \"x\": [1998], \"xaxis\": \"x\", \"y\": [\"0.2%\"], \"yaxis\": \"y\"}, {\"hovertemplate\": \"Year=%{x}<br>Change Percentage=%{y}<extra></extra>\", \"legendgroup\": \"1999\", \"marker\": {\"color\": \"#EF553B\", \"symbol\": \"circle\"}, \"mode\": \"markers\", \"name\": \"1999\", \"orientation\": \"v\", \"showlegend\": true, \"type\": \"scatter\", \"x\": [1999], \"xaxis\": \"x\", \"y\": [\"-3.6%\"], \"yaxis\": \"y\"}, {\"hovertemplate\": \"Year=%{x}<br>Change Percentage=%{y}<extra></extra>\", \"legendgroup\": \"2000\", \"marker\": {\"color\": \"#00cc96\", \"symbol\": \"circle\"}, \"mode\": \"markers\", \"name\": \"2000\", \"orientation\": \"v\", \"showlegend\": true, \"type\": \"scatter\", \"x\": [2000], \"xaxis\": \"x\", \"y\": [\"0.7%\"], \"yaxis\": \"y\"}, {\"hovertemplate\": \"Year=%{x}<br>Change Percentage=%{y}<extra></extra>\", \"legendgroup\": \"2001\", \"marker\": {\"color\": \"#ab63fa\", \"symbol\": \"circle\"}, \"mode\": \"markers\", \"name\": \"2001\", \"orientation\": \"v\", \"showlegend\": true, \"type\": \"scatter\", \"x\": [2001], \"xaxis\": \"x\", \"y\": [\"-1.5%\"], \"yaxis\": \"y\"}, {\"hovertemplate\": \"Year=%{x}<br>Change Percentage=%{y}<extra></extra>\", \"legendgroup\": \"2002\", \"marker\": {\"color\": \"#FFA15A\", \"symbol\": \"circle\"}, \"mode\": \"markers\", \"name\": \"2002\", \"orientation\": \"v\", \"showlegend\": true, \"type\": \"scatter\", \"x\": [2002], \"xaxis\": \"x\", \"y\": [\"-1.7%\"], \"yaxis\": \"y\"}, {\"hovertemplate\": \"Year=%{x}<br>Change Percentage=%{y}<extra></extra>\", \"legendgroup\": \"2003\", \"marker\": {\"color\": \"#19d3f3\", \"symbol\": \"circle\"}, \"mode\": \"markers\", \"name\": \"2003\", \"orientation\": \"v\", \"showlegend\": true, \"type\": \"scatter\", \"x\": [2003], \"xaxis\": \"x\", \"y\": [\"1.8%\"], \"yaxis\": \"y\"}, {\"hovertemplate\": \"Year=%{x}<br>Change Percentage=%{y}<extra></extra>\", \"legendgroup\": \"2004\", \"marker\": {\"color\": \"#FF6692\", \"symbol\": \"circle\"}, \"mode\": \"markers\", \"name\": \"2004\", \"orientation\": \"v\", \"showlegend\": true, \"type\": \"scatter\", \"x\": [2004], \"xaxis\": \"x\", \"y\": [\"3.3%\"], \"yaxis\": \"y\"}, {\"hovertemplate\": \"Year=%{x}<br>Change Percentage=%{y}<extra></extra>\", \"legendgroup\": \"2005\", \"marker\": {\"color\": \"#B6E880\", \"symbol\": \"circle\"}, \"mode\": \"markers\", \"name\": \"2005\", \"orientation\": \"v\", \"showlegend\": true, \"type\": \"scatter\", \"x\": [2005], \"xaxis\": \"x\", \"y\": [\"3%\"], \"yaxis\": \"y\"}, {\"hovertemplate\": \"Year=%{x}<br>Change Percentage=%{y}<extra></extra>\", \"legendgroup\": \"2006\", \"marker\": {\"color\": \"#FF97FF\", \"symbol\": \"circle\"}, \"mode\": \"markers\", \"name\": \"2006\", \"orientation\": \"v\", \"showlegend\": true, \"type\": \"scatter\", \"x\": [2006], \"xaxis\": \"x\", \"y\": [\"5.2%\"], \"yaxis\": \"y\"}, {\"hovertemplate\": \"Year=%{x}<br>Change Percentage=%{y}<extra></extra>\", \"legendgroup\": \"2007\", \"marker\": {\"color\": \"#FECB52\", \"symbol\": \"circle\"}, \"mode\": \"markers\", \"name\": \"2007\", \"orientation\": \"v\", \"showlegend\": true, \"type\": \"scatter\", \"x\": [2007], \"xaxis\": \"x\", \"y\": [\"5.5%\"], \"yaxis\": \"y\"}, {\"hovertemplate\": \"Year=%{x}<br>Change Percentage=%{y}<extra></extra>\", \"legendgroup\": \"2008\", \"marker\": {\"color\": \"#636efa\", \"symbol\": \"circle\"}, \"mode\": \"markers\", \"name\": \"2008\", \"orientation\": \"v\", \"showlegend\": true, \"type\": \"scatter\", \"x\": [2008], \"xaxis\": \"x\", \"y\": [\"1.3%\"], \"yaxis\": \"y\"}, {\"hovertemplate\": \"Year=%{x}<br>Change Percentage=%{y}<extra></extra>\", \"legendgroup\": \"2009\", \"marker\": {\"color\": \"#EF553B\", \"symbol\": \"circle\"}, \"mode\": \"markers\", \"name\": \"2009\", \"orientation\": \"v\", \"showlegend\": true, \"type\": \"scatter\", \"x\": [2009], \"xaxis\": \"x\", \"y\": [\"1.6%\"], \"yaxis\": \"y\"}, {\"hovertemplate\": \"Year=%{x}<br>Change Percentage=%{y}<extra></extra>\", \"legendgroup\": \"2010\", \"marker\": {\"color\": \"#00cc96\", \"symbol\": \"circle\"}, \"mode\": \"markers\", \"name\": \"2010\", \"orientation\": \"v\", \"showlegend\": true, \"type\": \"scatter\", \"x\": [2010], \"xaxis\": \"x\", \"y\": [\"-3.1%\"], \"yaxis\": \"y\"}, {\"hovertemplate\": \"Year=%{x}<br>Change Percentage=%{y}<extra></extra>\", \"legendgroup\": \"2011\", \"marker\": {\"color\": \"#ab63fa\", \"symbol\": \"circle\"}, \"mode\": \"markers\", \"name\": \"2011\", \"orientation\": \"v\", \"showlegend\": true, \"type\": \"scatter\", \"x\": [2011], \"xaxis\": \"x\", \"y\": [\"1.8%\"], \"yaxis\": \"y\"}, {\"hovertemplate\": \"Year=%{x}<br>Change Percentage=%{y}<extra></extra>\", \"legendgroup\": \"2012\", \"marker\": {\"color\": \"#FFA15A\", \"symbol\": \"circle\"}, \"mode\": \"markers\", \"name\": \"2012\", \"orientation\": \"v\", \"showlegend\": true, \"type\": \"scatter\", \"x\": [2012], \"xaxis\": \"x\", \"y\": [\"4.2%\"], \"yaxis\": \"y\"}, {\"hovertemplate\": \"Year=%{x}<br>Change Percentage=%{y}<extra></extra>\", \"legendgroup\": \"2013\", \"marker\": {\"color\": \"#19d3f3\", \"symbol\": \"circle\"}, \"mode\": \"markers\", \"name\": \"2013\", \"orientation\": \"v\", \"showlegend\": true, \"type\": \"scatter\", \"x\": [2013], \"xaxis\": \"x\", \"y\": [\"3.5%\"], \"yaxis\": \"y\"}, {\"hovertemplate\": \"Year=%{x}<br>Change Percentage=%{y}<extra></extra>\", \"legendgroup\": \"2014\", \"marker\": {\"color\": \"#FF6692\", \"symbol\": \"circle\"}, \"mode\": \"markers\", \"name\": \"2014\", \"orientation\": \"v\", \"showlegend\": true, \"type\": \"scatter\", \"x\": [2014], \"xaxis\": \"x\", \"y\": [\"2.4%\"], \"yaxis\": \"y\"}, {\"hovertemplate\": \"Year=%{x}<br>Change Percentage=%{y}<extra></extra>\", \"legendgroup\": \"2015\", \"marker\": {\"color\": \"#B6E880\", \"symbol\": \"circle\"}, \"mode\": \"markers\", \"name\": \"2015\", \"orientation\": \"v\", \"showlegend\": true, \"type\": \"scatter\", \"x\": [2015], \"xaxis\": \"x\", \"y\": [\"1.7%\"], \"yaxis\": \"y\"}, {\"hovertemplate\": \"Year=%{x}<br>Change Percentage=%{y}<extra></extra>\", \"legendgroup\": \"2016\", \"marker\": {\"color\": \"#FF97FF\", \"symbol\": \"circle\"}, \"mode\": \"markers\", \"name\": \"2016\", \"orientation\": \"v\", \"showlegend\": true, \"type\": \"scatter\", \"x\": [2016], \"xaxis\": \"x\", \"y\": [\"-0.1%\"], \"yaxis\": \"y\"}, {\"hovertemplate\": \"Year=%{x}<br>Change Percentage=%{y}<extra></extra>\", \"legendgroup\": \"2017\", \"marker\": {\"color\": \"#FECB52\", \"symbol\": \"circle\"}, \"mode\": \"markers\", \"name\": \"2017\", \"orientation\": \"v\", \"showlegend\": true, \"type\": \"scatter\", \"x\": [2017], \"xaxis\": \"x\", \"y\": [\"-0.4%\"], \"yaxis\": \"y\"}],\n",
       "                        {\"legend\": {\"title\": {\"text\": \"Year\"}, \"tracegroupgap\": 0}, \"template\": {\"data\": {\"bar\": [{\"error_x\": {\"color\": \"#2a3f5f\"}, \"error_y\": {\"color\": \"#2a3f5f\"}, \"marker\": {\"line\": {\"color\": \"#E5ECF6\", \"width\": 0.5}}, \"type\": \"bar\"}], \"barpolar\": [{\"marker\": {\"line\": {\"color\": \"#E5ECF6\", \"width\": 0.5}}, \"type\": \"barpolar\"}], \"carpet\": [{\"aaxis\": {\"endlinecolor\": \"#2a3f5f\", \"gridcolor\": \"white\", \"linecolor\": \"white\", \"minorgridcolor\": \"white\", \"startlinecolor\": \"#2a3f5f\"}, \"baxis\": {\"endlinecolor\": \"#2a3f5f\", \"gridcolor\": \"white\", \"linecolor\": \"white\", \"minorgridcolor\": \"white\", \"startlinecolor\": \"#2a3f5f\"}, \"type\": \"carpet\"}], \"choropleth\": [{\"colorbar\": {\"outlinewidth\": 0, \"ticks\": \"\"}, \"type\": \"choropleth\"}], \"contour\": [{\"colorbar\": {\"outlinewidth\": 0, \"ticks\": \"\"}, \"colorscale\": [[0.0, \"#0d0887\"], [0.1111111111111111, \"#46039f\"], [0.2222222222222222, \"#7201a8\"], [0.3333333333333333, \"#9c179e\"], [0.4444444444444444, \"#bd3786\"], [0.5555555555555556, \"#d8576b\"], [0.6666666666666666, \"#ed7953\"], [0.7777777777777778, \"#fb9f3a\"], [0.8888888888888888, \"#fdca26\"], [1.0, \"#f0f921\"]], \"type\": \"contour\"}], \"contourcarpet\": [{\"colorbar\": {\"outlinewidth\": 0, \"ticks\": \"\"}, \"type\": \"contourcarpet\"}], \"heatmap\": [{\"colorbar\": {\"outlinewidth\": 0, \"ticks\": \"\"}, \"colorscale\": [[0.0, \"#0d0887\"], [0.1111111111111111, \"#46039f\"], [0.2222222222222222, \"#7201a8\"], [0.3333333333333333, \"#9c179e\"], [0.4444444444444444, \"#bd3786\"], [0.5555555555555556, \"#d8576b\"], [0.6666666666666666, \"#ed7953\"], [0.7777777777777778, \"#fb9f3a\"], [0.8888888888888888, \"#fdca26\"], [1.0, \"#f0f921\"]], \"type\": \"heatmap\"}], \"heatmapgl\": [{\"colorbar\": {\"outlinewidth\": 0, \"ticks\": \"\"}, \"colorscale\": [[0.0, \"#0d0887\"], [0.1111111111111111, \"#46039f\"], [0.2222222222222222, \"#7201a8\"], [0.3333333333333333, \"#9c179e\"], [0.4444444444444444, \"#bd3786\"], [0.5555555555555556, \"#d8576b\"], [0.6666666666666666, \"#ed7953\"], [0.7777777777777778, \"#fb9f3a\"], [0.8888888888888888, \"#fdca26\"], [1.0, \"#f0f921\"]], \"type\": \"heatmapgl\"}], \"histogram\": [{\"marker\": {\"colorbar\": {\"outlinewidth\": 0, \"ticks\": \"\"}}, \"type\": \"histogram\"}], \"histogram2d\": [{\"colorbar\": {\"outlinewidth\": 0, \"ticks\": \"\"}, \"colorscale\": [[0.0, \"#0d0887\"], [0.1111111111111111, \"#46039f\"], [0.2222222222222222, \"#7201a8\"], [0.3333333333333333, \"#9c179e\"], [0.4444444444444444, \"#bd3786\"], [0.5555555555555556, \"#d8576b\"], [0.6666666666666666, \"#ed7953\"], [0.7777777777777778, \"#fb9f3a\"], [0.8888888888888888, \"#fdca26\"], [1.0, \"#f0f921\"]], \"type\": \"histogram2d\"}], \"histogram2dcontour\": [{\"colorbar\": {\"outlinewidth\": 0, \"ticks\": \"\"}, \"colorscale\": [[0.0, \"#0d0887\"], [0.1111111111111111, \"#46039f\"], [0.2222222222222222, \"#7201a8\"], [0.3333333333333333, \"#9c179e\"], [0.4444444444444444, \"#bd3786\"], [0.5555555555555556, \"#d8576b\"], [0.6666666666666666, \"#ed7953\"], [0.7777777777777778, \"#fb9f3a\"], [0.8888888888888888, \"#fdca26\"], [1.0, \"#f0f921\"]], \"type\": \"histogram2dcontour\"}], \"mesh3d\": [{\"colorbar\": {\"outlinewidth\": 0, \"ticks\": \"\"}, \"type\": \"mesh3d\"}], \"parcoords\": [{\"line\": {\"colorbar\": {\"outlinewidth\": 0, \"ticks\": \"\"}}, \"type\": \"parcoords\"}], \"pie\": [{\"automargin\": true, \"type\": \"pie\"}], \"scatter\": [{\"marker\": {\"colorbar\": {\"outlinewidth\": 0, \"ticks\": \"\"}}, \"type\": \"scatter\"}], \"scatter3d\": [{\"line\": {\"colorbar\": {\"outlinewidth\": 0, \"ticks\": \"\"}}, \"marker\": {\"colorbar\": {\"outlinewidth\": 0, \"ticks\": \"\"}}, \"type\": \"scatter3d\"}], \"scattercarpet\": [{\"marker\": {\"colorbar\": {\"outlinewidth\": 0, \"ticks\": \"\"}}, \"type\": \"scattercarpet\"}], \"scattergeo\": [{\"marker\": {\"colorbar\": {\"outlinewidth\": 0, \"ticks\": \"\"}}, \"type\": \"scattergeo\"}], \"scattergl\": [{\"marker\": {\"colorbar\": {\"outlinewidth\": 0, \"ticks\": \"\"}}, \"type\": \"scattergl\"}], \"scattermapbox\": [{\"marker\": {\"colorbar\": {\"outlinewidth\": 0, \"ticks\": \"\"}}, \"type\": \"scattermapbox\"}], \"scatterpolar\": [{\"marker\": {\"colorbar\": {\"outlinewidth\": 0, \"ticks\": \"\"}}, \"type\": \"scatterpolar\"}], \"scatterpolargl\": [{\"marker\": {\"colorbar\": {\"outlinewidth\": 0, \"ticks\": \"\"}}, \"type\": \"scatterpolargl\"}], \"scatterternary\": [{\"marker\": {\"colorbar\": {\"outlinewidth\": 0, \"ticks\": \"\"}}, \"type\": \"scatterternary\"}], \"surface\": [{\"colorbar\": {\"outlinewidth\": 0, \"ticks\": \"\"}, \"colorscale\": [[0.0, \"#0d0887\"], [0.1111111111111111, \"#46039f\"], [0.2222222222222222, \"#7201a8\"], [0.3333333333333333, \"#9c179e\"], [0.4444444444444444, \"#bd3786\"], [0.5555555555555556, \"#d8576b\"], [0.6666666666666666, \"#ed7953\"], [0.7777777777777778, \"#fb9f3a\"], [0.8888888888888888, \"#fdca26\"], [1.0, \"#f0f921\"]], \"type\": \"surface\"}], \"table\": [{\"cells\": {\"fill\": {\"color\": \"#EBF0F8\"}, \"line\": {\"color\": \"white\"}}, \"header\": {\"fill\": {\"color\": \"#C8D4E3\"}, \"line\": {\"color\": \"white\"}}, \"type\": \"table\"}]}, \"layout\": {\"annotationdefaults\": {\"arrowcolor\": \"#2a3f5f\", \"arrowhead\": 0, \"arrowwidth\": 1}, \"coloraxis\": {\"colorbar\": {\"outlinewidth\": 0, \"ticks\": \"\"}}, \"colorscale\": {\"diverging\": [[0, \"#8e0152\"], [0.1, \"#c51b7d\"], [0.2, \"#de77ae\"], [0.3, \"#f1b6da\"], [0.4, \"#fde0ef\"], [0.5, \"#f7f7f7\"], [0.6, \"#e6f5d0\"], [0.7, \"#b8e186\"], [0.8, \"#7fbc41\"], [0.9, \"#4d9221\"], [1, \"#276419\"]], \"sequential\": [[0.0, \"#0d0887\"], [0.1111111111111111, \"#46039f\"], [0.2222222222222222, \"#7201a8\"], [0.3333333333333333, \"#9c179e\"], [0.4444444444444444, \"#bd3786\"], [0.5555555555555556, \"#d8576b\"], [0.6666666666666666, \"#ed7953\"], [0.7777777777777778, \"#fb9f3a\"], [0.8888888888888888, \"#fdca26\"], [1.0, \"#f0f921\"]], \"sequentialminus\": [[0.0, \"#0d0887\"], [0.1111111111111111, \"#46039f\"], [0.2222222222222222, \"#7201a8\"], [0.3333333333333333, \"#9c179e\"], [0.4444444444444444, \"#bd3786\"], [0.5555555555555556, \"#d8576b\"], [0.6666666666666666, \"#ed7953\"], [0.7777777777777778, \"#fb9f3a\"], [0.8888888888888888, \"#fdca26\"], [1.0, \"#f0f921\"]]}, \"colorway\": [\"#636efa\", \"#EF553B\", \"#00cc96\", \"#ab63fa\", \"#FFA15A\", \"#19d3f3\", \"#FF6692\", \"#B6E880\", \"#FF97FF\", \"#FECB52\"], \"font\": {\"color\": \"#2a3f5f\"}, \"geo\": {\"bgcolor\": \"white\", \"lakecolor\": \"white\", \"landcolor\": \"#E5ECF6\", \"showlakes\": true, \"showland\": true, \"subunitcolor\": \"white\"}, \"hoverlabel\": {\"align\": \"left\"}, \"hovermode\": \"closest\", \"mapbox\": {\"style\": \"light\"}, \"paper_bgcolor\": \"white\", \"plot_bgcolor\": \"#E5ECF6\", \"polar\": {\"angularaxis\": {\"gridcolor\": \"white\", \"linecolor\": \"white\", \"ticks\": \"\"}, \"bgcolor\": \"#E5ECF6\", \"radialaxis\": {\"gridcolor\": \"white\", \"linecolor\": \"white\", \"ticks\": \"\"}}, \"scene\": {\"xaxis\": {\"backgroundcolor\": \"#E5ECF6\", \"gridcolor\": \"white\", \"gridwidth\": 2, \"linecolor\": \"white\", \"showbackground\": true, \"ticks\": \"\", \"zerolinecolor\": \"white\"}, \"yaxis\": {\"backgroundcolor\": \"#E5ECF6\", \"gridcolor\": \"white\", \"gridwidth\": 2, \"linecolor\": \"white\", \"showbackground\": true, \"ticks\": \"\", \"zerolinecolor\": \"white\"}, \"zaxis\": {\"backgroundcolor\": \"#E5ECF6\", \"gridcolor\": \"white\", \"gridwidth\": 2, \"linecolor\": \"white\", \"showbackground\": true, \"ticks\": \"\", \"zerolinecolor\": \"white\"}}, \"shapedefaults\": {\"line\": {\"color\": \"#2a3f5f\"}}, \"ternary\": {\"aaxis\": {\"gridcolor\": \"white\", \"linecolor\": \"white\", \"ticks\": \"\"}, \"baxis\": {\"gridcolor\": \"white\", \"linecolor\": \"white\", \"ticks\": \"\"}, \"bgcolor\": \"#E5ECF6\", \"caxis\": {\"gridcolor\": \"white\", \"linecolor\": \"white\", \"ticks\": \"\"}}, \"title\": {\"x\": 0.05}, \"xaxis\": {\"automargin\": true, \"gridcolor\": \"white\", \"linecolor\": \"white\", \"ticks\": \"\", \"title\": {\"standoff\": 15}, \"zerolinecolor\": \"white\", \"zerolinewidth\": 2}, \"yaxis\": {\"automargin\": true, \"gridcolor\": \"white\", \"linecolor\": \"white\", \"ticks\": \"\", \"title\": {\"standoff\": 15}, \"zerolinecolor\": \"white\", \"zerolinewidth\": 2}}}, \"title\": {\"text\": \"Percentage change from last year\"}, \"xaxis\": {\"anchor\": \"y\", \"categoryarray\": [1958, 1959, 1960, 1961, 1962, 1963, 1964, 1965, 1966, 1967, 1968, 1969, 1970, 1971, 1972, 1973, 1974, 1975, 1976, 1977, 1978, 1979, 1980, 1981, 1982, 1983, 1984, 1985, 1986, 1987, 1988, 1989, 1990, 1991, 1992, 1993, 1994, 1995, 1996, 1997, 1998, 1999, 2000, 2001, 2002, 2003, 2004, 2005, 2006, 2007, 2008, 2009, 2010, 2011, 2012, 2013, 2014, 2015, 2016, 2017], \"categoryorder\": \"array\", \"domain\": [0.0, 1.0], \"title\": {\"text\": \"Year\"}}, \"yaxis\": {\"anchor\": \"x\", \"domain\": [0.0, 1.0], \"title\": {\"text\": \"Change Percentage\"}}},\n",
       "                        {\"responsive\": true}\n",
       "                    ).then(function(){\n",
       "                            \n",
       "var gd = document.getElementById('b29d916d-137e-4bd6-85b9-eb427351035a');\n",
       "var x = new MutationObserver(function (mutations, observer) {{\n",
       "        var display = window.getComputedStyle(gd).display;\n",
       "        if (!display || display === 'none') {{\n",
       "            console.log([gd, 'removed!']);\n",
       "            Plotly.purge(gd);\n",
       "            observer.disconnect();\n",
       "        }}\n",
       "}});\n",
       "\n",
       "// Listen for the removal of the full notebook cells\n",
       "var notebookContainer = gd.closest('#notebook-container');\n",
       "if (notebookContainer) {{\n",
       "    x.observe(notebookContainer, {childList: true});\n",
       "}}\n",
       "\n",
       "// Listen for the clearing of the current output cell\n",
       "var outputEl = gd.closest('.output');\n",
       "if (outputEl) {{\n",
       "    x.observe(outputEl, {childList: true});\n",
       "}}\n",
       "\n",
       "                        })\n",
       "                };\n",
       "                });\n",
       "            </script>\n",
       "        </div>"
      ]
     },
     "metadata": {},
     "output_type": "display_data"
    },
    {
     "data": {
      "text/plain": [
       "<streamlit.delta_generator.DeltaGenerator at 0x7f4445e47a50>"
      ]
     },
     "execution_count": 98,
     "metadata": {},
     "output_type": "execute_result"
    }
   ],
   "source": [
    "import plotly.express as px\n",
    "import plotly.graph_objects as go\n",
    "fig=px.line(df001, x=\"Year\", y=\"Total Doctorate Recipients\", title='Doctorate recipients from U.S. colleges and universities: 1958–2017')\n",
    "fig.show()\n",
    "fig2=px.scatter(df001, x='Year', y=\"Change Percentage\",color='Year',title='Percentage change from last year')\n",
    "fig2.update_shapes(dict(xref='x', yref='y'))\n",
    "fig2.show()\n",
    "st.plotly_chart(fig, use_container_width=True)\n",
    "st.plotly_chart(fig2, use_container_width=True)\n",
    "\n"
   ]
  },
  {
   "cell_type": "code",
   "execution_count": 99,
   "metadata": {},
   "outputs": [
    {
     "data": {
      "text/html": [
       "<div>\n",
       "<style scoped>\n",
       "    .dataframe tbody tr th:only-of-type {\n",
       "        vertical-align: middle;\n",
       "    }\n",
       "\n",
       "    .dataframe tbody tr th {\n",
       "        vertical-align: top;\n",
       "    }\n",
       "\n",
       "    .dataframe thead th {\n",
       "        text-align: right;\n",
       "    }\n",
       "</style>\n",
       "<table border=\"1\" class=\"dataframe\">\n",
       "  <thead>\n",
       "    <tr style=\"text-align: right;\">\n",
       "      <th></th>\n",
       "      <th>Table 12</th>\n",
       "      <th>Unnamed: 1</th>\n",
       "      <th>Unnamed: 2</th>\n",
       "      <th>Unnamed: 3</th>\n",
       "      <th>Unnamed: 4</th>\n",
       "      <th>Unnamed: 5</th>\n",
       "      <th>Unnamed: 6</th>\n",
       "      <th>Unnamed: 7</th>\n",
       "      <th>Unnamed: 8</th>\n",
       "      <th>Unnamed: 9</th>\n",
       "      <th>Unnamed: 10</th>\n",
       "      <th>Unnamed: 11</th>\n",
       "      <th>Unnamed: 12</th>\n",
       "      <th>Unnamed: 13</th>\n",
       "      <th>Unnamed: 14</th>\n",
       "    </tr>\n",
       "  </thead>\n",
       "  <tbody>\n",
       "    <tr>\n",
       "      <th>0</th>\n",
       "      <td>Doctorate recipients, by major field of study:...</td>\n",
       "      <td>NaN</td>\n",
       "      <td>NaN</td>\n",
       "      <td>NaN</td>\n",
       "      <td>NaN</td>\n",
       "      <td>NaN</td>\n",
       "      <td>NaN</td>\n",
       "      <td>NaN</td>\n",
       "      <td>NaN</td>\n",
       "      <td>NaN</td>\n",
       "      <td>NaN</td>\n",
       "      <td>NaN</td>\n",
       "      <td>NaN</td>\n",
       "      <td>NaN</td>\n",
       "      <td>NaN</td>\n",
       "    </tr>\n",
       "    <tr>\n",
       "      <th>1</th>\n",
       "      <td>(Number and percent)</td>\n",
       "      <td>NaN</td>\n",
       "      <td>NaN</td>\n",
       "      <td>NaN</td>\n",
       "      <td>NaN</td>\n",
       "      <td>NaN</td>\n",
       "      <td>NaN</td>\n",
       "      <td>NaN</td>\n",
       "      <td>NaN</td>\n",
       "      <td>NaN</td>\n",
       "      <td>NaN</td>\n",
       "      <td>NaN</td>\n",
       "      <td>NaN</td>\n",
       "      <td>NaN</td>\n",
       "      <td>NaN</td>\n",
       "    </tr>\n",
       "    <tr>\n",
       "      <th>2</th>\n",
       "      <td>Field of study</td>\n",
       "      <td>1987</td>\n",
       "      <td>NaN</td>\n",
       "      <td>1992</td>\n",
       "      <td>NaN</td>\n",
       "      <td>1997</td>\n",
       "      <td>NaN</td>\n",
       "      <td>2002</td>\n",
       "      <td>NaN</td>\n",
       "      <td>2007</td>\n",
       "      <td>NaN</td>\n",
       "      <td>2012</td>\n",
       "      <td>NaN</td>\n",
       "      <td>2017</td>\n",
       "      <td>NaN</td>\n",
       "    </tr>\n",
       "    <tr>\n",
       "      <th>3</th>\n",
       "      <td>NaN</td>\n",
       "      <td>Number</td>\n",
       "      <td>Percent</td>\n",
       "      <td>Number</td>\n",
       "      <td>Percent</td>\n",
       "      <td>Number</td>\n",
       "      <td>Percent</td>\n",
       "      <td>Number</td>\n",
       "      <td>Percent</td>\n",
       "      <td>Number</td>\n",
       "      <td>Percent</td>\n",
       "      <td>Number</td>\n",
       "      <td>Percent</td>\n",
       "      <td>Number</td>\n",
       "      <td>Percent</td>\n",
       "    </tr>\n",
       "    <tr>\n",
       "      <th>4</th>\n",
       "      <td>All fields</td>\n",
       "      <td>32365</td>\n",
       "      <td>100</td>\n",
       "      <td>38886</td>\n",
       "      <td>100</td>\n",
       "      <td>42539</td>\n",
       "      <td>100</td>\n",
       "      <td>40031</td>\n",
       "      <td>100</td>\n",
       "      <td>48132</td>\n",
       "      <td>100</td>\n",
       "      <td>50944</td>\n",
       "      <td>100</td>\n",
       "      <td>54664</td>\n",
       "      <td>100</td>\n",
       "    </tr>\n",
       "    <tr>\n",
       "      <th>5</th>\n",
       "      <td>Life sciences</td>\n",
       "      <td>5783</td>\n",
       "      <td>17.9</td>\n",
       "      <td>7172</td>\n",
       "      <td>18.4</td>\n",
       "      <td>8421</td>\n",
       "      <td>19.8</td>\n",
       "      <td>8478</td>\n",
       "      <td>21.2</td>\n",
       "      <td>10702</td>\n",
       "      <td>22.2</td>\n",
       "      <td>11964</td>\n",
       "      <td>23.5</td>\n",
       "      <td>12592</td>\n",
       "      <td>23</td>\n",
       "    </tr>\n",
       "    <tr>\n",
       "      <th>6</th>\n",
       "      <td>Agricultural sciences and natural resources</td>\n",
       "      <td>1144</td>\n",
       "      <td>3.5</td>\n",
       "      <td>1261</td>\n",
       "      <td>3.2</td>\n",
       "      <td>1212</td>\n",
       "      <td>2.8</td>\n",
       "      <td>1129</td>\n",
       "      <td>2.8</td>\n",
       "      <td>1321</td>\n",
       "      <td>2.7</td>\n",
       "      <td>1255</td>\n",
       "      <td>2.5</td>\n",
       "      <td>1606</td>\n",
       "      <td>2.9</td>\n",
       "    </tr>\n",
       "    <tr>\n",
       "      <th>7</th>\n",
       "      <td>Biological and biomedical sciences</td>\n",
       "      <td>3839</td>\n",
       "      <td>11.9</td>\n",
       "      <td>4799</td>\n",
       "      <td>12.3</td>\n",
       "      <td>5788</td>\n",
       "      <td>13.6</td>\n",
       "      <td>5695</td>\n",
       "      <td>14.2</td>\n",
       "      <td>7238</td>\n",
       "      <td>15</td>\n",
       "      <td>8322</td>\n",
       "      <td>16.3</td>\n",
       "      <td>8477</td>\n",
       "      <td>15.5</td>\n",
       "    </tr>\n",
       "    <tr>\n",
       "      <th>8</th>\n",
       "      <td>Health sciences</td>\n",
       "      <td>800</td>\n",
       "      <td>2.5</td>\n",
       "      <td>1112</td>\n",
       "      <td>2.9</td>\n",
       "      <td>1421</td>\n",
       "      <td>3.3</td>\n",
       "      <td>1654</td>\n",
       "      <td>4.1</td>\n",
       "      <td>2143</td>\n",
       "      <td>4.5</td>\n",
       "      <td>2387</td>\n",
       "      <td>4.7</td>\n",
       "      <td>2509</td>\n",
       "      <td>4.6</td>\n",
       "    </tr>\n",
       "    <tr>\n",
       "      <th>9</th>\n",
       "      <td>Physical sciences and earth sciences</td>\n",
       "      <td>3811</td>\n",
       "      <td>11.8</td>\n",
       "      <td>4517</td>\n",
       "      <td>11.6</td>\n",
       "      <td>4550</td>\n",
       "      <td>10.7</td>\n",
       "      <td>3875</td>\n",
       "      <td>9.7</td>\n",
       "      <td>4956</td>\n",
       "      <td>10.3</td>\n",
       "      <td>5419</td>\n",
       "      <td>10.6</td>\n",
       "      <td>6081</td>\n",
       "      <td>11.1</td>\n",
       "    </tr>\n",
       "  </tbody>\n",
       "</table>\n",
       "</div>"
      ],
      "text/plain": [
       "                                            Table 12 Unnamed: 1 Unnamed: 2  \\\n",
       "0  Doctorate recipients, by major field of study:...        NaN        NaN   \n",
       "1                               (Number and percent)        NaN        NaN   \n",
       "2                                     Field of study       1987        NaN   \n",
       "3                                                NaN     Number    Percent   \n",
       "4                                         All fields      32365        100   \n",
       "5                                      Life sciences       5783       17.9   \n",
       "6        Agricultural sciences and natural resources       1144        3.5   \n",
       "7                 Biological and biomedical sciences       3839       11.9   \n",
       "8                                    Health sciences        800        2.5   \n",
       "9               Physical sciences and earth sciences       3811       11.8   \n",
       "\n",
       "  Unnamed: 3 Unnamed: 4 Unnamed: 5 Unnamed: 6 Unnamed: 7 Unnamed: 8  \\\n",
       "0        NaN        NaN        NaN        NaN        NaN        NaN   \n",
       "1        NaN        NaN        NaN        NaN        NaN        NaN   \n",
       "2       1992        NaN       1997        NaN       2002        NaN   \n",
       "3     Number    Percent     Number    Percent     Number    Percent   \n",
       "4      38886        100      42539        100      40031        100   \n",
       "5       7172       18.4       8421       19.8       8478       21.2   \n",
       "6       1261        3.2       1212        2.8       1129        2.8   \n",
       "7       4799       12.3       5788       13.6       5695       14.2   \n",
       "8       1112        2.9       1421        3.3       1654        4.1   \n",
       "9       4517       11.6       4550       10.7       3875        9.7   \n",
       "\n",
       "  Unnamed: 9 Unnamed: 10 Unnamed: 11 Unnamed: 12 Unnamed: 13 Unnamed: 14  \n",
       "0        NaN         NaN         NaN         NaN         NaN         NaN  \n",
       "1        NaN         NaN         NaN         NaN         NaN         NaN  \n",
       "2       2007         NaN        2012         NaN        2017         NaN  \n",
       "3     Number     Percent      Number     Percent      Number     Percent  \n",
       "4      48132         100       50944         100       54664         100  \n",
       "5      10702        22.2       11964        23.5       12592          23  \n",
       "6       1321         2.7        1255         2.5        1606         2.9  \n",
       "7       7238          15        8322        16.3        8477        15.5  \n",
       "8       2143         4.5        2387         4.7        2509         4.6  \n",
       "9       4956        10.3        5419        10.6        6081        11.1  "
      ]
     },
     "execution_count": 99,
     "metadata": {},
     "output_type": "execute_result"
    }
   ],
   "source": [
    "df012.head(10)"
   ]
  },
  {
   "cell_type": "code",
   "execution_count": 100,
   "metadata": {},
   "outputs": [],
   "source": [
    "df_17= pd.read_excel(\"https://ncses.nsf.gov/pubs/nsf19301/assets/data/tables/sed17-sr-tab017.xlsx\", header=3)"
   ]
  },
  {
   "cell_type": "code",
   "execution_count": 101,
   "metadata": {},
   "outputs": [
    {
     "data": {
      "text/html": [
       "<div>\n",
       "<style scoped>\n",
       "    .dataframe tbody tr th:only-of-type {\n",
       "        vertical-align: middle;\n",
       "    }\n",
       "\n",
       "    .dataframe tbody tr th {\n",
       "        vertical-align: top;\n",
       "    }\n",
       "\n",
       "    .dataframe thead th {\n",
       "        text-align: right;\n",
       "    }\n",
       "</style>\n",
       "<table border=\"1\" class=\"dataframe\">\n",
       "  <thead>\n",
       "    <tr style=\"text-align: right;\">\n",
       "      <th></th>\n",
       "      <th>Field of study and citizenship status</th>\n",
       "      <th>1987</th>\n",
       "      <th>1992</th>\n",
       "      <th>1997</th>\n",
       "      <th>2002</th>\n",
       "      <th>2007</th>\n",
       "      <th>2012</th>\n",
       "      <th>2017</th>\n",
       "    </tr>\n",
       "  </thead>\n",
       "  <tbody>\n",
       "    <tr>\n",
       "      <th>0</th>\n",
       "      <td>All fields</td>\n",
       "      <td>32365</td>\n",
       "      <td>38886</td>\n",
       "      <td>42539</td>\n",
       "      <td>40031</td>\n",
       "      <td>48132</td>\n",
       "      <td>50944</td>\n",
       "      <td>54664</td>\n",
       "    </tr>\n",
       "    <tr>\n",
       "      <th>1</th>\n",
       "      <td>U.S. citizen or permanent resident</td>\n",
       "      <td>24585</td>\n",
       "      <td>28005</td>\n",
       "      <td>31097</td>\n",
       "      <td>27737</td>\n",
       "      <td>29501</td>\n",
       "      <td>32981</td>\n",
       "      <td>35791</td>\n",
       "    </tr>\n",
       "    <tr>\n",
       "      <th>2</th>\n",
       "      <td>Temporary visa holder</td>\n",
       "      <td>5660</td>\n",
       "      <td>9980</td>\n",
       "      <td>9194</td>\n",
       "      <td>9747</td>\n",
       "      <td>15123</td>\n",
       "      <td>14784</td>\n",
       "      <td>16323</td>\n",
       "    </tr>\n",
       "    <tr>\n",
       "      <th>3</th>\n",
       "      <td>Unknown</td>\n",
       "      <td>2120</td>\n",
       "      <td>901</td>\n",
       "      <td>2248</td>\n",
       "      <td>2547</td>\n",
       "      <td>3508</td>\n",
       "      <td>3179</td>\n",
       "      <td>2550</td>\n",
       "    </tr>\n",
       "    <tr>\n",
       "      <th>4</th>\n",
       "      <td>Life sciencesa</td>\n",
       "      <td>5783</td>\n",
       "      <td>7172</td>\n",
       "      <td>8421</td>\n",
       "      <td>8478</td>\n",
       "      <td>10702</td>\n",
       "      <td>11964</td>\n",
       "      <td>12592</td>\n",
       "    </tr>\n",
       "    <tr>\n",
       "      <th>5</th>\n",
       "      <td>U.S. citizen or permanent resident</td>\n",
       "      <td>4529</td>\n",
       "      <td>5106</td>\n",
       "      <td>5987</td>\n",
       "      <td>5850</td>\n",
       "      <td>7009</td>\n",
       "      <td>8184</td>\n",
       "      <td>8857</td>\n",
       "    </tr>\n",
       "    <tr>\n",
       "      <th>6</th>\n",
       "      <td>Temporary visa holder</td>\n",
       "      <td>939</td>\n",
       "      <td>1956</td>\n",
       "      <td>2058</td>\n",
       "      <td>2121</td>\n",
       "      <td>3039</td>\n",
       "      <td>3197</td>\n",
       "      <td>3329</td>\n",
       "    </tr>\n",
       "    <tr>\n",
       "      <th>7</th>\n",
       "      <td>Unknown</td>\n",
       "      <td>315</td>\n",
       "      <td>110</td>\n",
       "      <td>376</td>\n",
       "      <td>507</td>\n",
       "      <td>654</td>\n",
       "      <td>583</td>\n",
       "      <td>406</td>\n",
       "    </tr>\n",
       "    <tr>\n",
       "      <th>8</th>\n",
       "      <td>Physical sciences and earth sciences</td>\n",
       "      <td>3811</td>\n",
       "      <td>4517</td>\n",
       "      <td>4550</td>\n",
       "      <td>3875</td>\n",
       "      <td>4956</td>\n",
       "      <td>5419</td>\n",
       "      <td>6081</td>\n",
       "    </tr>\n",
       "    <tr>\n",
       "      <th>9</th>\n",
       "      <td>U.S. citizen or permanent resident</td>\n",
       "      <td>2657</td>\n",
       "      <td>2857</td>\n",
       "      <td>3034</td>\n",
       "      <td>2358</td>\n",
       "      <td>2567</td>\n",
       "      <td>3148</td>\n",
       "      <td>3717</td>\n",
       "    </tr>\n",
       "    <tr>\n",
       "      <th>10</th>\n",
       "      <td>Temporary visa holder</td>\n",
       "      <td>929</td>\n",
       "      <td>1572</td>\n",
       "      <td>1297</td>\n",
       "      <td>1330</td>\n",
       "      <td>2059</td>\n",
       "      <td>1959</td>\n",
       "      <td>2156</td>\n",
       "    </tr>\n",
       "    <tr>\n",
       "      <th>11</th>\n",
       "      <td>Unknown</td>\n",
       "      <td>225</td>\n",
       "      <td>88</td>\n",
       "      <td>219</td>\n",
       "      <td>187</td>\n",
       "      <td>330</td>\n",
       "      <td>312</td>\n",
       "      <td>208</td>\n",
       "    </tr>\n",
       "    <tr>\n",
       "      <th>12</th>\n",
       "      <td>Mathematics and computer sciences</td>\n",
       "      <td>1189</td>\n",
       "      <td>1927</td>\n",
       "      <td>2032</td>\n",
       "      <td>1729</td>\n",
       "      <td>3042</td>\n",
       "      <td>3496</td>\n",
       "      <td>3843</td>\n",
       "    </tr>\n",
       "    <tr>\n",
       "      <th>13</th>\n",
       "      <td>U.S. citizen or permanent resident</td>\n",
       "      <td>673</td>\n",
       "      <td>997</td>\n",
       "      <td>1150</td>\n",
       "      <td>868</td>\n",
       "      <td>1241</td>\n",
       "      <td>1627</td>\n",
       "      <td>1746</td>\n",
       "    </tr>\n",
       "    <tr>\n",
       "      <th>14</th>\n",
       "      <td>Temporary visa holder</td>\n",
       "      <td>445</td>\n",
       "      <td>876</td>\n",
       "      <td>771</td>\n",
       "      <td>789</td>\n",
       "      <td>1591</td>\n",
       "      <td>1617</td>\n",
       "      <td>1931</td>\n",
       "    </tr>\n",
       "    <tr>\n",
       "      <th>15</th>\n",
       "      <td>Unknown</td>\n",
       "      <td>71</td>\n",
       "      <td>54</td>\n",
       "      <td>111</td>\n",
       "      <td>72</td>\n",
       "      <td>210</td>\n",
       "      <td>252</td>\n",
       "      <td>166</td>\n",
       "    </tr>\n",
       "    <tr>\n",
       "      <th>16</th>\n",
       "      <td>Psychology and social sciences</td>\n",
       "      <td>6063</td>\n",
       "      <td>6562</td>\n",
       "      <td>7369</td>\n",
       "      <td>6925</td>\n",
       "      <td>7309</td>\n",
       "      <td>8498</td>\n",
       "      <td>9079</td>\n",
       "    </tr>\n",
       "    <tr>\n",
       "      <th>17</th>\n",
       "      <td>U.S. citizen or permanent resident</td>\n",
       "      <td>4846</td>\n",
       "      <td>5189</td>\n",
       "      <td>5796</td>\n",
       "      <td>5363</td>\n",
       "      <td>5272</td>\n",
       "      <td>6319</td>\n",
       "      <td>6874</td>\n",
       "    </tr>\n",
       "    <tr>\n",
       "      <th>18</th>\n",
       "      <td>Temporary visa holder</td>\n",
       "      <td>726</td>\n",
       "      <td>1158</td>\n",
       "      <td>1080</td>\n",
       "      <td>1110</td>\n",
       "      <td>1482</td>\n",
       "      <td>1601</td>\n",
       "      <td>1680</td>\n",
       "    </tr>\n",
       "    <tr>\n",
       "      <th>19</th>\n",
       "      <td>Unknown</td>\n",
       "      <td>491</td>\n",
       "      <td>215</td>\n",
       "      <td>493</td>\n",
       "      <td>452</td>\n",
       "      <td>555</td>\n",
       "      <td>578</td>\n",
       "      <td>525</td>\n",
       "    </tr>\n",
       "    <tr>\n",
       "      <th>20</th>\n",
       "      <td>Engineering</td>\n",
       "      <td>3712</td>\n",
       "      <td>5438</td>\n",
       "      <td>6114</td>\n",
       "      <td>5081</td>\n",
       "      <td>7749</td>\n",
       "      <td>8469</td>\n",
       "      <td>9843</td>\n",
       "    </tr>\n",
       "    <tr>\n",
       "      <th>21</th>\n",
       "      <td>U.S. citizen or permanent resident</td>\n",
       "      <td>1915</td>\n",
       "      <td>2521</td>\n",
       "      <td>3333</td>\n",
       "      <td>2169</td>\n",
       "      <td>2546</td>\n",
       "      <td>3579</td>\n",
       "      <td>4339</td>\n",
       "    </tr>\n",
       "    <tr>\n",
       "      <th>22</th>\n",
       "      <td>Temporary visa holder</td>\n",
       "      <td>1539</td>\n",
       "      <td>2749</td>\n",
       "      <td>2555</td>\n",
       "      <td>2650</td>\n",
       "      <td>4591</td>\n",
       "      <td>4355</td>\n",
       "      <td>5070</td>\n",
       "    </tr>\n",
       "    <tr>\n",
       "      <th>23</th>\n",
       "      <td>Unknown</td>\n",
       "      <td>258</td>\n",
       "      <td>168</td>\n",
       "      <td>226</td>\n",
       "      <td>262</td>\n",
       "      <td>612</td>\n",
       "      <td>535</td>\n",
       "      <td>434</td>\n",
       "    </tr>\n",
       "    <tr>\n",
       "      <th>24</th>\n",
       "      <td>Education</td>\n",
       "      <td>6453</td>\n",
       "      <td>6677</td>\n",
       "      <td>6577</td>\n",
       "      <td>6508</td>\n",
       "      <td>6448</td>\n",
       "      <td>4803</td>\n",
       "      <td>4823</td>\n",
       "    </tr>\n",
       "    <tr>\n",
       "      <th>25</th>\n",
       "      <td>U.S. citizen or permanent resident</td>\n",
       "      <td>5665</td>\n",
       "      <td>6018</td>\n",
       "      <td>5748</td>\n",
       "      <td>5417</td>\n",
       "      <td>5358</td>\n",
       "      <td>4040</td>\n",
       "      <td>4047</td>\n",
       "    </tr>\n",
       "    <tr>\n",
       "      <th>26</th>\n",
       "      <td>Temporary visa holder</td>\n",
       "      <td>430</td>\n",
       "      <td>559</td>\n",
       "      <td>411</td>\n",
       "      <td>479</td>\n",
       "      <td>601</td>\n",
       "      <td>460</td>\n",
       "      <td>536</td>\n",
       "    </tr>\n",
       "    <tr>\n",
       "      <th>27</th>\n",
       "      <td>Unknown</td>\n",
       "      <td>358</td>\n",
       "      <td>100</td>\n",
       "      <td>418</td>\n",
       "      <td>612</td>\n",
       "      <td>489</td>\n",
       "      <td>303</td>\n",
       "      <td>240</td>\n",
       "    </tr>\n",
       "    <tr>\n",
       "      <th>28</th>\n",
       "      <td>Humanities and arts</td>\n",
       "      <td>3478</td>\n",
       "      <td>4387</td>\n",
       "      <td>5285</td>\n",
       "      <td>5297</td>\n",
       "      <td>5085</td>\n",
       "      <td>5561</td>\n",
       "      <td>5290</td>\n",
       "    </tr>\n",
       "    <tr>\n",
       "      <th>29</th>\n",
       "      <td>U.S. citizen or permanent resident</td>\n",
       "      <td>2929</td>\n",
       "      <td>3745</td>\n",
       "      <td>4452</td>\n",
       "      <td>4320</td>\n",
       "      <td>3894</td>\n",
       "      <td>4434</td>\n",
       "      <td>4290</td>\n",
       "    </tr>\n",
       "    <tr>\n",
       "      <th>30</th>\n",
       "      <td>Temporary visa holder</td>\n",
       "      <td>282</td>\n",
       "      <td>542</td>\n",
       "      <td>561</td>\n",
       "      <td>705</td>\n",
       "      <td>797</td>\n",
       "      <td>761</td>\n",
       "      <td>693</td>\n",
       "    </tr>\n",
       "    <tr>\n",
       "      <th>31</th>\n",
       "      <td>Unknown</td>\n",
       "      <td>267</td>\n",
       "      <td>100</td>\n",
       "      <td>272</td>\n",
       "      <td>272</td>\n",
       "      <td>394</td>\n",
       "      <td>366</td>\n",
       "      <td>307</td>\n",
       "    </tr>\n",
       "    <tr>\n",
       "      <th>32</th>\n",
       "      <td>Otherb</td>\n",
       "      <td>1876</td>\n",
       "      <td>2206</td>\n",
       "      <td>2191</td>\n",
       "      <td>2138</td>\n",
       "      <td>2841</td>\n",
       "      <td>2734</td>\n",
       "      <td>3113</td>\n",
       "    </tr>\n",
       "    <tr>\n",
       "      <th>33</th>\n",
       "      <td>U.S. citizen or permanent resident</td>\n",
       "      <td>1371</td>\n",
       "      <td>1572</td>\n",
       "      <td>1597</td>\n",
       "      <td>1392</td>\n",
       "      <td>1614</td>\n",
       "      <td>1650</td>\n",
       "      <td>1921</td>\n",
       "    </tr>\n",
       "    <tr>\n",
       "      <th>34</th>\n",
       "      <td>Temporary visa holder</td>\n",
       "      <td>370</td>\n",
       "      <td>568</td>\n",
       "      <td>461</td>\n",
       "      <td>563</td>\n",
       "      <td>963</td>\n",
       "      <td>834</td>\n",
       "      <td>928</td>\n",
       "    </tr>\n",
       "    <tr>\n",
       "      <th>35</th>\n",
       "      <td>Unknown</td>\n",
       "      <td>135</td>\n",
       "      <td>66</td>\n",
       "      <td>133</td>\n",
       "      <td>183</td>\n",
       "      <td>264</td>\n",
       "      <td>250</td>\n",
       "      <td>264</td>\n",
       "    </tr>\n",
       "  </tbody>\n",
       "</table>\n",
       "</div>"
      ],
      "text/plain": [
       "   Field of study and citizenship status   1987   1992   1997   2002   2007  \\\n",
       "0                             All fields  32365  38886  42539  40031  48132   \n",
       "1     U.S. citizen or permanent resident  24585  28005  31097  27737  29501   \n",
       "2                  Temporary visa holder   5660   9980   9194   9747  15123   \n",
       "3                                Unknown   2120    901   2248   2547   3508   \n",
       "4                         Life sciencesa   5783   7172   8421   8478  10702   \n",
       "5     U.S. citizen or permanent resident   4529   5106   5987   5850   7009   \n",
       "6                  Temporary visa holder    939   1956   2058   2121   3039   \n",
       "7                                Unknown    315    110    376    507    654   \n",
       "8   Physical sciences and earth sciences   3811   4517   4550   3875   4956   \n",
       "9     U.S. citizen or permanent resident   2657   2857   3034   2358   2567   \n",
       "10                 Temporary visa holder    929   1572   1297   1330   2059   \n",
       "11                               Unknown    225     88    219    187    330   \n",
       "12     Mathematics and computer sciences   1189   1927   2032   1729   3042   \n",
       "13    U.S. citizen or permanent resident    673    997   1150    868   1241   \n",
       "14                 Temporary visa holder    445    876    771    789   1591   \n",
       "15                               Unknown     71     54    111     72    210   \n",
       "16        Psychology and social sciences   6063   6562   7369   6925   7309   \n",
       "17    U.S. citizen or permanent resident   4846   5189   5796   5363   5272   \n",
       "18                 Temporary visa holder    726   1158   1080   1110   1482   \n",
       "19                               Unknown    491    215    493    452    555   \n",
       "20                           Engineering   3712   5438   6114   5081   7749   \n",
       "21    U.S. citizen or permanent resident   1915   2521   3333   2169   2546   \n",
       "22                 Temporary visa holder   1539   2749   2555   2650   4591   \n",
       "23                               Unknown    258    168    226    262    612   \n",
       "24                             Education   6453   6677   6577   6508   6448   \n",
       "25    U.S. citizen or permanent resident   5665   6018   5748   5417   5358   \n",
       "26                 Temporary visa holder    430    559    411    479    601   \n",
       "27                               Unknown    358    100    418    612    489   \n",
       "28                   Humanities and arts   3478   4387   5285   5297   5085   \n",
       "29    U.S. citizen or permanent resident   2929   3745   4452   4320   3894   \n",
       "30                 Temporary visa holder    282    542    561    705    797   \n",
       "31                               Unknown    267    100    272    272    394   \n",
       "32                                Otherb   1876   2206   2191   2138   2841   \n",
       "33    U.S. citizen or permanent resident   1371   1572   1597   1392   1614   \n",
       "34                 Temporary visa holder    370    568    461    563    963   \n",
       "35                               Unknown    135     66    133    183    264   \n",
       "\n",
       "     2012   2017  \n",
       "0   50944  54664  \n",
       "1   32981  35791  \n",
       "2   14784  16323  \n",
       "3    3179   2550  \n",
       "4   11964  12592  \n",
       "5    8184   8857  \n",
       "6    3197   3329  \n",
       "7     583    406  \n",
       "8    5419   6081  \n",
       "9    3148   3717  \n",
       "10   1959   2156  \n",
       "11    312    208  \n",
       "12   3496   3843  \n",
       "13   1627   1746  \n",
       "14   1617   1931  \n",
       "15    252    166  \n",
       "16   8498   9079  \n",
       "17   6319   6874  \n",
       "18   1601   1680  \n",
       "19    578    525  \n",
       "20   8469   9843  \n",
       "21   3579   4339  \n",
       "22   4355   5070  \n",
       "23    535    434  \n",
       "24   4803   4823  \n",
       "25   4040   4047  \n",
       "26    460    536  \n",
       "27    303    240  \n",
       "28   5561   5290  \n",
       "29   4434   4290  \n",
       "30    761    693  \n",
       "31    366    307  \n",
       "32   2734   3113  \n",
       "33   1650   1921  \n",
       "34    834    928  \n",
       "35    250    264  "
      ]
     },
     "execution_count": 101,
     "metadata": {},
     "output_type": "execute_result"
    }
   ],
   "source": [
    "df_17.head(50)"
   ]
  },
  {
   "cell_type": "code",
   "execution_count": 102,
   "metadata": {},
   "outputs": [
    {
     "data": {
      "text/html": [
       "<div>\n",
       "<style scoped>\n",
       "    .dataframe tbody tr th:only-of-type {\n",
       "        vertical-align: middle;\n",
       "    }\n",
       "\n",
       "    .dataframe tbody tr th {\n",
       "        vertical-align: top;\n",
       "    }\n",
       "\n",
       "    .dataframe thead th {\n",
       "        text-align: right;\n",
       "    }\n",
       "</style>\n",
       "<table border=\"1\" class=\"dataframe\">\n",
       "  <thead>\n",
       "    <tr style=\"text-align: right;\">\n",
       "      <th></th>\n",
       "      <th>Field of Study</th>\n",
       "      <th>1987</th>\n",
       "      <th>1992</th>\n",
       "      <th>1997</th>\n",
       "      <th>2002</th>\n",
       "      <th>2007</th>\n",
       "      <th>2012</th>\n",
       "      <th>2017</th>\n",
       "    </tr>\n",
       "  </thead>\n",
       "  <tbody>\n",
       "    <tr>\n",
       "      <th>0</th>\n",
       "      <td>All fields</td>\n",
       "      <td>32365</td>\n",
       "      <td>38886</td>\n",
       "      <td>42539</td>\n",
       "      <td>40031</td>\n",
       "      <td>48132</td>\n",
       "      <td>50944</td>\n",
       "      <td>54664</td>\n",
       "    </tr>\n",
       "    <tr>\n",
       "      <th>4</th>\n",
       "      <td>Life sciencesa</td>\n",
       "      <td>5783</td>\n",
       "      <td>7172</td>\n",
       "      <td>8421</td>\n",
       "      <td>8478</td>\n",
       "      <td>10702</td>\n",
       "      <td>11964</td>\n",
       "      <td>12592</td>\n",
       "    </tr>\n",
       "    <tr>\n",
       "      <th>8</th>\n",
       "      <td>Physical sciences and earth sciences</td>\n",
       "      <td>3811</td>\n",
       "      <td>4517</td>\n",
       "      <td>4550</td>\n",
       "      <td>3875</td>\n",
       "      <td>4956</td>\n",
       "      <td>5419</td>\n",
       "      <td>6081</td>\n",
       "    </tr>\n",
       "    <tr>\n",
       "      <th>12</th>\n",
       "      <td>Mathematics and computer sciences</td>\n",
       "      <td>1189</td>\n",
       "      <td>1927</td>\n",
       "      <td>2032</td>\n",
       "      <td>1729</td>\n",
       "      <td>3042</td>\n",
       "      <td>3496</td>\n",
       "      <td>3843</td>\n",
       "    </tr>\n",
       "    <tr>\n",
       "      <th>16</th>\n",
       "      <td>Psychology and social sciences</td>\n",
       "      <td>6063</td>\n",
       "      <td>6562</td>\n",
       "      <td>7369</td>\n",
       "      <td>6925</td>\n",
       "      <td>7309</td>\n",
       "      <td>8498</td>\n",
       "      <td>9079</td>\n",
       "    </tr>\n",
       "    <tr>\n",
       "      <th>20</th>\n",
       "      <td>Engineering</td>\n",
       "      <td>3712</td>\n",
       "      <td>5438</td>\n",
       "      <td>6114</td>\n",
       "      <td>5081</td>\n",
       "      <td>7749</td>\n",
       "      <td>8469</td>\n",
       "      <td>9843</td>\n",
       "    </tr>\n",
       "    <tr>\n",
       "      <th>24</th>\n",
       "      <td>Education</td>\n",
       "      <td>6453</td>\n",
       "      <td>6677</td>\n",
       "      <td>6577</td>\n",
       "      <td>6508</td>\n",
       "      <td>6448</td>\n",
       "      <td>4803</td>\n",
       "      <td>4823</td>\n",
       "    </tr>\n",
       "    <tr>\n",
       "      <th>28</th>\n",
       "      <td>Humanities and arts</td>\n",
       "      <td>3478</td>\n",
       "      <td>4387</td>\n",
       "      <td>5285</td>\n",
       "      <td>5297</td>\n",
       "      <td>5085</td>\n",
       "      <td>5561</td>\n",
       "      <td>5290</td>\n",
       "    </tr>\n",
       "    <tr>\n",
       "      <th>32</th>\n",
       "      <td>Otherb</td>\n",
       "      <td>1876</td>\n",
       "      <td>2206</td>\n",
       "      <td>2191</td>\n",
       "      <td>2138</td>\n",
       "      <td>2841</td>\n",
       "      <td>2734</td>\n",
       "      <td>3113</td>\n",
       "    </tr>\n",
       "  </tbody>\n",
       "</table>\n",
       "</div>"
      ],
      "text/plain": [
       "                          Field of Study   1987   1992   1997   2002   2007  \\\n",
       "0                             All fields  32365  38886  42539  40031  48132   \n",
       "4                         Life sciencesa   5783   7172   8421   8478  10702   \n",
       "8   Physical sciences and earth sciences   3811   4517   4550   3875   4956   \n",
       "12     Mathematics and computer sciences   1189   1927   2032   1729   3042   \n",
       "16        Psychology and social sciences   6063   6562   7369   6925   7309   \n",
       "20                           Engineering   3712   5438   6114   5081   7749   \n",
       "24                             Education   6453   6677   6577   6508   6448   \n",
       "28                   Humanities and arts   3478   4387   5285   5297   5085   \n",
       "32                                Otherb   1876   2206   2191   2138   2841   \n",
       "\n",
       "     2012   2017  \n",
       "0   50944  54664  \n",
       "4   11964  12592  \n",
       "8    5419   6081  \n",
       "12   3496   3843  \n",
       "16   8498   9079  \n",
       "20   8469   9843  \n",
       "24   4803   4823  \n",
       "28   5561   5290  \n",
       "32   2734   3113  "
      ]
     },
     "execution_count": 102,
     "metadata": {},
     "output_type": "execute_result"
    }
   ],
   "source": [
    "# Get indexes where name column doesn't have value john\n",
    "indexNames = df_17[~(df_17['Field of study and citizenship status'] != 'U.S. citizen or permanent resident')].index \n",
    "# Delete these row indexes from dataFrame\n",
    "df_17.drop(indexNames , inplace=True)\n",
    "indexNames2 = df_17[~(df_17['Field of study and citizenship status'] != 'Temporary visa holder')].index \n",
    "# Delete these row indexes from dataFrame\n",
    "df_17.drop(indexNames2 , inplace=True)\n",
    "indexNames3 = df_17[~(df_17['Field of study and citizenship status'] != 'Unknown')].index \n",
    "# Delete these row indexes from dataFrame\n",
    "df_17.drop(indexNames3 , inplace=True)\n",
    "df_17=df_17.rename(columns={\"Field of study and citizenship status\": \"Field of Study\"})\n",
    "df_17.head(10)"
   ]
  },
  {
   "cell_type": "code",
   "execution_count": 103,
   "metadata": {},
   "outputs": [
    {
     "data": {
      "application/vnd.plotly.v1+json": {
       "config": {
        "plotlyServerURL": "https://plot.ly"
       },
       "data": [
        {
         "alignmentgroup": "True",
         "hovertemplate": "variable=1987<br>Field of Study=%{x}<br>value=%{y}<extra></extra>",
         "legendgroup": "1987",
         "marker": {
          "color": "#636efa"
         },
         "name": "1987",
         "offsetgroup": "1987",
         "orientation": "v",
         "showlegend": true,
         "textposition": "auto",
         "type": "bar",
         "x": [
          "All fields",
          "Life sciencesa",
          "Physical sciences and earth sciences",
          "Mathematics and computer sciences",
          "Psychology and social sciences",
          "Engineering",
          "Education",
          "Humanities and arts",
          "Otherb"
         ],
         "xaxis": "x",
         "y": [
          32365,
          5783,
          3811,
          1189,
          6063,
          3712,
          6453,
          3478,
          1876
         ],
         "yaxis": "y"
        },
        {
         "alignmentgroup": "True",
         "hovertemplate": "variable=1992<br>Field of Study=%{x}<br>value=%{y}<extra></extra>",
         "legendgroup": "1992",
         "marker": {
          "color": "#EF553B"
         },
         "name": "1992",
         "offsetgroup": "1992",
         "orientation": "v",
         "showlegend": true,
         "textposition": "auto",
         "type": "bar",
         "x": [
          "All fields",
          "Life sciencesa",
          "Physical sciences and earth sciences",
          "Mathematics and computer sciences",
          "Psychology and social sciences",
          "Engineering",
          "Education",
          "Humanities and arts",
          "Otherb"
         ],
         "xaxis": "x",
         "y": [
          38886,
          7172,
          4517,
          1927,
          6562,
          5438,
          6677,
          4387,
          2206
         ],
         "yaxis": "y"
        },
        {
         "alignmentgroup": "True",
         "hovertemplate": "variable=1997<br>Field of Study=%{x}<br>value=%{y}<extra></extra>",
         "legendgroup": "1997",
         "marker": {
          "color": "#00cc96"
         },
         "name": "1997",
         "offsetgroup": "1997",
         "orientation": "v",
         "showlegend": true,
         "textposition": "auto",
         "type": "bar",
         "x": [
          "All fields",
          "Life sciencesa",
          "Physical sciences and earth sciences",
          "Mathematics and computer sciences",
          "Psychology and social sciences",
          "Engineering",
          "Education",
          "Humanities and arts",
          "Otherb"
         ],
         "xaxis": "x",
         "y": [
          42539,
          8421,
          4550,
          2032,
          7369,
          6114,
          6577,
          5285,
          2191
         ],
         "yaxis": "y"
        },
        {
         "alignmentgroup": "True",
         "hovertemplate": "variable=2002<br>Field of Study=%{x}<br>value=%{y}<extra></extra>",
         "legendgroup": "2002",
         "marker": {
          "color": "#ab63fa"
         },
         "name": "2002",
         "offsetgroup": "2002",
         "orientation": "v",
         "showlegend": true,
         "textposition": "auto",
         "type": "bar",
         "x": [
          "All fields",
          "Life sciencesa",
          "Physical sciences and earth sciences",
          "Mathematics and computer sciences",
          "Psychology and social sciences",
          "Engineering",
          "Education",
          "Humanities and arts",
          "Otherb"
         ],
         "xaxis": "x",
         "y": [
          40031,
          8478,
          3875,
          1729,
          6925,
          5081,
          6508,
          5297,
          2138
         ],
         "yaxis": "y"
        },
        {
         "alignmentgroup": "True",
         "hovertemplate": "variable=2007<br>Field of Study=%{x}<br>value=%{y}<extra></extra>",
         "legendgroup": "2007",
         "marker": {
          "color": "#FFA15A"
         },
         "name": "2007",
         "offsetgroup": "2007",
         "orientation": "v",
         "showlegend": true,
         "textposition": "auto",
         "type": "bar",
         "x": [
          "All fields",
          "Life sciencesa",
          "Physical sciences and earth sciences",
          "Mathematics and computer sciences",
          "Psychology and social sciences",
          "Engineering",
          "Education",
          "Humanities and arts",
          "Otherb"
         ],
         "xaxis": "x",
         "y": [
          48132,
          10702,
          4956,
          3042,
          7309,
          7749,
          6448,
          5085,
          2841
         ],
         "yaxis": "y"
        },
        {
         "alignmentgroup": "True",
         "hovertemplate": "variable=2012<br>Field of Study=%{x}<br>value=%{y}<extra></extra>",
         "legendgroup": "2012",
         "marker": {
          "color": "#19d3f3"
         },
         "name": "2012",
         "offsetgroup": "2012",
         "orientation": "v",
         "showlegend": true,
         "textposition": "auto",
         "type": "bar",
         "x": [
          "All fields",
          "Life sciencesa",
          "Physical sciences and earth sciences",
          "Mathematics and computer sciences",
          "Psychology and social sciences",
          "Engineering",
          "Education",
          "Humanities and arts",
          "Otherb"
         ],
         "xaxis": "x",
         "y": [
          50944,
          11964,
          5419,
          3496,
          8498,
          8469,
          4803,
          5561,
          2734
         ],
         "yaxis": "y"
        },
        {
         "alignmentgroup": "True",
         "hovertemplate": "variable=2017<br>Field of Study=%{x}<br>value=%{y}<extra></extra>",
         "legendgroup": "2017",
         "marker": {
          "color": "#FF6692"
         },
         "name": "2017",
         "offsetgroup": "2017",
         "orientation": "v",
         "showlegend": true,
         "textposition": "auto",
         "type": "bar",
         "x": [
          "All fields",
          "Life sciencesa",
          "Physical sciences and earth sciences",
          "Mathematics and computer sciences",
          "Psychology and social sciences",
          "Engineering",
          "Education",
          "Humanities and arts",
          "Otherb"
         ],
         "xaxis": "x",
         "y": [
          54664,
          12592,
          6081,
          3843,
          9079,
          9843,
          4823,
          5290,
          3113
         ],
         "yaxis": "y"
        }
       ],
       "layout": {
        "barmode": "relative",
        "legend": {
         "title": {
          "text": "variable"
         },
         "tracegroupgap": 0
        },
        "template": {
         "data": {
          "bar": [
           {
            "error_x": {
             "color": "#2a3f5f"
            },
            "error_y": {
             "color": "#2a3f5f"
            },
            "marker": {
             "line": {
              "color": "#E5ECF6",
              "width": 0.5
             }
            },
            "type": "bar"
           }
          ],
          "barpolar": [
           {
            "marker": {
             "line": {
              "color": "#E5ECF6",
              "width": 0.5
             }
            },
            "type": "barpolar"
           }
          ],
          "carpet": [
           {
            "aaxis": {
             "endlinecolor": "#2a3f5f",
             "gridcolor": "white",
             "linecolor": "white",
             "minorgridcolor": "white",
             "startlinecolor": "#2a3f5f"
            },
            "baxis": {
             "endlinecolor": "#2a3f5f",
             "gridcolor": "white",
             "linecolor": "white",
             "minorgridcolor": "white",
             "startlinecolor": "#2a3f5f"
            },
            "type": "carpet"
           }
          ],
          "choropleth": [
           {
            "colorbar": {
             "outlinewidth": 0,
             "ticks": ""
            },
            "type": "choropleth"
           }
          ],
          "contour": [
           {
            "colorbar": {
             "outlinewidth": 0,
             "ticks": ""
            },
            "colorscale": [
             [
              0,
              "#0d0887"
             ],
             [
              0.1111111111111111,
              "#46039f"
             ],
             [
              0.2222222222222222,
              "#7201a8"
             ],
             [
              0.3333333333333333,
              "#9c179e"
             ],
             [
              0.4444444444444444,
              "#bd3786"
             ],
             [
              0.5555555555555556,
              "#d8576b"
             ],
             [
              0.6666666666666666,
              "#ed7953"
             ],
             [
              0.7777777777777778,
              "#fb9f3a"
             ],
             [
              0.8888888888888888,
              "#fdca26"
             ],
             [
              1,
              "#f0f921"
             ]
            ],
            "type": "contour"
           }
          ],
          "contourcarpet": [
           {
            "colorbar": {
             "outlinewidth": 0,
             "ticks": ""
            },
            "type": "contourcarpet"
           }
          ],
          "heatmap": [
           {
            "colorbar": {
             "outlinewidth": 0,
             "ticks": ""
            },
            "colorscale": [
             [
              0,
              "#0d0887"
             ],
             [
              0.1111111111111111,
              "#46039f"
             ],
             [
              0.2222222222222222,
              "#7201a8"
             ],
             [
              0.3333333333333333,
              "#9c179e"
             ],
             [
              0.4444444444444444,
              "#bd3786"
             ],
             [
              0.5555555555555556,
              "#d8576b"
             ],
             [
              0.6666666666666666,
              "#ed7953"
             ],
             [
              0.7777777777777778,
              "#fb9f3a"
             ],
             [
              0.8888888888888888,
              "#fdca26"
             ],
             [
              1,
              "#f0f921"
             ]
            ],
            "type": "heatmap"
           }
          ],
          "heatmapgl": [
           {
            "colorbar": {
             "outlinewidth": 0,
             "ticks": ""
            },
            "colorscale": [
             [
              0,
              "#0d0887"
             ],
             [
              0.1111111111111111,
              "#46039f"
             ],
             [
              0.2222222222222222,
              "#7201a8"
             ],
             [
              0.3333333333333333,
              "#9c179e"
             ],
             [
              0.4444444444444444,
              "#bd3786"
             ],
             [
              0.5555555555555556,
              "#d8576b"
             ],
             [
              0.6666666666666666,
              "#ed7953"
             ],
             [
              0.7777777777777778,
              "#fb9f3a"
             ],
             [
              0.8888888888888888,
              "#fdca26"
             ],
             [
              1,
              "#f0f921"
             ]
            ],
            "type": "heatmapgl"
           }
          ],
          "histogram": [
           {
            "marker": {
             "colorbar": {
              "outlinewidth": 0,
              "ticks": ""
             }
            },
            "type": "histogram"
           }
          ],
          "histogram2d": [
           {
            "colorbar": {
             "outlinewidth": 0,
             "ticks": ""
            },
            "colorscale": [
             [
              0,
              "#0d0887"
             ],
             [
              0.1111111111111111,
              "#46039f"
             ],
             [
              0.2222222222222222,
              "#7201a8"
             ],
             [
              0.3333333333333333,
              "#9c179e"
             ],
             [
              0.4444444444444444,
              "#bd3786"
             ],
             [
              0.5555555555555556,
              "#d8576b"
             ],
             [
              0.6666666666666666,
              "#ed7953"
             ],
             [
              0.7777777777777778,
              "#fb9f3a"
             ],
             [
              0.8888888888888888,
              "#fdca26"
             ],
             [
              1,
              "#f0f921"
             ]
            ],
            "type": "histogram2d"
           }
          ],
          "histogram2dcontour": [
           {
            "colorbar": {
             "outlinewidth": 0,
             "ticks": ""
            },
            "colorscale": [
             [
              0,
              "#0d0887"
             ],
             [
              0.1111111111111111,
              "#46039f"
             ],
             [
              0.2222222222222222,
              "#7201a8"
             ],
             [
              0.3333333333333333,
              "#9c179e"
             ],
             [
              0.4444444444444444,
              "#bd3786"
             ],
             [
              0.5555555555555556,
              "#d8576b"
             ],
             [
              0.6666666666666666,
              "#ed7953"
             ],
             [
              0.7777777777777778,
              "#fb9f3a"
             ],
             [
              0.8888888888888888,
              "#fdca26"
             ],
             [
              1,
              "#f0f921"
             ]
            ],
            "type": "histogram2dcontour"
           }
          ],
          "mesh3d": [
           {
            "colorbar": {
             "outlinewidth": 0,
             "ticks": ""
            },
            "type": "mesh3d"
           }
          ],
          "parcoords": [
           {
            "line": {
             "colorbar": {
              "outlinewidth": 0,
              "ticks": ""
             }
            },
            "type": "parcoords"
           }
          ],
          "pie": [
           {
            "automargin": true,
            "type": "pie"
           }
          ],
          "scatter": [
           {
            "marker": {
             "colorbar": {
              "outlinewidth": 0,
              "ticks": ""
             }
            },
            "type": "scatter"
           }
          ],
          "scatter3d": [
           {
            "line": {
             "colorbar": {
              "outlinewidth": 0,
              "ticks": ""
             }
            },
            "marker": {
             "colorbar": {
              "outlinewidth": 0,
              "ticks": ""
             }
            },
            "type": "scatter3d"
           }
          ],
          "scattercarpet": [
           {
            "marker": {
             "colorbar": {
              "outlinewidth": 0,
              "ticks": ""
             }
            },
            "type": "scattercarpet"
           }
          ],
          "scattergeo": [
           {
            "marker": {
             "colorbar": {
              "outlinewidth": 0,
              "ticks": ""
             }
            },
            "type": "scattergeo"
           }
          ],
          "scattergl": [
           {
            "marker": {
             "colorbar": {
              "outlinewidth": 0,
              "ticks": ""
             }
            },
            "type": "scattergl"
           }
          ],
          "scattermapbox": [
           {
            "marker": {
             "colorbar": {
              "outlinewidth": 0,
              "ticks": ""
             }
            },
            "type": "scattermapbox"
           }
          ],
          "scatterpolar": [
           {
            "marker": {
             "colorbar": {
              "outlinewidth": 0,
              "ticks": ""
             }
            },
            "type": "scatterpolar"
           }
          ],
          "scatterpolargl": [
           {
            "marker": {
             "colorbar": {
              "outlinewidth": 0,
              "ticks": ""
             }
            },
            "type": "scatterpolargl"
           }
          ],
          "scatterternary": [
           {
            "marker": {
             "colorbar": {
              "outlinewidth": 0,
              "ticks": ""
             }
            },
            "type": "scatterternary"
           }
          ],
          "surface": [
           {
            "colorbar": {
             "outlinewidth": 0,
             "ticks": ""
            },
            "colorscale": [
             [
              0,
              "#0d0887"
             ],
             [
              0.1111111111111111,
              "#46039f"
             ],
             [
              0.2222222222222222,
              "#7201a8"
             ],
             [
              0.3333333333333333,
              "#9c179e"
             ],
             [
              0.4444444444444444,
              "#bd3786"
             ],
             [
              0.5555555555555556,
              "#d8576b"
             ],
             [
              0.6666666666666666,
              "#ed7953"
             ],
             [
              0.7777777777777778,
              "#fb9f3a"
             ],
             [
              0.8888888888888888,
              "#fdca26"
             ],
             [
              1,
              "#f0f921"
             ]
            ],
            "type": "surface"
           }
          ],
          "table": [
           {
            "cells": {
             "fill": {
              "color": "#EBF0F8"
             },
             "line": {
              "color": "white"
             }
            },
            "header": {
             "fill": {
              "color": "#C8D4E3"
             },
             "line": {
              "color": "white"
             }
            },
            "type": "table"
           }
          ]
         },
         "layout": {
          "annotationdefaults": {
           "arrowcolor": "#2a3f5f",
           "arrowhead": 0,
           "arrowwidth": 1
          },
          "coloraxis": {
           "colorbar": {
            "outlinewidth": 0,
            "ticks": ""
           }
          },
          "colorscale": {
           "diverging": [
            [
             0,
             "#8e0152"
            ],
            [
             0.1,
             "#c51b7d"
            ],
            [
             0.2,
             "#de77ae"
            ],
            [
             0.3,
             "#f1b6da"
            ],
            [
             0.4,
             "#fde0ef"
            ],
            [
             0.5,
             "#f7f7f7"
            ],
            [
             0.6,
             "#e6f5d0"
            ],
            [
             0.7,
             "#b8e186"
            ],
            [
             0.8,
             "#7fbc41"
            ],
            [
             0.9,
             "#4d9221"
            ],
            [
             1,
             "#276419"
            ]
           ],
           "sequential": [
            [
             0,
             "#0d0887"
            ],
            [
             0.1111111111111111,
             "#46039f"
            ],
            [
             0.2222222222222222,
             "#7201a8"
            ],
            [
             0.3333333333333333,
             "#9c179e"
            ],
            [
             0.4444444444444444,
             "#bd3786"
            ],
            [
             0.5555555555555556,
             "#d8576b"
            ],
            [
             0.6666666666666666,
             "#ed7953"
            ],
            [
             0.7777777777777778,
             "#fb9f3a"
            ],
            [
             0.8888888888888888,
             "#fdca26"
            ],
            [
             1,
             "#f0f921"
            ]
           ],
           "sequentialminus": [
            [
             0,
             "#0d0887"
            ],
            [
             0.1111111111111111,
             "#46039f"
            ],
            [
             0.2222222222222222,
             "#7201a8"
            ],
            [
             0.3333333333333333,
             "#9c179e"
            ],
            [
             0.4444444444444444,
             "#bd3786"
            ],
            [
             0.5555555555555556,
             "#d8576b"
            ],
            [
             0.6666666666666666,
             "#ed7953"
            ],
            [
             0.7777777777777778,
             "#fb9f3a"
            ],
            [
             0.8888888888888888,
             "#fdca26"
            ],
            [
             1,
             "#f0f921"
            ]
           ]
          },
          "colorway": [
           "#636efa",
           "#EF553B",
           "#00cc96",
           "#ab63fa",
           "#FFA15A",
           "#19d3f3",
           "#FF6692",
           "#B6E880",
           "#FF97FF",
           "#FECB52"
          ],
          "font": {
           "color": "#2a3f5f"
          },
          "geo": {
           "bgcolor": "white",
           "lakecolor": "white",
           "landcolor": "#E5ECF6",
           "showlakes": true,
           "showland": true,
           "subunitcolor": "white"
          },
          "hoverlabel": {
           "align": "left"
          },
          "hovermode": "closest",
          "mapbox": {
           "style": "light"
          },
          "paper_bgcolor": "white",
          "plot_bgcolor": "#E5ECF6",
          "polar": {
           "angularaxis": {
            "gridcolor": "white",
            "linecolor": "white",
            "ticks": ""
           },
           "bgcolor": "#E5ECF6",
           "radialaxis": {
            "gridcolor": "white",
            "linecolor": "white",
            "ticks": ""
           }
          },
          "scene": {
           "xaxis": {
            "backgroundcolor": "#E5ECF6",
            "gridcolor": "white",
            "gridwidth": 2,
            "linecolor": "white",
            "showbackground": true,
            "ticks": "",
            "zerolinecolor": "white"
           },
           "yaxis": {
            "backgroundcolor": "#E5ECF6",
            "gridcolor": "white",
            "gridwidth": 2,
            "linecolor": "white",
            "showbackground": true,
            "ticks": "",
            "zerolinecolor": "white"
           },
           "zaxis": {
            "backgroundcolor": "#E5ECF6",
            "gridcolor": "white",
            "gridwidth": 2,
            "linecolor": "white",
            "showbackground": true,
            "ticks": "",
            "zerolinecolor": "white"
           }
          },
          "shapedefaults": {
           "line": {
            "color": "#2a3f5f"
           }
          },
          "ternary": {
           "aaxis": {
            "gridcolor": "white",
            "linecolor": "white",
            "ticks": ""
           },
           "baxis": {
            "gridcolor": "white",
            "linecolor": "white",
            "ticks": ""
           },
           "bgcolor": "#E5ECF6",
           "caxis": {
            "gridcolor": "white",
            "linecolor": "white",
            "ticks": ""
           }
          },
          "title": {
           "x": 0.05
          },
          "xaxis": {
           "automargin": true,
           "gridcolor": "white",
           "linecolor": "white",
           "ticks": "",
           "title": {
            "standoff": 15
           },
           "zerolinecolor": "white",
           "zerolinewidth": 2
          },
          "yaxis": {
           "automargin": true,
           "gridcolor": "white",
           "linecolor": "white",
           "ticks": "",
           "title": {
            "standoff": 15
           },
           "zerolinecolor": "white",
           "zerolinewidth": 2
          }
         }
        },
        "title": {
         "text": "Boxplot: Number of Doctorate Recipients by Study Fields Each Year in the United States"
        },
        "xaxis": {
         "anchor": "y",
         "domain": [
          0,
          1
         ],
         "title": {
          "text": "Field of Study"
         }
        },
        "yaxis": {
         "anchor": "x",
         "domain": [
          0,
          1
         ],
         "title": {
          "text": "value"
         }
        }
       }
      },
      "text/html": [
       "<div>\n",
       "        \n",
       "        \n",
       "            <div id=\"fbf7e0b7-8a53-48e3-92ee-c858b34b873d\" class=\"plotly-graph-div\" style=\"height:525px; width:100%;\"></div>\n",
       "            <script type=\"text/javascript\">\n",
       "                require([\"plotly\"], function(Plotly) {\n",
       "                    window.PLOTLYENV=window.PLOTLYENV || {};\n",
       "                    \n",
       "                if (document.getElementById(\"fbf7e0b7-8a53-48e3-92ee-c858b34b873d\")) {\n",
       "                    Plotly.newPlot(\n",
       "                        'fbf7e0b7-8a53-48e3-92ee-c858b34b873d',\n",
       "                        [{\"alignmentgroup\": \"True\", \"hovertemplate\": \"variable=1987<br>Field of Study=%{x}<br>value=%{y}<extra></extra>\", \"legendgroup\": \"1987\", \"marker\": {\"color\": \"#636efa\"}, \"name\": \"1987\", \"offsetgroup\": \"1987\", \"orientation\": \"v\", \"showlegend\": true, \"textposition\": \"auto\", \"type\": \"bar\", \"x\": [\"All fields\", \"Life sciencesa\", \"Physical sciences and earth sciences\", \"Mathematics and computer sciences\", \"Psychology and social sciences\", \"Engineering\", \"Education\", \"Humanities and arts\", \"Otherb\"], \"xaxis\": \"x\", \"y\": [32365, 5783, 3811, 1189, 6063, 3712, 6453, 3478, 1876], \"yaxis\": \"y\"}, {\"alignmentgroup\": \"True\", \"hovertemplate\": \"variable=1992<br>Field of Study=%{x}<br>value=%{y}<extra></extra>\", \"legendgroup\": \"1992\", \"marker\": {\"color\": \"#EF553B\"}, \"name\": \"1992\", \"offsetgroup\": \"1992\", \"orientation\": \"v\", \"showlegend\": true, \"textposition\": \"auto\", \"type\": \"bar\", \"x\": [\"All fields\", \"Life sciencesa\", \"Physical sciences and earth sciences\", \"Mathematics and computer sciences\", \"Psychology and social sciences\", \"Engineering\", \"Education\", \"Humanities and arts\", \"Otherb\"], \"xaxis\": \"x\", \"y\": [38886, 7172, 4517, 1927, 6562, 5438, 6677, 4387, 2206], \"yaxis\": \"y\"}, {\"alignmentgroup\": \"True\", \"hovertemplate\": \"variable=1997<br>Field of Study=%{x}<br>value=%{y}<extra></extra>\", \"legendgroup\": \"1997\", \"marker\": {\"color\": \"#00cc96\"}, \"name\": \"1997\", \"offsetgroup\": \"1997\", \"orientation\": \"v\", \"showlegend\": true, \"textposition\": \"auto\", \"type\": \"bar\", \"x\": [\"All fields\", \"Life sciencesa\", \"Physical sciences and earth sciences\", \"Mathematics and computer sciences\", \"Psychology and social sciences\", \"Engineering\", \"Education\", \"Humanities and arts\", \"Otherb\"], \"xaxis\": \"x\", \"y\": [42539, 8421, 4550, 2032, 7369, 6114, 6577, 5285, 2191], \"yaxis\": \"y\"}, {\"alignmentgroup\": \"True\", \"hovertemplate\": \"variable=2002<br>Field of Study=%{x}<br>value=%{y}<extra></extra>\", \"legendgroup\": \"2002\", \"marker\": {\"color\": \"#ab63fa\"}, \"name\": \"2002\", \"offsetgroup\": \"2002\", \"orientation\": \"v\", \"showlegend\": true, \"textposition\": \"auto\", \"type\": \"bar\", \"x\": [\"All fields\", \"Life sciencesa\", \"Physical sciences and earth sciences\", \"Mathematics and computer sciences\", \"Psychology and social sciences\", \"Engineering\", \"Education\", \"Humanities and arts\", \"Otherb\"], \"xaxis\": \"x\", \"y\": [40031, 8478, 3875, 1729, 6925, 5081, 6508, 5297, 2138], \"yaxis\": \"y\"}, {\"alignmentgroup\": \"True\", \"hovertemplate\": \"variable=2007<br>Field of Study=%{x}<br>value=%{y}<extra></extra>\", \"legendgroup\": \"2007\", \"marker\": {\"color\": \"#FFA15A\"}, \"name\": \"2007\", \"offsetgroup\": \"2007\", \"orientation\": \"v\", \"showlegend\": true, \"textposition\": \"auto\", \"type\": \"bar\", \"x\": [\"All fields\", \"Life sciencesa\", \"Physical sciences and earth sciences\", \"Mathematics and computer sciences\", \"Psychology and social sciences\", \"Engineering\", \"Education\", \"Humanities and arts\", \"Otherb\"], \"xaxis\": \"x\", \"y\": [48132, 10702, 4956, 3042, 7309, 7749, 6448, 5085, 2841], \"yaxis\": \"y\"}, {\"alignmentgroup\": \"True\", \"hovertemplate\": \"variable=2012<br>Field of Study=%{x}<br>value=%{y}<extra></extra>\", \"legendgroup\": \"2012\", \"marker\": {\"color\": \"#19d3f3\"}, \"name\": \"2012\", \"offsetgroup\": \"2012\", \"orientation\": \"v\", \"showlegend\": true, \"textposition\": \"auto\", \"type\": \"bar\", \"x\": [\"All fields\", \"Life sciencesa\", \"Physical sciences and earth sciences\", \"Mathematics and computer sciences\", \"Psychology and social sciences\", \"Engineering\", \"Education\", \"Humanities and arts\", \"Otherb\"], \"xaxis\": \"x\", \"y\": [50944, 11964, 5419, 3496, 8498, 8469, 4803, 5561, 2734], \"yaxis\": \"y\"}, {\"alignmentgroup\": \"True\", \"hovertemplate\": \"variable=2017<br>Field of Study=%{x}<br>value=%{y}<extra></extra>\", \"legendgroup\": \"2017\", \"marker\": {\"color\": \"#FF6692\"}, \"name\": \"2017\", \"offsetgroup\": \"2017\", \"orientation\": \"v\", \"showlegend\": true, \"textposition\": \"auto\", \"type\": \"bar\", \"x\": [\"All fields\", \"Life sciencesa\", \"Physical sciences and earth sciences\", \"Mathematics and computer sciences\", \"Psychology and social sciences\", \"Engineering\", \"Education\", \"Humanities and arts\", \"Otherb\"], \"xaxis\": \"x\", \"y\": [54664, 12592, 6081, 3843, 9079, 9843, 4823, 5290, 3113], \"yaxis\": \"y\"}],\n",
       "                        {\"barmode\": \"relative\", \"legend\": {\"title\": {\"text\": \"variable\"}, \"tracegroupgap\": 0}, \"template\": {\"data\": {\"bar\": [{\"error_x\": {\"color\": \"#2a3f5f\"}, \"error_y\": {\"color\": \"#2a3f5f\"}, \"marker\": {\"line\": {\"color\": \"#E5ECF6\", \"width\": 0.5}}, \"type\": \"bar\"}], \"barpolar\": [{\"marker\": {\"line\": {\"color\": \"#E5ECF6\", \"width\": 0.5}}, \"type\": \"barpolar\"}], \"carpet\": [{\"aaxis\": {\"endlinecolor\": \"#2a3f5f\", \"gridcolor\": \"white\", \"linecolor\": \"white\", \"minorgridcolor\": \"white\", \"startlinecolor\": \"#2a3f5f\"}, \"baxis\": {\"endlinecolor\": \"#2a3f5f\", \"gridcolor\": \"white\", \"linecolor\": \"white\", \"minorgridcolor\": \"white\", \"startlinecolor\": \"#2a3f5f\"}, \"type\": \"carpet\"}], \"choropleth\": [{\"colorbar\": {\"outlinewidth\": 0, \"ticks\": \"\"}, \"type\": \"choropleth\"}], \"contour\": [{\"colorbar\": {\"outlinewidth\": 0, \"ticks\": \"\"}, \"colorscale\": [[0.0, \"#0d0887\"], [0.1111111111111111, \"#46039f\"], [0.2222222222222222, \"#7201a8\"], [0.3333333333333333, \"#9c179e\"], [0.4444444444444444, \"#bd3786\"], [0.5555555555555556, \"#d8576b\"], [0.6666666666666666, \"#ed7953\"], [0.7777777777777778, \"#fb9f3a\"], [0.8888888888888888, \"#fdca26\"], [1.0, \"#f0f921\"]], \"type\": \"contour\"}], \"contourcarpet\": [{\"colorbar\": {\"outlinewidth\": 0, \"ticks\": \"\"}, \"type\": \"contourcarpet\"}], \"heatmap\": [{\"colorbar\": {\"outlinewidth\": 0, \"ticks\": \"\"}, \"colorscale\": [[0.0, \"#0d0887\"], [0.1111111111111111, \"#46039f\"], [0.2222222222222222, \"#7201a8\"], [0.3333333333333333, \"#9c179e\"], [0.4444444444444444, \"#bd3786\"], [0.5555555555555556, \"#d8576b\"], [0.6666666666666666, \"#ed7953\"], [0.7777777777777778, \"#fb9f3a\"], [0.8888888888888888, \"#fdca26\"], [1.0, \"#f0f921\"]], \"type\": \"heatmap\"}], \"heatmapgl\": [{\"colorbar\": {\"outlinewidth\": 0, \"ticks\": \"\"}, \"colorscale\": [[0.0, \"#0d0887\"], [0.1111111111111111, \"#46039f\"], [0.2222222222222222, \"#7201a8\"], [0.3333333333333333, \"#9c179e\"], [0.4444444444444444, \"#bd3786\"], [0.5555555555555556, \"#d8576b\"], [0.6666666666666666, \"#ed7953\"], [0.7777777777777778, \"#fb9f3a\"], [0.8888888888888888, \"#fdca26\"], [1.0, \"#f0f921\"]], \"type\": \"heatmapgl\"}], \"histogram\": [{\"marker\": {\"colorbar\": {\"outlinewidth\": 0, \"ticks\": \"\"}}, \"type\": \"histogram\"}], \"histogram2d\": [{\"colorbar\": {\"outlinewidth\": 0, \"ticks\": \"\"}, \"colorscale\": [[0.0, \"#0d0887\"], [0.1111111111111111, \"#46039f\"], [0.2222222222222222, \"#7201a8\"], [0.3333333333333333, \"#9c179e\"], [0.4444444444444444, \"#bd3786\"], [0.5555555555555556, \"#d8576b\"], [0.6666666666666666, \"#ed7953\"], [0.7777777777777778, \"#fb9f3a\"], [0.8888888888888888, \"#fdca26\"], [1.0, \"#f0f921\"]], \"type\": \"histogram2d\"}], \"histogram2dcontour\": [{\"colorbar\": {\"outlinewidth\": 0, \"ticks\": \"\"}, \"colorscale\": [[0.0, \"#0d0887\"], [0.1111111111111111, \"#46039f\"], [0.2222222222222222, \"#7201a8\"], [0.3333333333333333, \"#9c179e\"], [0.4444444444444444, \"#bd3786\"], [0.5555555555555556, \"#d8576b\"], [0.6666666666666666, \"#ed7953\"], [0.7777777777777778, \"#fb9f3a\"], [0.8888888888888888, \"#fdca26\"], [1.0, \"#f0f921\"]], \"type\": \"histogram2dcontour\"}], \"mesh3d\": [{\"colorbar\": {\"outlinewidth\": 0, \"ticks\": \"\"}, \"type\": \"mesh3d\"}], \"parcoords\": [{\"line\": {\"colorbar\": {\"outlinewidth\": 0, \"ticks\": \"\"}}, \"type\": \"parcoords\"}], \"pie\": [{\"automargin\": true, \"type\": \"pie\"}], \"scatter\": [{\"marker\": {\"colorbar\": {\"outlinewidth\": 0, \"ticks\": \"\"}}, \"type\": \"scatter\"}], \"scatter3d\": [{\"line\": {\"colorbar\": {\"outlinewidth\": 0, \"ticks\": \"\"}}, \"marker\": {\"colorbar\": {\"outlinewidth\": 0, \"ticks\": \"\"}}, \"type\": \"scatter3d\"}], \"scattercarpet\": [{\"marker\": {\"colorbar\": {\"outlinewidth\": 0, \"ticks\": \"\"}}, \"type\": \"scattercarpet\"}], \"scattergeo\": [{\"marker\": {\"colorbar\": {\"outlinewidth\": 0, \"ticks\": \"\"}}, \"type\": \"scattergeo\"}], \"scattergl\": [{\"marker\": {\"colorbar\": {\"outlinewidth\": 0, \"ticks\": \"\"}}, \"type\": \"scattergl\"}], \"scattermapbox\": [{\"marker\": {\"colorbar\": {\"outlinewidth\": 0, \"ticks\": \"\"}}, \"type\": \"scattermapbox\"}], \"scatterpolar\": [{\"marker\": {\"colorbar\": {\"outlinewidth\": 0, \"ticks\": \"\"}}, \"type\": \"scatterpolar\"}], \"scatterpolargl\": [{\"marker\": {\"colorbar\": {\"outlinewidth\": 0, \"ticks\": \"\"}}, \"type\": \"scatterpolargl\"}], \"scatterternary\": [{\"marker\": {\"colorbar\": {\"outlinewidth\": 0, \"ticks\": \"\"}}, \"type\": \"scatterternary\"}], \"surface\": [{\"colorbar\": {\"outlinewidth\": 0, \"ticks\": \"\"}, \"colorscale\": [[0.0, \"#0d0887\"], [0.1111111111111111, \"#46039f\"], [0.2222222222222222, \"#7201a8\"], [0.3333333333333333, \"#9c179e\"], [0.4444444444444444, \"#bd3786\"], [0.5555555555555556, \"#d8576b\"], [0.6666666666666666, \"#ed7953\"], [0.7777777777777778, \"#fb9f3a\"], [0.8888888888888888, \"#fdca26\"], [1.0, \"#f0f921\"]], \"type\": \"surface\"}], \"table\": [{\"cells\": {\"fill\": {\"color\": \"#EBF0F8\"}, \"line\": {\"color\": \"white\"}}, \"header\": {\"fill\": {\"color\": \"#C8D4E3\"}, \"line\": {\"color\": \"white\"}}, \"type\": \"table\"}]}, \"layout\": {\"annotationdefaults\": {\"arrowcolor\": \"#2a3f5f\", \"arrowhead\": 0, \"arrowwidth\": 1}, \"coloraxis\": {\"colorbar\": {\"outlinewidth\": 0, \"ticks\": \"\"}}, \"colorscale\": {\"diverging\": [[0, \"#8e0152\"], [0.1, \"#c51b7d\"], [0.2, \"#de77ae\"], [0.3, \"#f1b6da\"], [0.4, \"#fde0ef\"], [0.5, \"#f7f7f7\"], [0.6, \"#e6f5d0\"], [0.7, \"#b8e186\"], [0.8, \"#7fbc41\"], [0.9, \"#4d9221\"], [1, \"#276419\"]], \"sequential\": [[0.0, \"#0d0887\"], [0.1111111111111111, \"#46039f\"], [0.2222222222222222, \"#7201a8\"], [0.3333333333333333, \"#9c179e\"], [0.4444444444444444, \"#bd3786\"], [0.5555555555555556, \"#d8576b\"], [0.6666666666666666, \"#ed7953\"], [0.7777777777777778, \"#fb9f3a\"], [0.8888888888888888, \"#fdca26\"], [1.0, \"#f0f921\"]], \"sequentialminus\": [[0.0, \"#0d0887\"], [0.1111111111111111, \"#46039f\"], [0.2222222222222222, \"#7201a8\"], [0.3333333333333333, \"#9c179e\"], [0.4444444444444444, \"#bd3786\"], [0.5555555555555556, \"#d8576b\"], [0.6666666666666666, \"#ed7953\"], [0.7777777777777778, \"#fb9f3a\"], [0.8888888888888888, \"#fdca26\"], [1.0, \"#f0f921\"]]}, \"colorway\": [\"#636efa\", \"#EF553B\", \"#00cc96\", \"#ab63fa\", \"#FFA15A\", \"#19d3f3\", \"#FF6692\", \"#B6E880\", \"#FF97FF\", \"#FECB52\"], \"font\": {\"color\": \"#2a3f5f\"}, \"geo\": {\"bgcolor\": \"white\", \"lakecolor\": \"white\", \"landcolor\": \"#E5ECF6\", \"showlakes\": true, \"showland\": true, \"subunitcolor\": \"white\"}, \"hoverlabel\": {\"align\": \"left\"}, \"hovermode\": \"closest\", \"mapbox\": {\"style\": \"light\"}, \"paper_bgcolor\": \"white\", \"plot_bgcolor\": \"#E5ECF6\", \"polar\": {\"angularaxis\": {\"gridcolor\": \"white\", \"linecolor\": \"white\", \"ticks\": \"\"}, \"bgcolor\": \"#E5ECF6\", \"radialaxis\": {\"gridcolor\": \"white\", \"linecolor\": \"white\", \"ticks\": \"\"}}, \"scene\": {\"xaxis\": {\"backgroundcolor\": \"#E5ECF6\", \"gridcolor\": \"white\", \"gridwidth\": 2, \"linecolor\": \"white\", \"showbackground\": true, \"ticks\": \"\", \"zerolinecolor\": \"white\"}, \"yaxis\": {\"backgroundcolor\": \"#E5ECF6\", \"gridcolor\": \"white\", \"gridwidth\": 2, \"linecolor\": \"white\", \"showbackground\": true, \"ticks\": \"\", \"zerolinecolor\": \"white\"}, \"zaxis\": {\"backgroundcolor\": \"#E5ECF6\", \"gridcolor\": \"white\", \"gridwidth\": 2, \"linecolor\": \"white\", \"showbackground\": true, \"ticks\": \"\", \"zerolinecolor\": \"white\"}}, \"shapedefaults\": {\"line\": {\"color\": \"#2a3f5f\"}}, \"ternary\": {\"aaxis\": {\"gridcolor\": \"white\", \"linecolor\": \"white\", \"ticks\": \"\"}, \"baxis\": {\"gridcolor\": \"white\", \"linecolor\": \"white\", \"ticks\": \"\"}, \"bgcolor\": \"#E5ECF6\", \"caxis\": {\"gridcolor\": \"white\", \"linecolor\": \"white\", \"ticks\": \"\"}}, \"title\": {\"x\": 0.05}, \"xaxis\": {\"automargin\": true, \"gridcolor\": \"white\", \"linecolor\": \"white\", \"ticks\": \"\", \"title\": {\"standoff\": 15}, \"zerolinecolor\": \"white\", \"zerolinewidth\": 2}, \"yaxis\": {\"automargin\": true, \"gridcolor\": \"white\", \"linecolor\": \"white\", \"ticks\": \"\", \"title\": {\"standoff\": 15}, \"zerolinecolor\": \"white\", \"zerolinewidth\": 2}}}, \"title\": {\"text\": \"Boxplot: Number of Doctorate Recipients by Study Fields Each Year in the United States\"}, \"xaxis\": {\"anchor\": \"y\", \"domain\": [0.0, 1.0], \"title\": {\"text\": \"Field of Study\"}}, \"yaxis\": {\"anchor\": \"x\", \"domain\": [0.0, 1.0], \"title\": {\"text\": \"value\"}}},\n",
       "                        {\"responsive\": true}\n",
       "                    ).then(function(){\n",
       "                            \n",
       "var gd = document.getElementById('fbf7e0b7-8a53-48e3-92ee-c858b34b873d');\n",
       "var x = new MutationObserver(function (mutations, observer) {{\n",
       "        var display = window.getComputedStyle(gd).display;\n",
       "        if (!display || display === 'none') {{\n",
       "            console.log([gd, 'removed!']);\n",
       "            Plotly.purge(gd);\n",
       "            observer.disconnect();\n",
       "        }}\n",
       "}});\n",
       "\n",
       "// Listen for the removal of the full notebook cells\n",
       "var notebookContainer = gd.closest('#notebook-container');\n",
       "if (notebookContainer) {{\n",
       "    x.observe(notebookContainer, {childList: true});\n",
       "}}\n",
       "\n",
       "// Listen for the clearing of the current output cell\n",
       "var outputEl = gd.closest('.output');\n",
       "if (outputEl) {{\n",
       "    x.observe(outputEl, {childList: true});\n",
       "}}\n",
       "\n",
       "                        })\n",
       "                };\n",
       "                });\n",
       "            </script>\n",
       "        </div>"
      ]
     },
     "metadata": {},
     "output_type": "display_data"
    },
    {
     "data": {
      "text/plain": [
       "<streamlit.delta_generator.DeltaGenerator at 0x7f4445e47a50>"
      ]
     },
     "execution_count": 103,
     "metadata": {},
     "output_type": "execute_result"
    }
   ],
   "source": [
    "#fig3 = px.line(df_17, x='Field of study and citizenship status', y=df_17[1:])\n",
    "#fig3.show()\n",
    "fig3 = px.bar(df_17, x='Field of Study', y=df_17.columns,title='Boxplot: Number of Doctorate Recipients by Study Fields Each Year in the United States')\n",
    "fig3.show()\n",
    "st.plotly_chart(fig3, use_container_width=True)"
   ]
  },
  {
   "cell_type": "code",
   "execution_count": null,
   "metadata": {},
   "outputs": [],
   "source": []
  },
  {
   "cell_type": "code",
   "execution_count": 59,
   "metadata": {},
   "outputs": [
    {
     "data": {
      "application/vnd.plotly.v1+json": {
       "config": {
        "plotlyServerURL": "https://plot.ly"
       },
       "data": [
        {
         "hovertemplate": "variable=1987<br>Field of Study=%{x}<br>value=%{y}<extra></extra>",
         "legendgroup": "1987",
         "line": {
          "color": "#636efa",
          "dash": "solid"
         },
         "mode": "lines",
         "name": "1987",
         "orientation": "v",
         "showlegend": true,
         "type": "scatter",
         "x": [
          "All fields",
          "Life sciencesa",
          "Physical sciences and earth sciences",
          "Mathematics and computer sciences",
          "Psychology and social sciences",
          "Engineering",
          "Education",
          "Humanities and arts",
          "Otherb"
         ],
         "xaxis": "x",
         "y": [
          32365,
          5783,
          3811,
          1189,
          6063,
          3712,
          6453,
          3478,
          1876
         ],
         "yaxis": "y"
        },
        {
         "hovertemplate": "variable=1992<br>Field of Study=%{x}<br>value=%{y}<extra></extra>",
         "legendgroup": "1992",
         "line": {
          "color": "#EF553B",
          "dash": "solid"
         },
         "mode": "lines",
         "name": "1992",
         "orientation": "v",
         "showlegend": true,
         "type": "scatter",
         "x": [
          "All fields",
          "Life sciencesa",
          "Physical sciences and earth sciences",
          "Mathematics and computer sciences",
          "Psychology and social sciences",
          "Engineering",
          "Education",
          "Humanities and arts",
          "Otherb"
         ],
         "xaxis": "x",
         "y": [
          38886,
          7172,
          4517,
          1927,
          6562,
          5438,
          6677,
          4387,
          2206
         ],
         "yaxis": "y"
        },
        {
         "hovertemplate": "variable=1997<br>Field of Study=%{x}<br>value=%{y}<extra></extra>",
         "legendgroup": "1997",
         "line": {
          "color": "#00cc96",
          "dash": "solid"
         },
         "mode": "lines",
         "name": "1997",
         "orientation": "v",
         "showlegend": true,
         "type": "scatter",
         "x": [
          "All fields",
          "Life sciencesa",
          "Physical sciences and earth sciences",
          "Mathematics and computer sciences",
          "Psychology and social sciences",
          "Engineering",
          "Education",
          "Humanities and arts",
          "Otherb"
         ],
         "xaxis": "x",
         "y": [
          42539,
          8421,
          4550,
          2032,
          7369,
          6114,
          6577,
          5285,
          2191
         ],
         "yaxis": "y"
        },
        {
         "hovertemplate": "variable=2002<br>Field of Study=%{x}<br>value=%{y}<extra></extra>",
         "legendgroup": "2002",
         "line": {
          "color": "#ab63fa",
          "dash": "solid"
         },
         "mode": "lines",
         "name": "2002",
         "orientation": "v",
         "showlegend": true,
         "type": "scatter",
         "x": [
          "All fields",
          "Life sciencesa",
          "Physical sciences and earth sciences",
          "Mathematics and computer sciences",
          "Psychology and social sciences",
          "Engineering",
          "Education",
          "Humanities and arts",
          "Otherb"
         ],
         "xaxis": "x",
         "y": [
          40031,
          8478,
          3875,
          1729,
          6925,
          5081,
          6508,
          5297,
          2138
         ],
         "yaxis": "y"
        },
        {
         "hovertemplate": "variable=2007<br>Field of Study=%{x}<br>value=%{y}<extra></extra>",
         "legendgroup": "2007",
         "line": {
          "color": "#FFA15A",
          "dash": "solid"
         },
         "mode": "lines",
         "name": "2007",
         "orientation": "v",
         "showlegend": true,
         "type": "scatter",
         "x": [
          "All fields",
          "Life sciencesa",
          "Physical sciences and earth sciences",
          "Mathematics and computer sciences",
          "Psychology and social sciences",
          "Engineering",
          "Education",
          "Humanities and arts",
          "Otherb"
         ],
         "xaxis": "x",
         "y": [
          48132,
          10702,
          4956,
          3042,
          7309,
          7749,
          6448,
          5085,
          2841
         ],
         "yaxis": "y"
        },
        {
         "hovertemplate": "variable=2012<br>Field of Study=%{x}<br>value=%{y}<extra></extra>",
         "legendgroup": "2012",
         "line": {
          "color": "#19d3f3",
          "dash": "solid"
         },
         "mode": "lines",
         "name": "2012",
         "orientation": "v",
         "showlegend": true,
         "type": "scatter",
         "x": [
          "All fields",
          "Life sciencesa",
          "Physical sciences and earth sciences",
          "Mathematics and computer sciences",
          "Psychology and social sciences",
          "Engineering",
          "Education",
          "Humanities and arts",
          "Otherb"
         ],
         "xaxis": "x",
         "y": [
          50944,
          11964,
          5419,
          3496,
          8498,
          8469,
          4803,
          5561,
          2734
         ],
         "yaxis": "y"
        },
        {
         "hovertemplate": "variable=2017<br>Field of Study=%{x}<br>value=%{y}<extra></extra>",
         "legendgroup": "2017",
         "line": {
          "color": "#FF6692",
          "dash": "solid"
         },
         "mode": "lines",
         "name": "2017",
         "orientation": "v",
         "showlegend": true,
         "type": "scatter",
         "x": [
          "All fields",
          "Life sciencesa",
          "Physical sciences and earth sciences",
          "Mathematics and computer sciences",
          "Psychology and social sciences",
          "Engineering",
          "Education",
          "Humanities and arts",
          "Otherb"
         ],
         "xaxis": "x",
         "y": [
          54664,
          12592,
          6081,
          3843,
          9079,
          9843,
          4823,
          5290,
          3113
         ],
         "yaxis": "y"
        }
       ],
       "layout": {
        "legend": {
         "title": {
          "text": "variable"
         },
         "tracegroupgap": 0
        },
        "template": {
         "data": {
          "bar": [
           {
            "error_x": {
             "color": "#2a3f5f"
            },
            "error_y": {
             "color": "#2a3f5f"
            },
            "marker": {
             "line": {
              "color": "#E5ECF6",
              "width": 0.5
             }
            },
            "type": "bar"
           }
          ],
          "barpolar": [
           {
            "marker": {
             "line": {
              "color": "#E5ECF6",
              "width": 0.5
             }
            },
            "type": "barpolar"
           }
          ],
          "carpet": [
           {
            "aaxis": {
             "endlinecolor": "#2a3f5f",
             "gridcolor": "white",
             "linecolor": "white",
             "minorgridcolor": "white",
             "startlinecolor": "#2a3f5f"
            },
            "baxis": {
             "endlinecolor": "#2a3f5f",
             "gridcolor": "white",
             "linecolor": "white",
             "minorgridcolor": "white",
             "startlinecolor": "#2a3f5f"
            },
            "type": "carpet"
           }
          ],
          "choropleth": [
           {
            "colorbar": {
             "outlinewidth": 0,
             "ticks": ""
            },
            "type": "choropleth"
           }
          ],
          "contour": [
           {
            "colorbar": {
             "outlinewidth": 0,
             "ticks": ""
            },
            "colorscale": [
             [
              0,
              "#0d0887"
             ],
             [
              0.1111111111111111,
              "#46039f"
             ],
             [
              0.2222222222222222,
              "#7201a8"
             ],
             [
              0.3333333333333333,
              "#9c179e"
             ],
             [
              0.4444444444444444,
              "#bd3786"
             ],
             [
              0.5555555555555556,
              "#d8576b"
             ],
             [
              0.6666666666666666,
              "#ed7953"
             ],
             [
              0.7777777777777778,
              "#fb9f3a"
             ],
             [
              0.8888888888888888,
              "#fdca26"
             ],
             [
              1,
              "#f0f921"
             ]
            ],
            "type": "contour"
           }
          ],
          "contourcarpet": [
           {
            "colorbar": {
             "outlinewidth": 0,
             "ticks": ""
            },
            "type": "contourcarpet"
           }
          ],
          "heatmap": [
           {
            "colorbar": {
             "outlinewidth": 0,
             "ticks": ""
            },
            "colorscale": [
             [
              0,
              "#0d0887"
             ],
             [
              0.1111111111111111,
              "#46039f"
             ],
             [
              0.2222222222222222,
              "#7201a8"
             ],
             [
              0.3333333333333333,
              "#9c179e"
             ],
             [
              0.4444444444444444,
              "#bd3786"
             ],
             [
              0.5555555555555556,
              "#d8576b"
             ],
             [
              0.6666666666666666,
              "#ed7953"
             ],
             [
              0.7777777777777778,
              "#fb9f3a"
             ],
             [
              0.8888888888888888,
              "#fdca26"
             ],
             [
              1,
              "#f0f921"
             ]
            ],
            "type": "heatmap"
           }
          ],
          "heatmapgl": [
           {
            "colorbar": {
             "outlinewidth": 0,
             "ticks": ""
            },
            "colorscale": [
             [
              0,
              "#0d0887"
             ],
             [
              0.1111111111111111,
              "#46039f"
             ],
             [
              0.2222222222222222,
              "#7201a8"
             ],
             [
              0.3333333333333333,
              "#9c179e"
             ],
             [
              0.4444444444444444,
              "#bd3786"
             ],
             [
              0.5555555555555556,
              "#d8576b"
             ],
             [
              0.6666666666666666,
              "#ed7953"
             ],
             [
              0.7777777777777778,
              "#fb9f3a"
             ],
             [
              0.8888888888888888,
              "#fdca26"
             ],
             [
              1,
              "#f0f921"
             ]
            ],
            "type": "heatmapgl"
           }
          ],
          "histogram": [
           {
            "marker": {
             "colorbar": {
              "outlinewidth": 0,
              "ticks": ""
             }
            },
            "type": "histogram"
           }
          ],
          "histogram2d": [
           {
            "colorbar": {
             "outlinewidth": 0,
             "ticks": ""
            },
            "colorscale": [
             [
              0,
              "#0d0887"
             ],
             [
              0.1111111111111111,
              "#46039f"
             ],
             [
              0.2222222222222222,
              "#7201a8"
             ],
             [
              0.3333333333333333,
              "#9c179e"
             ],
             [
              0.4444444444444444,
              "#bd3786"
             ],
             [
              0.5555555555555556,
              "#d8576b"
             ],
             [
              0.6666666666666666,
              "#ed7953"
             ],
             [
              0.7777777777777778,
              "#fb9f3a"
             ],
             [
              0.8888888888888888,
              "#fdca26"
             ],
             [
              1,
              "#f0f921"
             ]
            ],
            "type": "histogram2d"
           }
          ],
          "histogram2dcontour": [
           {
            "colorbar": {
             "outlinewidth": 0,
             "ticks": ""
            },
            "colorscale": [
             [
              0,
              "#0d0887"
             ],
             [
              0.1111111111111111,
              "#46039f"
             ],
             [
              0.2222222222222222,
              "#7201a8"
             ],
             [
              0.3333333333333333,
              "#9c179e"
             ],
             [
              0.4444444444444444,
              "#bd3786"
             ],
             [
              0.5555555555555556,
              "#d8576b"
             ],
             [
              0.6666666666666666,
              "#ed7953"
             ],
             [
              0.7777777777777778,
              "#fb9f3a"
             ],
             [
              0.8888888888888888,
              "#fdca26"
             ],
             [
              1,
              "#f0f921"
             ]
            ],
            "type": "histogram2dcontour"
           }
          ],
          "mesh3d": [
           {
            "colorbar": {
             "outlinewidth": 0,
             "ticks": ""
            },
            "type": "mesh3d"
           }
          ],
          "parcoords": [
           {
            "line": {
             "colorbar": {
              "outlinewidth": 0,
              "ticks": ""
             }
            },
            "type": "parcoords"
           }
          ],
          "pie": [
           {
            "automargin": true,
            "type": "pie"
           }
          ],
          "scatter": [
           {
            "marker": {
             "colorbar": {
              "outlinewidth": 0,
              "ticks": ""
             }
            },
            "type": "scatter"
           }
          ],
          "scatter3d": [
           {
            "line": {
             "colorbar": {
              "outlinewidth": 0,
              "ticks": ""
             }
            },
            "marker": {
             "colorbar": {
              "outlinewidth": 0,
              "ticks": ""
             }
            },
            "type": "scatter3d"
           }
          ],
          "scattercarpet": [
           {
            "marker": {
             "colorbar": {
              "outlinewidth": 0,
              "ticks": ""
             }
            },
            "type": "scattercarpet"
           }
          ],
          "scattergeo": [
           {
            "marker": {
             "colorbar": {
              "outlinewidth": 0,
              "ticks": ""
             }
            },
            "type": "scattergeo"
           }
          ],
          "scattergl": [
           {
            "marker": {
             "colorbar": {
              "outlinewidth": 0,
              "ticks": ""
             }
            },
            "type": "scattergl"
           }
          ],
          "scattermapbox": [
           {
            "marker": {
             "colorbar": {
              "outlinewidth": 0,
              "ticks": ""
             }
            },
            "type": "scattermapbox"
           }
          ],
          "scatterpolar": [
           {
            "marker": {
             "colorbar": {
              "outlinewidth": 0,
              "ticks": ""
             }
            },
            "type": "scatterpolar"
           }
          ],
          "scatterpolargl": [
           {
            "marker": {
             "colorbar": {
              "outlinewidth": 0,
              "ticks": ""
             }
            },
            "type": "scatterpolargl"
           }
          ],
          "scatterternary": [
           {
            "marker": {
             "colorbar": {
              "outlinewidth": 0,
              "ticks": ""
             }
            },
            "type": "scatterternary"
           }
          ],
          "surface": [
           {
            "colorbar": {
             "outlinewidth": 0,
             "ticks": ""
            },
            "colorscale": [
             [
              0,
              "#0d0887"
             ],
             [
              0.1111111111111111,
              "#46039f"
             ],
             [
              0.2222222222222222,
              "#7201a8"
             ],
             [
              0.3333333333333333,
              "#9c179e"
             ],
             [
              0.4444444444444444,
              "#bd3786"
             ],
             [
              0.5555555555555556,
              "#d8576b"
             ],
             [
              0.6666666666666666,
              "#ed7953"
             ],
             [
              0.7777777777777778,
              "#fb9f3a"
             ],
             [
              0.8888888888888888,
              "#fdca26"
             ],
             [
              1,
              "#f0f921"
             ]
            ],
            "type": "surface"
           }
          ],
          "table": [
           {
            "cells": {
             "fill": {
              "color": "#EBF0F8"
             },
             "line": {
              "color": "white"
             }
            },
            "header": {
             "fill": {
              "color": "#C8D4E3"
             },
             "line": {
              "color": "white"
             }
            },
            "type": "table"
           }
          ]
         },
         "layout": {
          "annotationdefaults": {
           "arrowcolor": "#2a3f5f",
           "arrowhead": 0,
           "arrowwidth": 1
          },
          "coloraxis": {
           "colorbar": {
            "outlinewidth": 0,
            "ticks": ""
           }
          },
          "colorscale": {
           "diverging": [
            [
             0,
             "#8e0152"
            ],
            [
             0.1,
             "#c51b7d"
            ],
            [
             0.2,
             "#de77ae"
            ],
            [
             0.3,
             "#f1b6da"
            ],
            [
             0.4,
             "#fde0ef"
            ],
            [
             0.5,
             "#f7f7f7"
            ],
            [
             0.6,
             "#e6f5d0"
            ],
            [
             0.7,
             "#b8e186"
            ],
            [
             0.8,
             "#7fbc41"
            ],
            [
             0.9,
             "#4d9221"
            ],
            [
             1,
             "#276419"
            ]
           ],
           "sequential": [
            [
             0,
             "#0d0887"
            ],
            [
             0.1111111111111111,
             "#46039f"
            ],
            [
             0.2222222222222222,
             "#7201a8"
            ],
            [
             0.3333333333333333,
             "#9c179e"
            ],
            [
             0.4444444444444444,
             "#bd3786"
            ],
            [
             0.5555555555555556,
             "#d8576b"
            ],
            [
             0.6666666666666666,
             "#ed7953"
            ],
            [
             0.7777777777777778,
             "#fb9f3a"
            ],
            [
             0.8888888888888888,
             "#fdca26"
            ],
            [
             1,
             "#f0f921"
            ]
           ],
           "sequentialminus": [
            [
             0,
             "#0d0887"
            ],
            [
             0.1111111111111111,
             "#46039f"
            ],
            [
             0.2222222222222222,
             "#7201a8"
            ],
            [
             0.3333333333333333,
             "#9c179e"
            ],
            [
             0.4444444444444444,
             "#bd3786"
            ],
            [
             0.5555555555555556,
             "#d8576b"
            ],
            [
             0.6666666666666666,
             "#ed7953"
            ],
            [
             0.7777777777777778,
             "#fb9f3a"
            ],
            [
             0.8888888888888888,
             "#fdca26"
            ],
            [
             1,
             "#f0f921"
            ]
           ]
          },
          "colorway": [
           "#636efa",
           "#EF553B",
           "#00cc96",
           "#ab63fa",
           "#FFA15A",
           "#19d3f3",
           "#FF6692",
           "#B6E880",
           "#FF97FF",
           "#FECB52"
          ],
          "font": {
           "color": "#2a3f5f"
          },
          "geo": {
           "bgcolor": "white",
           "lakecolor": "white",
           "landcolor": "#E5ECF6",
           "showlakes": true,
           "showland": true,
           "subunitcolor": "white"
          },
          "hoverlabel": {
           "align": "left"
          },
          "hovermode": "closest",
          "mapbox": {
           "style": "light"
          },
          "paper_bgcolor": "white",
          "plot_bgcolor": "#E5ECF6",
          "polar": {
           "angularaxis": {
            "gridcolor": "white",
            "linecolor": "white",
            "ticks": ""
           },
           "bgcolor": "#E5ECF6",
           "radialaxis": {
            "gridcolor": "white",
            "linecolor": "white",
            "ticks": ""
           }
          },
          "scene": {
           "xaxis": {
            "backgroundcolor": "#E5ECF6",
            "gridcolor": "white",
            "gridwidth": 2,
            "linecolor": "white",
            "showbackground": true,
            "ticks": "",
            "zerolinecolor": "white"
           },
           "yaxis": {
            "backgroundcolor": "#E5ECF6",
            "gridcolor": "white",
            "gridwidth": 2,
            "linecolor": "white",
            "showbackground": true,
            "ticks": "",
            "zerolinecolor": "white"
           },
           "zaxis": {
            "backgroundcolor": "#E5ECF6",
            "gridcolor": "white",
            "gridwidth": 2,
            "linecolor": "white",
            "showbackground": true,
            "ticks": "",
            "zerolinecolor": "white"
           }
          },
          "shapedefaults": {
           "line": {
            "color": "#2a3f5f"
           }
          },
          "ternary": {
           "aaxis": {
            "gridcolor": "white",
            "linecolor": "white",
            "ticks": ""
           },
           "baxis": {
            "gridcolor": "white",
            "linecolor": "white",
            "ticks": ""
           },
           "bgcolor": "#E5ECF6",
           "caxis": {
            "gridcolor": "white",
            "linecolor": "white",
            "ticks": ""
           }
          },
          "title": {
           "x": 0.05
          },
          "xaxis": {
           "automargin": true,
           "gridcolor": "white",
           "linecolor": "white",
           "ticks": "",
           "title": {
            "standoff": 15
           },
           "zerolinecolor": "white",
           "zerolinewidth": 2
          },
          "yaxis": {
           "automargin": true,
           "gridcolor": "white",
           "linecolor": "white",
           "ticks": "",
           "title": {
            "standoff": 15
           },
           "zerolinecolor": "white",
           "zerolinewidth": 2
          }
         }
        },
        "title": {
         "text": "Lineplot: Trend of Doctorate Recipients by Study Fields in the United States"
        },
        "xaxis": {
         "anchor": "y",
         "domain": [
          0,
          1
         ],
         "title": {
          "text": "Field of Study"
         }
        },
        "yaxis": {
         "anchor": "x",
         "domain": [
          0,
          1
         ],
         "title": {
          "text": "value"
         }
        }
       }
      },
      "text/html": [
       "<div>\n",
       "        \n",
       "        \n",
       "            <div id=\"33eff8f7-4975-4a0a-9e42-9c94570229b1\" class=\"plotly-graph-div\" style=\"height:525px; width:100%;\"></div>\n",
       "            <script type=\"text/javascript\">\n",
       "                require([\"plotly\"], function(Plotly) {\n",
       "                    window.PLOTLYENV=window.PLOTLYENV || {};\n",
       "                    \n",
       "                if (document.getElementById(\"33eff8f7-4975-4a0a-9e42-9c94570229b1\")) {\n",
       "                    Plotly.newPlot(\n",
       "                        '33eff8f7-4975-4a0a-9e42-9c94570229b1',\n",
       "                        [{\"hovertemplate\": \"variable=1987<br>Field of Study=%{x}<br>value=%{y}<extra></extra>\", \"legendgroup\": \"1987\", \"line\": {\"color\": \"#636efa\", \"dash\": \"solid\"}, \"mode\": \"lines\", \"name\": \"1987\", \"orientation\": \"v\", \"showlegend\": true, \"type\": \"scatter\", \"x\": [\"All fields\", \"Life sciencesa\", \"Physical sciences and earth sciences\", \"Mathematics and computer sciences\", \"Psychology and social sciences\", \"Engineering\", \"Education\", \"Humanities and arts\", \"Otherb\"], \"xaxis\": \"x\", \"y\": [32365, 5783, 3811, 1189, 6063, 3712, 6453, 3478, 1876], \"yaxis\": \"y\"}, {\"hovertemplate\": \"variable=1992<br>Field of Study=%{x}<br>value=%{y}<extra></extra>\", \"legendgroup\": \"1992\", \"line\": {\"color\": \"#EF553B\", \"dash\": \"solid\"}, \"mode\": \"lines\", \"name\": \"1992\", \"orientation\": \"v\", \"showlegend\": true, \"type\": \"scatter\", \"x\": [\"All fields\", \"Life sciencesa\", \"Physical sciences and earth sciences\", \"Mathematics and computer sciences\", \"Psychology and social sciences\", \"Engineering\", \"Education\", \"Humanities and arts\", \"Otherb\"], \"xaxis\": \"x\", \"y\": [38886, 7172, 4517, 1927, 6562, 5438, 6677, 4387, 2206], \"yaxis\": \"y\"}, {\"hovertemplate\": \"variable=1997<br>Field of Study=%{x}<br>value=%{y}<extra></extra>\", \"legendgroup\": \"1997\", \"line\": {\"color\": \"#00cc96\", \"dash\": \"solid\"}, \"mode\": \"lines\", \"name\": \"1997\", \"orientation\": \"v\", \"showlegend\": true, \"type\": \"scatter\", \"x\": [\"All fields\", \"Life sciencesa\", \"Physical sciences and earth sciences\", \"Mathematics and computer sciences\", \"Psychology and social sciences\", \"Engineering\", \"Education\", \"Humanities and arts\", \"Otherb\"], \"xaxis\": \"x\", \"y\": [42539, 8421, 4550, 2032, 7369, 6114, 6577, 5285, 2191], \"yaxis\": \"y\"}, {\"hovertemplate\": \"variable=2002<br>Field of Study=%{x}<br>value=%{y}<extra></extra>\", \"legendgroup\": \"2002\", \"line\": {\"color\": \"#ab63fa\", \"dash\": \"solid\"}, \"mode\": \"lines\", \"name\": \"2002\", \"orientation\": \"v\", \"showlegend\": true, \"type\": \"scatter\", \"x\": [\"All fields\", \"Life sciencesa\", \"Physical sciences and earth sciences\", \"Mathematics and computer sciences\", \"Psychology and social sciences\", \"Engineering\", \"Education\", \"Humanities and arts\", \"Otherb\"], \"xaxis\": \"x\", \"y\": [40031, 8478, 3875, 1729, 6925, 5081, 6508, 5297, 2138], \"yaxis\": \"y\"}, {\"hovertemplate\": \"variable=2007<br>Field of Study=%{x}<br>value=%{y}<extra></extra>\", \"legendgroup\": \"2007\", \"line\": {\"color\": \"#FFA15A\", \"dash\": \"solid\"}, \"mode\": \"lines\", \"name\": \"2007\", \"orientation\": \"v\", \"showlegend\": true, \"type\": \"scatter\", \"x\": [\"All fields\", \"Life sciencesa\", \"Physical sciences and earth sciences\", \"Mathematics and computer sciences\", \"Psychology and social sciences\", \"Engineering\", \"Education\", \"Humanities and arts\", \"Otherb\"], \"xaxis\": \"x\", \"y\": [48132, 10702, 4956, 3042, 7309, 7749, 6448, 5085, 2841], \"yaxis\": \"y\"}, {\"hovertemplate\": \"variable=2012<br>Field of Study=%{x}<br>value=%{y}<extra></extra>\", \"legendgroup\": \"2012\", \"line\": {\"color\": \"#19d3f3\", \"dash\": \"solid\"}, \"mode\": \"lines\", \"name\": \"2012\", \"orientation\": \"v\", \"showlegend\": true, \"type\": \"scatter\", \"x\": [\"All fields\", \"Life sciencesa\", \"Physical sciences and earth sciences\", \"Mathematics and computer sciences\", \"Psychology and social sciences\", \"Engineering\", \"Education\", \"Humanities and arts\", \"Otherb\"], \"xaxis\": \"x\", \"y\": [50944, 11964, 5419, 3496, 8498, 8469, 4803, 5561, 2734], \"yaxis\": \"y\"}, {\"hovertemplate\": \"variable=2017<br>Field of Study=%{x}<br>value=%{y}<extra></extra>\", \"legendgroup\": \"2017\", \"line\": {\"color\": \"#FF6692\", \"dash\": \"solid\"}, \"mode\": \"lines\", \"name\": \"2017\", \"orientation\": \"v\", \"showlegend\": true, \"type\": \"scatter\", \"x\": [\"All fields\", \"Life sciencesa\", \"Physical sciences and earth sciences\", \"Mathematics and computer sciences\", \"Psychology and social sciences\", \"Engineering\", \"Education\", \"Humanities and arts\", \"Otherb\"], \"xaxis\": \"x\", \"y\": [54664, 12592, 6081, 3843, 9079, 9843, 4823, 5290, 3113], \"yaxis\": \"y\"}],\n",
       "                        {\"legend\": {\"title\": {\"text\": \"variable\"}, \"tracegroupgap\": 0}, \"template\": {\"data\": {\"bar\": [{\"error_x\": {\"color\": \"#2a3f5f\"}, \"error_y\": {\"color\": \"#2a3f5f\"}, \"marker\": {\"line\": {\"color\": \"#E5ECF6\", \"width\": 0.5}}, \"type\": \"bar\"}], \"barpolar\": [{\"marker\": {\"line\": {\"color\": \"#E5ECF6\", \"width\": 0.5}}, \"type\": \"barpolar\"}], \"carpet\": [{\"aaxis\": {\"endlinecolor\": \"#2a3f5f\", \"gridcolor\": \"white\", \"linecolor\": \"white\", \"minorgridcolor\": \"white\", \"startlinecolor\": \"#2a3f5f\"}, \"baxis\": {\"endlinecolor\": \"#2a3f5f\", \"gridcolor\": \"white\", \"linecolor\": \"white\", \"minorgridcolor\": \"white\", \"startlinecolor\": \"#2a3f5f\"}, \"type\": \"carpet\"}], \"choropleth\": [{\"colorbar\": {\"outlinewidth\": 0, \"ticks\": \"\"}, \"type\": \"choropleth\"}], \"contour\": [{\"colorbar\": {\"outlinewidth\": 0, \"ticks\": \"\"}, \"colorscale\": [[0.0, \"#0d0887\"], [0.1111111111111111, \"#46039f\"], [0.2222222222222222, \"#7201a8\"], [0.3333333333333333, \"#9c179e\"], [0.4444444444444444, \"#bd3786\"], [0.5555555555555556, \"#d8576b\"], [0.6666666666666666, \"#ed7953\"], [0.7777777777777778, \"#fb9f3a\"], [0.8888888888888888, \"#fdca26\"], [1.0, \"#f0f921\"]], \"type\": \"contour\"}], \"contourcarpet\": [{\"colorbar\": {\"outlinewidth\": 0, \"ticks\": \"\"}, \"type\": \"contourcarpet\"}], \"heatmap\": [{\"colorbar\": {\"outlinewidth\": 0, \"ticks\": \"\"}, \"colorscale\": [[0.0, \"#0d0887\"], [0.1111111111111111, \"#46039f\"], [0.2222222222222222, \"#7201a8\"], [0.3333333333333333, \"#9c179e\"], [0.4444444444444444, \"#bd3786\"], [0.5555555555555556, \"#d8576b\"], [0.6666666666666666, \"#ed7953\"], [0.7777777777777778, \"#fb9f3a\"], [0.8888888888888888, \"#fdca26\"], [1.0, \"#f0f921\"]], \"type\": \"heatmap\"}], \"heatmapgl\": [{\"colorbar\": {\"outlinewidth\": 0, \"ticks\": \"\"}, \"colorscale\": [[0.0, \"#0d0887\"], [0.1111111111111111, \"#46039f\"], [0.2222222222222222, \"#7201a8\"], [0.3333333333333333, \"#9c179e\"], [0.4444444444444444, \"#bd3786\"], [0.5555555555555556, \"#d8576b\"], [0.6666666666666666, \"#ed7953\"], [0.7777777777777778, \"#fb9f3a\"], [0.8888888888888888, \"#fdca26\"], [1.0, \"#f0f921\"]], \"type\": \"heatmapgl\"}], \"histogram\": [{\"marker\": {\"colorbar\": {\"outlinewidth\": 0, \"ticks\": \"\"}}, \"type\": \"histogram\"}], \"histogram2d\": [{\"colorbar\": {\"outlinewidth\": 0, \"ticks\": \"\"}, \"colorscale\": [[0.0, \"#0d0887\"], [0.1111111111111111, \"#46039f\"], [0.2222222222222222, \"#7201a8\"], [0.3333333333333333, \"#9c179e\"], [0.4444444444444444, \"#bd3786\"], [0.5555555555555556, \"#d8576b\"], [0.6666666666666666, \"#ed7953\"], [0.7777777777777778, \"#fb9f3a\"], [0.8888888888888888, \"#fdca26\"], [1.0, \"#f0f921\"]], \"type\": \"histogram2d\"}], \"histogram2dcontour\": [{\"colorbar\": {\"outlinewidth\": 0, \"ticks\": \"\"}, \"colorscale\": [[0.0, \"#0d0887\"], [0.1111111111111111, \"#46039f\"], [0.2222222222222222, \"#7201a8\"], [0.3333333333333333, \"#9c179e\"], [0.4444444444444444, \"#bd3786\"], [0.5555555555555556, \"#d8576b\"], [0.6666666666666666, \"#ed7953\"], [0.7777777777777778, \"#fb9f3a\"], [0.8888888888888888, \"#fdca26\"], [1.0, \"#f0f921\"]], \"type\": \"histogram2dcontour\"}], \"mesh3d\": [{\"colorbar\": {\"outlinewidth\": 0, \"ticks\": \"\"}, \"type\": \"mesh3d\"}], \"parcoords\": [{\"line\": {\"colorbar\": {\"outlinewidth\": 0, \"ticks\": \"\"}}, \"type\": \"parcoords\"}], \"pie\": [{\"automargin\": true, \"type\": \"pie\"}], \"scatter\": [{\"marker\": {\"colorbar\": {\"outlinewidth\": 0, \"ticks\": \"\"}}, \"type\": \"scatter\"}], \"scatter3d\": [{\"line\": {\"colorbar\": {\"outlinewidth\": 0, \"ticks\": \"\"}}, \"marker\": {\"colorbar\": {\"outlinewidth\": 0, \"ticks\": \"\"}}, \"type\": \"scatter3d\"}], \"scattercarpet\": [{\"marker\": {\"colorbar\": {\"outlinewidth\": 0, \"ticks\": \"\"}}, \"type\": \"scattercarpet\"}], \"scattergeo\": [{\"marker\": {\"colorbar\": {\"outlinewidth\": 0, \"ticks\": \"\"}}, \"type\": \"scattergeo\"}], \"scattergl\": [{\"marker\": {\"colorbar\": {\"outlinewidth\": 0, \"ticks\": \"\"}}, \"type\": \"scattergl\"}], \"scattermapbox\": [{\"marker\": {\"colorbar\": {\"outlinewidth\": 0, \"ticks\": \"\"}}, \"type\": \"scattermapbox\"}], \"scatterpolar\": [{\"marker\": {\"colorbar\": {\"outlinewidth\": 0, \"ticks\": \"\"}}, \"type\": \"scatterpolar\"}], \"scatterpolargl\": [{\"marker\": {\"colorbar\": {\"outlinewidth\": 0, \"ticks\": \"\"}}, \"type\": \"scatterpolargl\"}], \"scatterternary\": [{\"marker\": {\"colorbar\": {\"outlinewidth\": 0, \"ticks\": \"\"}}, \"type\": \"scatterternary\"}], \"surface\": [{\"colorbar\": {\"outlinewidth\": 0, \"ticks\": \"\"}, \"colorscale\": [[0.0, \"#0d0887\"], [0.1111111111111111, \"#46039f\"], [0.2222222222222222, \"#7201a8\"], [0.3333333333333333, \"#9c179e\"], [0.4444444444444444, \"#bd3786\"], [0.5555555555555556, \"#d8576b\"], [0.6666666666666666, \"#ed7953\"], [0.7777777777777778, \"#fb9f3a\"], [0.8888888888888888, \"#fdca26\"], [1.0, \"#f0f921\"]], \"type\": \"surface\"}], \"table\": [{\"cells\": {\"fill\": {\"color\": \"#EBF0F8\"}, \"line\": {\"color\": \"white\"}}, \"header\": {\"fill\": {\"color\": \"#C8D4E3\"}, \"line\": {\"color\": \"white\"}}, \"type\": \"table\"}]}, \"layout\": {\"annotationdefaults\": {\"arrowcolor\": \"#2a3f5f\", \"arrowhead\": 0, \"arrowwidth\": 1}, \"coloraxis\": {\"colorbar\": {\"outlinewidth\": 0, \"ticks\": \"\"}}, \"colorscale\": {\"diverging\": [[0, \"#8e0152\"], [0.1, \"#c51b7d\"], [0.2, \"#de77ae\"], [0.3, \"#f1b6da\"], [0.4, \"#fde0ef\"], [0.5, \"#f7f7f7\"], [0.6, \"#e6f5d0\"], [0.7, \"#b8e186\"], [0.8, \"#7fbc41\"], [0.9, \"#4d9221\"], [1, \"#276419\"]], \"sequential\": [[0.0, \"#0d0887\"], [0.1111111111111111, \"#46039f\"], [0.2222222222222222, \"#7201a8\"], [0.3333333333333333, \"#9c179e\"], [0.4444444444444444, \"#bd3786\"], [0.5555555555555556, \"#d8576b\"], [0.6666666666666666, \"#ed7953\"], [0.7777777777777778, \"#fb9f3a\"], [0.8888888888888888, \"#fdca26\"], [1.0, \"#f0f921\"]], \"sequentialminus\": [[0.0, \"#0d0887\"], [0.1111111111111111, \"#46039f\"], [0.2222222222222222, \"#7201a8\"], [0.3333333333333333, \"#9c179e\"], [0.4444444444444444, \"#bd3786\"], [0.5555555555555556, \"#d8576b\"], [0.6666666666666666, \"#ed7953\"], [0.7777777777777778, \"#fb9f3a\"], [0.8888888888888888, \"#fdca26\"], [1.0, \"#f0f921\"]]}, \"colorway\": [\"#636efa\", \"#EF553B\", \"#00cc96\", \"#ab63fa\", \"#FFA15A\", \"#19d3f3\", \"#FF6692\", \"#B6E880\", \"#FF97FF\", \"#FECB52\"], \"font\": {\"color\": \"#2a3f5f\"}, \"geo\": {\"bgcolor\": \"white\", \"lakecolor\": \"white\", \"landcolor\": \"#E5ECF6\", \"showlakes\": true, \"showland\": true, \"subunitcolor\": \"white\"}, \"hoverlabel\": {\"align\": \"left\"}, \"hovermode\": \"closest\", \"mapbox\": {\"style\": \"light\"}, \"paper_bgcolor\": \"white\", \"plot_bgcolor\": \"#E5ECF6\", \"polar\": {\"angularaxis\": {\"gridcolor\": \"white\", \"linecolor\": \"white\", \"ticks\": \"\"}, \"bgcolor\": \"#E5ECF6\", \"radialaxis\": {\"gridcolor\": \"white\", \"linecolor\": \"white\", \"ticks\": \"\"}}, \"scene\": {\"xaxis\": {\"backgroundcolor\": \"#E5ECF6\", \"gridcolor\": \"white\", \"gridwidth\": 2, \"linecolor\": \"white\", \"showbackground\": true, \"ticks\": \"\", \"zerolinecolor\": \"white\"}, \"yaxis\": {\"backgroundcolor\": \"#E5ECF6\", \"gridcolor\": \"white\", \"gridwidth\": 2, \"linecolor\": \"white\", \"showbackground\": true, \"ticks\": \"\", \"zerolinecolor\": \"white\"}, \"zaxis\": {\"backgroundcolor\": \"#E5ECF6\", \"gridcolor\": \"white\", \"gridwidth\": 2, \"linecolor\": \"white\", \"showbackground\": true, \"ticks\": \"\", \"zerolinecolor\": \"white\"}}, \"shapedefaults\": {\"line\": {\"color\": \"#2a3f5f\"}}, \"ternary\": {\"aaxis\": {\"gridcolor\": \"white\", \"linecolor\": \"white\", \"ticks\": \"\"}, \"baxis\": {\"gridcolor\": \"white\", \"linecolor\": \"white\", \"ticks\": \"\"}, \"bgcolor\": \"#E5ECF6\", \"caxis\": {\"gridcolor\": \"white\", \"linecolor\": \"white\", \"ticks\": \"\"}}, \"title\": {\"x\": 0.05}, \"xaxis\": {\"automargin\": true, \"gridcolor\": \"white\", \"linecolor\": \"white\", \"ticks\": \"\", \"title\": {\"standoff\": 15}, \"zerolinecolor\": \"white\", \"zerolinewidth\": 2}, \"yaxis\": {\"automargin\": true, \"gridcolor\": \"white\", \"linecolor\": \"white\", \"ticks\": \"\", \"title\": {\"standoff\": 15}, \"zerolinecolor\": \"white\", \"zerolinewidth\": 2}}}, \"title\": {\"text\": \"Lineplot: Trend of Doctorate Recipients by Study Fields in the United States\"}, \"xaxis\": {\"anchor\": \"y\", \"domain\": [0.0, 1.0], \"title\": {\"text\": \"Field of Study\"}}, \"yaxis\": {\"anchor\": \"x\", \"domain\": [0.0, 1.0], \"title\": {\"text\": \"value\"}}},\n",
       "                        {\"responsive\": true}\n",
       "                    ).then(function(){\n",
       "                            \n",
       "var gd = document.getElementById('33eff8f7-4975-4a0a-9e42-9c94570229b1');\n",
       "var x = new MutationObserver(function (mutations, observer) {{\n",
       "        var display = window.getComputedStyle(gd).display;\n",
       "        if (!display || display === 'none') {{\n",
       "            console.log([gd, 'removed!']);\n",
       "            Plotly.purge(gd);\n",
       "            observer.disconnect();\n",
       "        }}\n",
       "}});\n",
       "\n",
       "// Listen for the removal of the full notebook cells\n",
       "var notebookContainer = gd.closest('#notebook-container');\n",
       "if (notebookContainer) {{\n",
       "    x.observe(notebookContainer, {childList: true});\n",
       "}}\n",
       "\n",
       "// Listen for the clearing of the current output cell\n",
       "var outputEl = gd.closest('.output');\n",
       "if (outputEl) {{\n",
       "    x.observe(outputEl, {childList: true});\n",
       "}}\n",
       "\n",
       "                        })\n",
       "                };\n",
       "                });\n",
       "            </script>\n",
       "        </div>"
      ]
     },
     "metadata": {},
     "output_type": "display_data"
    }
   ],
   "source": [
    "fig4 = px.line(df_17, x='Field of Study', y=df_17.columns,title='Lineplot: Trend of Doctorate Recipients by Study Fields in the United States')\n",
    "fig4.show()\n",
    "st.plotly_chart(fig4, use_container_width=True)"
   ]
  },
  {
   "cell_type": "code",
   "execution_count": 90,
   "metadata": {},
   "outputs": [
    {
     "data": {
      "text/html": [
       "<div>\n",
       "<style scoped>\n",
       "    .dataframe tbody tr th:only-of-type {\n",
       "        vertical-align: middle;\n",
       "    }\n",
       "\n",
       "    .dataframe tbody tr th {\n",
       "        vertical-align: top;\n",
       "    }\n",
       "\n",
       "    .dataframe thead th {\n",
       "        text-align: right;\n",
       "    }\n",
       "</style>\n",
       "<table border=\"1\" class=\"dataframe\">\n",
       "  <thead>\n",
       "    <tr style=\"text-align: right;\">\n",
       "      <th></th>\n",
       "      <th>Institution</th>\n",
       "      <th>Rank</th>\n",
       "      <th>Doctorate recipients</th>\n",
       "    </tr>\n",
       "  </thead>\n",
       "  <tbody>\n",
       "    <tr>\n",
       "      <th>0</th>\n",
       "      <td>U. Wisconsin-Madison</td>\n",
       "      <td>1</td>\n",
       "      <td>844</td>\n",
       "    </tr>\n",
       "    <tr>\n",
       "      <th>1</th>\n",
       "      <td>U. California, Berkeley</td>\n",
       "      <td>2</td>\n",
       "      <td>799</td>\n",
       "    </tr>\n",
       "    <tr>\n",
       "      <th>2</th>\n",
       "      <td>U. Texas, Austin</td>\n",
       "      <td>3</td>\n",
       "      <td>795</td>\n",
       "    </tr>\n",
       "  </tbody>\n",
       "</table>\n",
       "</div>"
      ],
      "text/plain": [
       "               Institution  Rank  Doctorate recipients\n",
       "0     U. Wisconsin-Madison     1                   844\n",
       "1  U. California, Berkeley     2                   799\n",
       "2         U. Texas, Austin     3                   795"
      ]
     },
     "execution_count": 90,
     "metadata": {},
     "output_type": "execute_result"
    }
   ],
   "source": [
    "df_003= pd.read_excel(\"https://ncses.nsf.gov/pubs/nsf19301/assets/data/tables/sed17-sr-tab003.xlsx\",skiprows=3)\n",
    "df_003.head(3)"
   ]
  },
  {
   "cell_type": "code",
   "execution_count": 112,
   "metadata": {},
   "outputs": [
    {
     "data": {
      "application/vnd.plotly.v1+json": {
       "config": {
        "plotlyServerURL": "https://plot.ly"
       },
       "data": [
        {
         "alignmentgroup": "True",
         "hovertemplate": "Number of Doctorate recipients=%{marker.color}<br>Rank=%{y}<br>Institution=%{text}<extra></extra>",
         "legendgroup": "",
         "marker": {
          "color": [
           844,
           799,
           795,
           782,
           777,
           758,
           739,
           735,
           732,
           726,
           714,
           694,
           683,
           678,
           660,
           621,
           604,
           542,
           528,
           520,
           515,
           505,
           503,
           499,
           496,
           495,
           488,
           481,
           472,
           461,
           441,
           438,
           435,
           420,
           419,
           403,
           402,
           401,
           396,
           392,
           387,
           386,
           379,
           369,
           365,
           363,
           359,
           350,
           348,
           347
          ],
          "coloraxis": "coloraxis"
         },
         "name": "",
         "offsetgroup": "",
         "orientation": "h",
         "showlegend": false,
         "text": [
          "U. Wisconsin-Madison",
          "U. California, Berkeley",
          "U. Texas, Austin",
          "U. Illinois, Urbana-Champaign",
          "U. Michigan, Ann Arbor",
          "Stanford U.",
          "Purdue U., West Lafayette",
          "Ohio State U., Columbus",
          "Texas A&M U., College Station and Health Science Center",
          "U. California, Los Angeles",
          "U. Florida",
          "Pennsylvania State U., University Park and Hershey Medical Center",
          "Harvard U.",
          "U. Minnesota, Twin Cities",
          "Walden U.",
          "Massachusetts Institute of Technology",
          "U. Washington, Seattle",
          "U. North Carolina, Chapel Hill",
          "U. Maryland, College Park",
          "U. California, San Diego",
          "Michigan State U.",
          "U. California, Davis",
          "Georgia Institute of Technology",
          "North Carolina State U.",
          "Cornell U.",
          "Johns Hopkins U.",
          "U. Pennsylvania",
          "Columbia U. in the City of New York",
          "U. Georgia",
          "U. Southern California",
          "Northwestern U.",
          "Virginia Polytechnic Institute and State U.",
          "New York U.",
          "Duke U.",
          "CUNY, Graduate Center",
          "U. California, Irvine",
          "Indiana U., Bloomington",
          "U. Arizona",
          "Rutgers, State U. New Jersey, New Brunswick",
          "U. Colorado Boulder",
          "U. Chicago",
          "U. Pittsburgh, Pittsburgh",
          "Yale U.",
          "Arizona State U.",
          "U. Tennessee, Knoxville",
          "Florida State U.",
          "Princeton U.",
          "Iowa State U.",
          "U. Connecticut, Storrs",
          "U. Iowa"
         ],
         "textposition": "auto",
         "type": "bar",
         "x": [
          844,
          799,
          795,
          782,
          777,
          758,
          739,
          735,
          732,
          726,
          714,
          694,
          683,
          678,
          660,
          621,
          604,
          542,
          528,
          520,
          515,
          505,
          503,
          499,
          496,
          495,
          488,
          481,
          472,
          461,
          441,
          438,
          435,
          420,
          419,
          403,
          402,
          401,
          396,
          392,
          387,
          386,
          379,
          369,
          365,
          363,
          359,
          350,
          348,
          347
         ],
         "xaxis": "x",
         "y": [
          1,
          2,
          3,
          4,
          5,
          6,
          7,
          8,
          9,
          10,
          11,
          12,
          13,
          14,
          15,
          16,
          17,
          18,
          19,
          20,
          21,
          22,
          23,
          24,
          25,
          26,
          27,
          28,
          29,
          30,
          31,
          32,
          33,
          34,
          35,
          36,
          37,
          38,
          39,
          40,
          41,
          42,
          43,
          44,
          45,
          46,
          47,
          48,
          49,
          50
         ],
         "yaxis": "y"
        }
       ],
       "layout": {
        "barmode": "relative",
        "coloraxis": {
         "colorbar": {
          "title": {
           "text": "Number of Doctorate recipients"
          }
         },
         "colorscale": [
          [
           0,
           "#0d0887"
          ],
          [
           0.1111111111111111,
           "#46039f"
          ],
          [
           0.2222222222222222,
           "#7201a8"
          ],
          [
           0.3333333333333333,
           "#9c179e"
          ],
          [
           0.4444444444444444,
           "#bd3786"
          ],
          [
           0.5555555555555556,
           "#d8576b"
          ],
          [
           0.6666666666666666,
           "#ed7953"
          ],
          [
           0.7777777777777778,
           "#fb9f3a"
          ],
          [
           0.8888888888888888,
           "#fdca26"
          ],
          [
           1,
           "#f0f921"
          ]
         ]
        },
        "height": 400,
        "legend": {
         "tracegroupgap": 0
        },
        "margin": {
         "t": 60
        },
        "template": {
         "data": {
          "bar": [
           {
            "error_x": {
             "color": "#f2f5fa"
            },
            "error_y": {
             "color": "#f2f5fa"
            },
            "marker": {
             "line": {
              "color": "rgb(17,17,17)",
              "width": 0.5
             }
            },
            "type": "bar"
           }
          ],
          "barpolar": [
           {
            "marker": {
             "line": {
              "color": "rgb(17,17,17)",
              "width": 0.5
             }
            },
            "type": "barpolar"
           }
          ],
          "carpet": [
           {
            "aaxis": {
             "endlinecolor": "#A2B1C6",
             "gridcolor": "#506784",
             "linecolor": "#506784",
             "minorgridcolor": "#506784",
             "startlinecolor": "#A2B1C6"
            },
            "baxis": {
             "endlinecolor": "#A2B1C6",
             "gridcolor": "#506784",
             "linecolor": "#506784",
             "minorgridcolor": "#506784",
             "startlinecolor": "#A2B1C6"
            },
            "type": "carpet"
           }
          ],
          "choropleth": [
           {
            "colorbar": {
             "outlinewidth": 0,
             "ticks": ""
            },
            "type": "choropleth"
           }
          ],
          "contour": [
           {
            "colorbar": {
             "outlinewidth": 0,
             "ticks": ""
            },
            "colorscale": [
             [
              0,
              "#0d0887"
             ],
             [
              0.1111111111111111,
              "#46039f"
             ],
             [
              0.2222222222222222,
              "#7201a8"
             ],
             [
              0.3333333333333333,
              "#9c179e"
             ],
             [
              0.4444444444444444,
              "#bd3786"
             ],
             [
              0.5555555555555556,
              "#d8576b"
             ],
             [
              0.6666666666666666,
              "#ed7953"
             ],
             [
              0.7777777777777778,
              "#fb9f3a"
             ],
             [
              0.8888888888888888,
              "#fdca26"
             ],
             [
              1,
              "#f0f921"
             ]
            ],
            "type": "contour"
           }
          ],
          "contourcarpet": [
           {
            "colorbar": {
             "outlinewidth": 0,
             "ticks": ""
            },
            "type": "contourcarpet"
           }
          ],
          "heatmap": [
           {
            "colorbar": {
             "outlinewidth": 0,
             "ticks": ""
            },
            "colorscale": [
             [
              0,
              "#0d0887"
             ],
             [
              0.1111111111111111,
              "#46039f"
             ],
             [
              0.2222222222222222,
              "#7201a8"
             ],
             [
              0.3333333333333333,
              "#9c179e"
             ],
             [
              0.4444444444444444,
              "#bd3786"
             ],
             [
              0.5555555555555556,
              "#d8576b"
             ],
             [
              0.6666666666666666,
              "#ed7953"
             ],
             [
              0.7777777777777778,
              "#fb9f3a"
             ],
             [
              0.8888888888888888,
              "#fdca26"
             ],
             [
              1,
              "#f0f921"
             ]
            ],
            "type": "heatmap"
           }
          ],
          "heatmapgl": [
           {
            "colorbar": {
             "outlinewidth": 0,
             "ticks": ""
            },
            "colorscale": [
             [
              0,
              "#0d0887"
             ],
             [
              0.1111111111111111,
              "#46039f"
             ],
             [
              0.2222222222222222,
              "#7201a8"
             ],
             [
              0.3333333333333333,
              "#9c179e"
             ],
             [
              0.4444444444444444,
              "#bd3786"
             ],
             [
              0.5555555555555556,
              "#d8576b"
             ],
             [
              0.6666666666666666,
              "#ed7953"
             ],
             [
              0.7777777777777778,
              "#fb9f3a"
             ],
             [
              0.8888888888888888,
              "#fdca26"
             ],
             [
              1,
              "#f0f921"
             ]
            ],
            "type": "heatmapgl"
           }
          ],
          "histogram": [
           {
            "marker": {
             "colorbar": {
              "outlinewidth": 0,
              "ticks": ""
             }
            },
            "type": "histogram"
           }
          ],
          "histogram2d": [
           {
            "colorbar": {
             "outlinewidth": 0,
             "ticks": ""
            },
            "colorscale": [
             [
              0,
              "#0d0887"
             ],
             [
              0.1111111111111111,
              "#46039f"
             ],
             [
              0.2222222222222222,
              "#7201a8"
             ],
             [
              0.3333333333333333,
              "#9c179e"
             ],
             [
              0.4444444444444444,
              "#bd3786"
             ],
             [
              0.5555555555555556,
              "#d8576b"
             ],
             [
              0.6666666666666666,
              "#ed7953"
             ],
             [
              0.7777777777777778,
              "#fb9f3a"
             ],
             [
              0.8888888888888888,
              "#fdca26"
             ],
             [
              1,
              "#f0f921"
             ]
            ],
            "type": "histogram2d"
           }
          ],
          "histogram2dcontour": [
           {
            "colorbar": {
             "outlinewidth": 0,
             "ticks": ""
            },
            "colorscale": [
             [
              0,
              "#0d0887"
             ],
             [
              0.1111111111111111,
              "#46039f"
             ],
             [
              0.2222222222222222,
              "#7201a8"
             ],
             [
              0.3333333333333333,
              "#9c179e"
             ],
             [
              0.4444444444444444,
              "#bd3786"
             ],
             [
              0.5555555555555556,
              "#d8576b"
             ],
             [
              0.6666666666666666,
              "#ed7953"
             ],
             [
              0.7777777777777778,
              "#fb9f3a"
             ],
             [
              0.8888888888888888,
              "#fdca26"
             ],
             [
              1,
              "#f0f921"
             ]
            ],
            "type": "histogram2dcontour"
           }
          ],
          "mesh3d": [
           {
            "colorbar": {
             "outlinewidth": 0,
             "ticks": ""
            },
            "type": "mesh3d"
           }
          ],
          "parcoords": [
           {
            "line": {
             "colorbar": {
              "outlinewidth": 0,
              "ticks": ""
             }
            },
            "type": "parcoords"
           }
          ],
          "pie": [
           {
            "automargin": true,
            "type": "pie"
           }
          ],
          "scatter": [
           {
            "marker": {
             "line": {
              "color": "#283442"
             }
            },
            "type": "scatter"
           }
          ],
          "scatter3d": [
           {
            "line": {
             "colorbar": {
              "outlinewidth": 0,
              "ticks": ""
             }
            },
            "marker": {
             "colorbar": {
              "outlinewidth": 0,
              "ticks": ""
             }
            },
            "type": "scatter3d"
           }
          ],
          "scattercarpet": [
           {
            "marker": {
             "colorbar": {
              "outlinewidth": 0,
              "ticks": ""
             }
            },
            "type": "scattercarpet"
           }
          ],
          "scattergeo": [
           {
            "marker": {
             "colorbar": {
              "outlinewidth": 0,
              "ticks": ""
             }
            },
            "type": "scattergeo"
           }
          ],
          "scattergl": [
           {
            "marker": {
             "line": {
              "color": "#283442"
             }
            },
            "type": "scattergl"
           }
          ],
          "scattermapbox": [
           {
            "marker": {
             "colorbar": {
              "outlinewidth": 0,
              "ticks": ""
             }
            },
            "type": "scattermapbox"
           }
          ],
          "scatterpolar": [
           {
            "marker": {
             "colorbar": {
              "outlinewidth": 0,
              "ticks": ""
             }
            },
            "type": "scatterpolar"
           }
          ],
          "scatterpolargl": [
           {
            "marker": {
             "colorbar": {
              "outlinewidth": 0,
              "ticks": ""
             }
            },
            "type": "scatterpolargl"
           }
          ],
          "scatterternary": [
           {
            "marker": {
             "colorbar": {
              "outlinewidth": 0,
              "ticks": ""
             }
            },
            "type": "scatterternary"
           }
          ],
          "surface": [
           {
            "colorbar": {
             "outlinewidth": 0,
             "ticks": ""
            },
            "colorscale": [
             [
              0,
              "#0d0887"
             ],
             [
              0.1111111111111111,
              "#46039f"
             ],
             [
              0.2222222222222222,
              "#7201a8"
             ],
             [
              0.3333333333333333,
              "#9c179e"
             ],
             [
              0.4444444444444444,
              "#bd3786"
             ],
             [
              0.5555555555555556,
              "#d8576b"
             ],
             [
              0.6666666666666666,
              "#ed7953"
             ],
             [
              0.7777777777777778,
              "#fb9f3a"
             ],
             [
              0.8888888888888888,
              "#fdca26"
             ],
             [
              1,
              "#f0f921"
             ]
            ],
            "type": "surface"
           }
          ],
          "table": [
           {
            "cells": {
             "fill": {
              "color": "#506784"
             },
             "line": {
              "color": "rgb(17,17,17)"
             }
            },
            "header": {
             "fill": {
              "color": "#2a3f5f"
             },
             "line": {
              "color": "rgb(17,17,17)"
             }
            },
            "type": "table"
           }
          ]
         },
         "layout": {
          "annotationdefaults": {
           "arrowcolor": "#f2f5fa",
           "arrowhead": 0,
           "arrowwidth": 1
          },
          "coloraxis": {
           "colorbar": {
            "outlinewidth": 0,
            "ticks": ""
           }
          },
          "colorscale": {
           "diverging": [
            [
             0,
             "#8e0152"
            ],
            [
             0.1,
             "#c51b7d"
            ],
            [
             0.2,
             "#de77ae"
            ],
            [
             0.3,
             "#f1b6da"
            ],
            [
             0.4,
             "#fde0ef"
            ],
            [
             0.5,
             "#f7f7f7"
            ],
            [
             0.6,
             "#e6f5d0"
            ],
            [
             0.7,
             "#b8e186"
            ],
            [
             0.8,
             "#7fbc41"
            ],
            [
             0.9,
             "#4d9221"
            ],
            [
             1,
             "#276419"
            ]
           ],
           "sequential": [
            [
             0,
             "#0d0887"
            ],
            [
             0.1111111111111111,
             "#46039f"
            ],
            [
             0.2222222222222222,
             "#7201a8"
            ],
            [
             0.3333333333333333,
             "#9c179e"
            ],
            [
             0.4444444444444444,
             "#bd3786"
            ],
            [
             0.5555555555555556,
             "#d8576b"
            ],
            [
             0.6666666666666666,
             "#ed7953"
            ],
            [
             0.7777777777777778,
             "#fb9f3a"
            ],
            [
             0.8888888888888888,
             "#fdca26"
            ],
            [
             1,
             "#f0f921"
            ]
           ],
           "sequentialminus": [
            [
             0,
             "#0d0887"
            ],
            [
             0.1111111111111111,
             "#46039f"
            ],
            [
             0.2222222222222222,
             "#7201a8"
            ],
            [
             0.3333333333333333,
             "#9c179e"
            ],
            [
             0.4444444444444444,
             "#bd3786"
            ],
            [
             0.5555555555555556,
             "#d8576b"
            ],
            [
             0.6666666666666666,
             "#ed7953"
            ],
            [
             0.7777777777777778,
             "#fb9f3a"
            ],
            [
             0.8888888888888888,
             "#fdca26"
            ],
            [
             1,
             "#f0f921"
            ]
           ]
          },
          "colorway": [
           "#636efa",
           "#EF553B",
           "#00cc96",
           "#ab63fa",
           "#FFA15A",
           "#19d3f3",
           "#FF6692",
           "#B6E880",
           "#FF97FF",
           "#FECB52"
          ],
          "font": {
           "color": "#f2f5fa"
          },
          "geo": {
           "bgcolor": "rgb(17,17,17)",
           "lakecolor": "rgb(17,17,17)",
           "landcolor": "rgb(17,17,17)",
           "showlakes": true,
           "showland": true,
           "subunitcolor": "#506784"
          },
          "hoverlabel": {
           "align": "left"
          },
          "hovermode": "closest",
          "mapbox": {
           "style": "dark"
          },
          "paper_bgcolor": "rgb(17,17,17)",
          "plot_bgcolor": "rgb(17,17,17)",
          "polar": {
           "angularaxis": {
            "gridcolor": "#506784",
            "linecolor": "#506784",
            "ticks": ""
           },
           "bgcolor": "rgb(17,17,17)",
           "radialaxis": {
            "gridcolor": "#506784",
            "linecolor": "#506784",
            "ticks": ""
           }
          },
          "scene": {
           "xaxis": {
            "backgroundcolor": "rgb(17,17,17)",
            "gridcolor": "#506784",
            "gridwidth": 2,
            "linecolor": "#506784",
            "showbackground": true,
            "ticks": "",
            "zerolinecolor": "#C8D4E3"
           },
           "yaxis": {
            "backgroundcolor": "rgb(17,17,17)",
            "gridcolor": "#506784",
            "gridwidth": 2,
            "linecolor": "#506784",
            "showbackground": true,
            "ticks": "",
            "zerolinecolor": "#C8D4E3"
           },
           "zaxis": {
            "backgroundcolor": "rgb(17,17,17)",
            "gridcolor": "#506784",
            "gridwidth": 2,
            "linecolor": "#506784",
            "showbackground": true,
            "ticks": "",
            "zerolinecolor": "#C8D4E3"
           }
          },
          "shapedefaults": {
           "line": {
            "color": "#f2f5fa"
           }
          },
          "sliderdefaults": {
           "bgcolor": "#C8D4E3",
           "bordercolor": "rgb(17,17,17)",
           "borderwidth": 1,
           "tickwidth": 0
          },
          "ternary": {
           "aaxis": {
            "gridcolor": "#506784",
            "linecolor": "#506784",
            "ticks": ""
           },
           "baxis": {
            "gridcolor": "#506784",
            "linecolor": "#506784",
            "ticks": ""
           },
           "bgcolor": "rgb(17,17,17)",
           "caxis": {
            "gridcolor": "#506784",
            "linecolor": "#506784",
            "ticks": ""
           }
          },
          "title": {
           "x": 0.05
          },
          "updatemenudefaults": {
           "bgcolor": "#506784",
           "borderwidth": 0
          },
          "xaxis": {
           "automargin": true,
           "gridcolor": "#283442",
           "linecolor": "#506784",
           "ticks": "",
           "title": {
            "standoff": 15
           },
           "zerolinecolor": "#283442",
           "zerolinewidth": 2
          },
          "yaxis": {
           "automargin": true,
           "gridcolor": "#283442",
           "linecolor": "#506784",
           "ticks": "",
           "title": {
            "standoff": 15
           },
           "zerolinecolor": "#283442",
           "zerolinewidth": 2
          }
         }
        },
        "width": 800,
        "xaxis": {
         "anchor": "y",
         "domain": [
          0,
          1
         ],
         "title": {
          "text": "Number of Doctorate recipients"
         }
        },
        "yaxis": {
         "anchor": "x",
         "domain": [
          0,
          1
         ],
         "title": {
          "text": "Rank"
         }
        }
       }
      },
      "text/html": [
       "<div>\n",
       "        \n",
       "        \n",
       "            <div id=\"c268933e-3507-4bc4-a9e1-641b9bcfbbc8\" class=\"plotly-graph-div\" style=\"height:400px; width:800px;\"></div>\n",
       "            <script type=\"text/javascript\">\n",
       "                require([\"plotly\"], function(Plotly) {\n",
       "                    window.PLOTLYENV=window.PLOTLYENV || {};\n",
       "                    \n",
       "                if (document.getElementById(\"c268933e-3507-4bc4-a9e1-641b9bcfbbc8\")) {\n",
       "                    Plotly.newPlot(\n",
       "                        'c268933e-3507-4bc4-a9e1-641b9bcfbbc8',\n",
       "                        [{\"alignmentgroup\": \"True\", \"hovertemplate\": \"Number of Doctorate recipients=%{marker.color}<br>Rank=%{y}<br>Institution=%{text}<extra></extra>\", \"legendgroup\": \"\", \"marker\": {\"color\": [844, 799, 795, 782, 777, 758, 739, 735, 732, 726, 714, 694, 683, 678, 660, 621, 604, 542, 528, 520, 515, 505, 503, 499, 496, 495, 488, 481, 472, 461, 441, 438, 435, 420, 419, 403, 402, 401, 396, 392, 387, 386, 379, 369, 365, 363, 359, 350, 348, 347], \"coloraxis\": \"coloraxis\"}, \"name\": \"\", \"offsetgroup\": \"\", \"orientation\": \"h\", \"showlegend\": false, \"text\": [\"U. Wisconsin-Madison\", \"U. California, Berkeley\", \"U. Texas, Austin\", \"U. Illinois, Urbana-Champaign\", \"U. Michigan, Ann Arbor\", \"Stanford U.\", \"Purdue U., West Lafayette\", \"Ohio State U., Columbus\", \"Texas A&M U., College Station and Health Science Center\", \"U. California, Los Angeles\", \"U. Florida\", \"Pennsylvania State U., University Park and Hershey Medical Center\", \"Harvard U.\", \"U. Minnesota, Twin Cities\", \"Walden U.\", \"Massachusetts Institute of Technology\", \"U. Washington, Seattle\", \"U. North Carolina, Chapel Hill\", \"U. Maryland, College Park\", \"U. California, San Diego\", \"Michigan State U.\", \"U. California, Davis\", \"Georgia Institute of Technology\", \"North Carolina State U.\", \"Cornell U.\", \"Johns Hopkins U.\", \"U. Pennsylvania\", \"Columbia U. in the City of New York\", \"U. Georgia\", \"U. Southern California\", \"Northwestern U.\", \"Virginia Polytechnic Institute and State U.\", \"New York U.\", \"Duke U.\", \"CUNY, Graduate Center\", \"U. California, Irvine\", \"Indiana U., Bloomington\", \"U. Arizona\", \"Rutgers, State U. New Jersey, New Brunswick\", \"U. Colorado Boulder\", \"U. Chicago\", \"U. Pittsburgh, Pittsburgh\", \"Yale U.\", \"Arizona State U.\", \"U. Tennessee, Knoxville\", \"Florida State U.\", \"Princeton U.\", \"Iowa State U.\", \"U. Connecticut, Storrs\", \"U. Iowa\"], \"textposition\": \"auto\", \"type\": \"bar\", \"x\": [844, 799, 795, 782, 777, 758, 739, 735, 732, 726, 714, 694, 683, 678, 660, 621, 604, 542, 528, 520, 515, 505, 503, 499, 496, 495, 488, 481, 472, 461, 441, 438, 435, 420, 419, 403, 402, 401, 396, 392, 387, 386, 379, 369, 365, 363, 359, 350, 348, 347], \"xaxis\": \"x\", \"y\": [1, 2, 3, 4, 5, 6, 7, 8, 9, 10, 11, 12, 13, 14, 15, 16, 17, 18, 19, 20, 21, 22, 23, 24, 25, 26, 27, 28, 29, 30, 31, 32, 33, 34, 35, 36, 37, 38, 39, 40, 41, 42, 43, 44, 45, 46, 47, 48, 49, 50], \"yaxis\": \"y\"}],\n",
       "                        {\"barmode\": \"relative\", \"coloraxis\": {\"colorbar\": {\"title\": {\"text\": \"Number of Doctorate recipients\"}}, \"colorscale\": [[0.0, \"#0d0887\"], [0.1111111111111111, \"#46039f\"], [0.2222222222222222, \"#7201a8\"], [0.3333333333333333, \"#9c179e\"], [0.4444444444444444, \"#bd3786\"], [0.5555555555555556, \"#d8576b\"], [0.6666666666666666, \"#ed7953\"], [0.7777777777777778, \"#fb9f3a\"], [0.8888888888888888, \"#fdca26\"], [1.0, \"#f0f921\"]]}, \"height\": 400, \"legend\": {\"tracegroupgap\": 0}, \"margin\": {\"t\": 60}, \"template\": {\"data\": {\"bar\": [{\"error_x\": {\"color\": \"#f2f5fa\"}, \"error_y\": {\"color\": \"#f2f5fa\"}, \"marker\": {\"line\": {\"color\": \"rgb(17,17,17)\", \"width\": 0.5}}, \"type\": \"bar\"}], \"barpolar\": [{\"marker\": {\"line\": {\"color\": \"rgb(17,17,17)\", \"width\": 0.5}}, \"type\": \"barpolar\"}], \"carpet\": [{\"aaxis\": {\"endlinecolor\": \"#A2B1C6\", \"gridcolor\": \"#506784\", \"linecolor\": \"#506784\", \"minorgridcolor\": \"#506784\", \"startlinecolor\": \"#A2B1C6\"}, \"baxis\": {\"endlinecolor\": \"#A2B1C6\", \"gridcolor\": \"#506784\", \"linecolor\": \"#506784\", \"minorgridcolor\": \"#506784\", \"startlinecolor\": \"#A2B1C6\"}, \"type\": \"carpet\"}], \"choropleth\": [{\"colorbar\": {\"outlinewidth\": 0, \"ticks\": \"\"}, \"type\": \"choropleth\"}], \"contour\": [{\"colorbar\": {\"outlinewidth\": 0, \"ticks\": \"\"}, \"colorscale\": [[0.0, \"#0d0887\"], [0.1111111111111111, \"#46039f\"], [0.2222222222222222, \"#7201a8\"], [0.3333333333333333, \"#9c179e\"], [0.4444444444444444, \"#bd3786\"], [0.5555555555555556, \"#d8576b\"], [0.6666666666666666, \"#ed7953\"], [0.7777777777777778, \"#fb9f3a\"], [0.8888888888888888, \"#fdca26\"], [1.0, \"#f0f921\"]], \"type\": \"contour\"}], \"contourcarpet\": [{\"colorbar\": {\"outlinewidth\": 0, \"ticks\": \"\"}, \"type\": \"contourcarpet\"}], \"heatmap\": [{\"colorbar\": {\"outlinewidth\": 0, \"ticks\": \"\"}, \"colorscale\": [[0.0, \"#0d0887\"], [0.1111111111111111, \"#46039f\"], [0.2222222222222222, \"#7201a8\"], [0.3333333333333333, \"#9c179e\"], [0.4444444444444444, \"#bd3786\"], [0.5555555555555556, \"#d8576b\"], [0.6666666666666666, \"#ed7953\"], [0.7777777777777778, \"#fb9f3a\"], [0.8888888888888888, \"#fdca26\"], [1.0, \"#f0f921\"]], \"type\": \"heatmap\"}], \"heatmapgl\": [{\"colorbar\": {\"outlinewidth\": 0, \"ticks\": \"\"}, \"colorscale\": [[0.0, \"#0d0887\"], [0.1111111111111111, \"#46039f\"], [0.2222222222222222, \"#7201a8\"], [0.3333333333333333, \"#9c179e\"], [0.4444444444444444, \"#bd3786\"], [0.5555555555555556, \"#d8576b\"], [0.6666666666666666, \"#ed7953\"], [0.7777777777777778, \"#fb9f3a\"], [0.8888888888888888, \"#fdca26\"], [1.0, \"#f0f921\"]], \"type\": \"heatmapgl\"}], \"histogram\": [{\"marker\": {\"colorbar\": {\"outlinewidth\": 0, \"ticks\": \"\"}}, \"type\": \"histogram\"}], \"histogram2d\": [{\"colorbar\": {\"outlinewidth\": 0, \"ticks\": \"\"}, \"colorscale\": [[0.0, \"#0d0887\"], [0.1111111111111111, \"#46039f\"], [0.2222222222222222, \"#7201a8\"], [0.3333333333333333, \"#9c179e\"], [0.4444444444444444, \"#bd3786\"], [0.5555555555555556, \"#d8576b\"], [0.6666666666666666, \"#ed7953\"], [0.7777777777777778, \"#fb9f3a\"], [0.8888888888888888, \"#fdca26\"], [1.0, \"#f0f921\"]], \"type\": \"histogram2d\"}], \"histogram2dcontour\": [{\"colorbar\": {\"outlinewidth\": 0, \"ticks\": \"\"}, \"colorscale\": [[0.0, \"#0d0887\"], [0.1111111111111111, \"#46039f\"], [0.2222222222222222, \"#7201a8\"], [0.3333333333333333, \"#9c179e\"], [0.4444444444444444, \"#bd3786\"], [0.5555555555555556, \"#d8576b\"], [0.6666666666666666, \"#ed7953\"], [0.7777777777777778, \"#fb9f3a\"], [0.8888888888888888, \"#fdca26\"], [1.0, \"#f0f921\"]], \"type\": \"histogram2dcontour\"}], \"mesh3d\": [{\"colorbar\": {\"outlinewidth\": 0, \"ticks\": \"\"}, \"type\": \"mesh3d\"}], \"parcoords\": [{\"line\": {\"colorbar\": {\"outlinewidth\": 0, \"ticks\": \"\"}}, \"type\": \"parcoords\"}], \"pie\": [{\"automargin\": true, \"type\": \"pie\"}], \"scatter\": [{\"marker\": {\"line\": {\"color\": \"#283442\"}}, \"type\": \"scatter\"}], \"scatter3d\": [{\"line\": {\"colorbar\": {\"outlinewidth\": 0, \"ticks\": \"\"}}, \"marker\": {\"colorbar\": {\"outlinewidth\": 0, \"ticks\": \"\"}}, \"type\": \"scatter3d\"}], \"scattercarpet\": [{\"marker\": {\"colorbar\": {\"outlinewidth\": 0, \"ticks\": \"\"}}, \"type\": \"scattercarpet\"}], \"scattergeo\": [{\"marker\": {\"colorbar\": {\"outlinewidth\": 0, \"ticks\": \"\"}}, \"type\": \"scattergeo\"}], \"scattergl\": [{\"marker\": {\"line\": {\"color\": \"#283442\"}}, \"type\": \"scattergl\"}], \"scattermapbox\": [{\"marker\": {\"colorbar\": {\"outlinewidth\": 0, \"ticks\": \"\"}}, \"type\": \"scattermapbox\"}], \"scatterpolar\": [{\"marker\": {\"colorbar\": {\"outlinewidth\": 0, \"ticks\": \"\"}}, \"type\": \"scatterpolar\"}], \"scatterpolargl\": [{\"marker\": {\"colorbar\": {\"outlinewidth\": 0, \"ticks\": \"\"}}, \"type\": \"scatterpolargl\"}], \"scatterternary\": [{\"marker\": {\"colorbar\": {\"outlinewidth\": 0, \"ticks\": \"\"}}, \"type\": \"scatterternary\"}], \"surface\": [{\"colorbar\": {\"outlinewidth\": 0, \"ticks\": \"\"}, \"colorscale\": [[0.0, \"#0d0887\"], [0.1111111111111111, \"#46039f\"], [0.2222222222222222, \"#7201a8\"], [0.3333333333333333, \"#9c179e\"], [0.4444444444444444, \"#bd3786\"], [0.5555555555555556, \"#d8576b\"], [0.6666666666666666, \"#ed7953\"], [0.7777777777777778, \"#fb9f3a\"], [0.8888888888888888, \"#fdca26\"], [1.0, \"#f0f921\"]], \"type\": \"surface\"}], \"table\": [{\"cells\": {\"fill\": {\"color\": \"#506784\"}, \"line\": {\"color\": \"rgb(17,17,17)\"}}, \"header\": {\"fill\": {\"color\": \"#2a3f5f\"}, \"line\": {\"color\": \"rgb(17,17,17)\"}}, \"type\": \"table\"}]}, \"layout\": {\"annotationdefaults\": {\"arrowcolor\": \"#f2f5fa\", \"arrowhead\": 0, \"arrowwidth\": 1}, \"coloraxis\": {\"colorbar\": {\"outlinewidth\": 0, \"ticks\": \"\"}}, \"colorscale\": {\"diverging\": [[0, \"#8e0152\"], [0.1, \"#c51b7d\"], [0.2, \"#de77ae\"], [0.3, \"#f1b6da\"], [0.4, \"#fde0ef\"], [0.5, \"#f7f7f7\"], [0.6, \"#e6f5d0\"], [0.7, \"#b8e186\"], [0.8, \"#7fbc41\"], [0.9, \"#4d9221\"], [1, \"#276419\"]], \"sequential\": [[0.0, \"#0d0887\"], [0.1111111111111111, \"#46039f\"], [0.2222222222222222, \"#7201a8\"], [0.3333333333333333, \"#9c179e\"], [0.4444444444444444, \"#bd3786\"], [0.5555555555555556, \"#d8576b\"], [0.6666666666666666, \"#ed7953\"], [0.7777777777777778, \"#fb9f3a\"], [0.8888888888888888, \"#fdca26\"], [1.0, \"#f0f921\"]], \"sequentialminus\": [[0.0, \"#0d0887\"], [0.1111111111111111, \"#46039f\"], [0.2222222222222222, \"#7201a8\"], [0.3333333333333333, \"#9c179e\"], [0.4444444444444444, \"#bd3786\"], [0.5555555555555556, \"#d8576b\"], [0.6666666666666666, \"#ed7953\"], [0.7777777777777778, \"#fb9f3a\"], [0.8888888888888888, \"#fdca26\"], [1.0, \"#f0f921\"]]}, \"colorway\": [\"#636efa\", \"#EF553B\", \"#00cc96\", \"#ab63fa\", \"#FFA15A\", \"#19d3f3\", \"#FF6692\", \"#B6E880\", \"#FF97FF\", \"#FECB52\"], \"font\": {\"color\": \"#f2f5fa\"}, \"geo\": {\"bgcolor\": \"rgb(17,17,17)\", \"lakecolor\": \"rgb(17,17,17)\", \"landcolor\": \"rgb(17,17,17)\", \"showlakes\": true, \"showland\": true, \"subunitcolor\": \"#506784\"}, \"hoverlabel\": {\"align\": \"left\"}, \"hovermode\": \"closest\", \"mapbox\": {\"style\": \"dark\"}, \"paper_bgcolor\": \"rgb(17,17,17)\", \"plot_bgcolor\": \"rgb(17,17,17)\", \"polar\": {\"angularaxis\": {\"gridcolor\": \"#506784\", \"linecolor\": \"#506784\", \"ticks\": \"\"}, \"bgcolor\": \"rgb(17,17,17)\", \"radialaxis\": {\"gridcolor\": \"#506784\", \"linecolor\": \"#506784\", \"ticks\": \"\"}}, \"scene\": {\"xaxis\": {\"backgroundcolor\": \"rgb(17,17,17)\", \"gridcolor\": \"#506784\", \"gridwidth\": 2, \"linecolor\": \"#506784\", \"showbackground\": true, \"ticks\": \"\", \"zerolinecolor\": \"#C8D4E3\"}, \"yaxis\": {\"backgroundcolor\": \"rgb(17,17,17)\", \"gridcolor\": \"#506784\", \"gridwidth\": 2, \"linecolor\": \"#506784\", \"showbackground\": true, \"ticks\": \"\", \"zerolinecolor\": \"#C8D4E3\"}, \"zaxis\": {\"backgroundcolor\": \"rgb(17,17,17)\", \"gridcolor\": \"#506784\", \"gridwidth\": 2, \"linecolor\": \"#506784\", \"showbackground\": true, \"ticks\": \"\", \"zerolinecolor\": \"#C8D4E3\"}}, \"shapedefaults\": {\"line\": {\"color\": \"#f2f5fa\"}}, \"sliderdefaults\": {\"bgcolor\": \"#C8D4E3\", \"bordercolor\": \"rgb(17,17,17)\", \"borderwidth\": 1, \"tickwidth\": 0}, \"ternary\": {\"aaxis\": {\"gridcolor\": \"#506784\", \"linecolor\": \"#506784\", \"ticks\": \"\"}, \"baxis\": {\"gridcolor\": \"#506784\", \"linecolor\": \"#506784\", \"ticks\": \"\"}, \"bgcolor\": \"rgb(17,17,17)\", \"caxis\": {\"gridcolor\": \"#506784\", \"linecolor\": \"#506784\", \"ticks\": \"\"}}, \"title\": {\"x\": 0.05}, \"updatemenudefaults\": {\"bgcolor\": \"#506784\", \"borderwidth\": 0}, \"xaxis\": {\"automargin\": true, \"gridcolor\": \"#283442\", \"linecolor\": \"#506784\", \"ticks\": \"\", \"title\": {\"standoff\": 15}, \"zerolinecolor\": \"#283442\", \"zerolinewidth\": 2}, \"yaxis\": {\"automargin\": true, \"gridcolor\": \"#283442\", \"linecolor\": \"#506784\", \"ticks\": \"\", \"title\": {\"standoff\": 15}, \"zerolinecolor\": \"#283442\", \"zerolinewidth\": 2}}}, \"width\": 800, \"xaxis\": {\"anchor\": \"y\", \"domain\": [0.0, 1.0], \"title\": {\"text\": \"Number of Doctorate recipients\"}}, \"yaxis\": {\"anchor\": \"x\", \"domain\": [0.0, 1.0], \"title\": {\"text\": \"Rank\"}}},\n",
       "                        {\"responsive\": true}\n",
       "                    ).then(function(){\n",
       "                            \n",
       "var gd = document.getElementById('c268933e-3507-4bc4-a9e1-641b9bcfbbc8');\n",
       "var x = new MutationObserver(function (mutations, observer) {{\n",
       "        var display = window.getComputedStyle(gd).display;\n",
       "        if (!display || display === 'none') {{\n",
       "            console.log([gd, 'removed!']);\n",
       "            Plotly.purge(gd);\n",
       "            observer.disconnect();\n",
       "        }}\n",
       "}});\n",
       "\n",
       "// Listen for the removal of the full notebook cells\n",
       "var notebookContainer = gd.closest('#notebook-container');\n",
       "if (notebookContainer) {{\n",
       "    x.observe(notebookContainer, {childList: true});\n",
       "}}\n",
       "\n",
       "// Listen for the clearing of the current output cell\n",
       "var outputEl = gd.closest('.output');\n",
       "if (outputEl) {{\n",
       "    x.observe(outputEl, {childList: true});\n",
       "}}\n",
       "\n",
       "                        })\n",
       "                };\n",
       "                });\n",
       "            </script>\n",
       "        </div>"
      ]
     },
     "metadata": {},
     "output_type": "display_data"
    },
    {
     "data": {
      "text/plain": [
       "<streamlit.delta_generator.DeltaGenerator at 0x7f4445e47a50>"
      ]
     },
     "execution_count": 112,
     "metadata": {},
     "output_type": "execute_result"
    }
   ],
   "source": [
    "fig6 = px.bar(df_003, x = 'Doctorate recipients', y = 'Rank', orientation='h',\n",
    "             color='Doctorate recipients', text='Institution',\n",
    "              template='plotly_dark',\n",
    "             labels={'Doctorate recipients': 'Number of Doctorate recipients'},\n",
    "              width=800, height=400)\n",
    "\n",
    "fig6.show()\n",
    "st.plotly_chart(fig6, use_container_width=True)"
   ]
  },
  {
   "cell_type": "code",
   "execution_count": null,
   "metadata": {},
   "outputs": [],
   "source": []
  },
  {
   "cell_type": "code",
   "execution_count": 78,
   "metadata": {},
   "outputs": [],
   "source": [
    "st.write(\"\"\"\n",
    "Choropleth map to show the number of doctorate recipients ranked by state in 2017\n",
    "\"\"\")\n",
    "df_005= pd.read_excel(\"https://ncses.nsf.gov/pubs/nsf19301/assets/data/tables/sed17-sr-tab005.xlsx\",skiprows=3)\n",
    "code = {'Alabama': 'AL',\n",
    "        'Alaska': 'AK',\n",
    "        'Arizona': 'AZ',\n",
    "        'Arkansas': 'AR',\n",
    "        'California': 'CA',\n",
    "        'Colorado': 'CO',\n",
    "        'Connecticut': 'CT',\n",
    "        'Delaware': 'DE',\n",
    "        'District of Columbia': 'DC',\n",
    "        'Florida': 'FL',\n",
    "        'Georgia': 'GA',\n",
    "        'Hawaii': 'HI',\n",
    "        'Idaho': 'ID',\n",
    "        'Illinois': 'IL',\n",
    "        'Indiana': 'IN',\n",
    "        'Iowa': 'IA',\n",
    "        'Kansas': 'KS',\n",
    "        'Kentucky': 'KY',\n",
    "        'Louisiana': 'LA',\n",
    "        'Maine': 'ME',\n",
    "        'Maryland': 'MD',\n",
    "        'Massachusetts': 'MA',\n",
    "        'Michigan': 'MI',\n",
    "        'Minnesota': 'MN',\n",
    "        'Mississippi': 'MS',\n",
    "        'Missouri': 'MO',\n",
    "        'Montana': 'MT',\n",
    "        'Nebraska': 'NE',\n",
    "        'Nevada': 'NV',\n",
    "        'New Hampshire': 'NH',\n",
    "        'New Jersey': 'NJ',\n",
    "        'New Mexico': 'NM',\n",
    "        'New York': 'NY',\n",
    "        'North Carolina': 'NC',\n",
    "        'North Dakota': 'ND',\n",
    "        'Ohio': 'OH',\n",
    "        'Oklahoma': 'OK',\n",
    "        'Oregon': 'OR',\n",
    "        'Pennsylvania': 'PA',\n",
    "        'Rhode Island': 'RI',\n",
    "        'South Carolina': 'SC',\n",
    "        'South Dakota': 'SD',\n",
    "        'Tennessee': 'TN',\n",
    "        'Texas': 'TX',\n",
    "        'Utah': 'UT',\n",
    "        'Vermont': 'VT',\n",
    "        'Virginia': 'VA',\n",
    "        'Washington': 'WA',\n",
    "        'West Virginia': 'WV',\n",
    "        'Wisconsin': 'WI',\n",
    "        'Wyoming': 'WY'}"
   ]
  },
  {
   "cell_type": "code",
   "execution_count": 79,
   "metadata": {},
   "outputs": [
    {
     "data": {
      "text/html": [
       "<div>\n",
       "<style scoped>\n",
       "    .dataframe tbody tr th:only-of-type {\n",
       "        vertical-align: middle;\n",
       "    }\n",
       "\n",
       "    .dataframe tbody tr th {\n",
       "        vertical-align: top;\n",
       "    }\n",
       "\n",
       "    .dataframe thead th {\n",
       "        text-align: right;\n",
       "    }\n",
       "</style>\n",
       "<table border=\"1\" class=\"dataframe\">\n",
       "  <thead>\n",
       "    <tr style=\"text-align: right;\">\n",
       "      <th></th>\n",
       "      <th>State or location</th>\n",
       "      <th>Rank</th>\n",
       "      <th>Doctorate recipients</th>\n",
       "    </tr>\n",
       "  </thead>\n",
       "  <tbody>\n",
       "    <tr>\n",
       "      <th>0</th>\n",
       "      <td>California</td>\n",
       "      <td>1</td>\n",
       "      <td>6105</td>\n",
       "    </tr>\n",
       "    <tr>\n",
       "      <th>1</th>\n",
       "      <td>Texas</td>\n",
       "      <td>2</td>\n",
       "      <td>4068</td>\n",
       "    </tr>\n",
       "    <tr>\n",
       "      <th>2</th>\n",
       "      <td>New York</td>\n",
       "      <td>3</td>\n",
       "      <td>4064</td>\n",
       "    </tr>\n",
       "    <tr>\n",
       "      <th>3</th>\n",
       "      <td>Massachusetts</td>\n",
       "      <td>4</td>\n",
       "      <td>2879</td>\n",
       "    </tr>\n",
       "    <tr>\n",
       "      <th>4</th>\n",
       "      <td>Pennsylvania</td>\n",
       "      <td>5</td>\n",
       "      <td>2628</td>\n",
       "    </tr>\n",
       "  </tbody>\n",
       "</table>\n",
       "</div>"
      ],
      "text/plain": [
       "  State or location  Rank  Doctorate recipients\n",
       "0        California     1                  6105\n",
       "1             Texas     2                  4068\n",
       "2          New York     3                  4064\n",
       "3     Massachusetts     4                  2879\n",
       "4      Pennsylvania     5                  2628"
      ]
     },
     "execution_count": 79,
     "metadata": {},
     "output_type": "execute_result"
    }
   ],
   "source": [
    "df_005.head(5)\n",
    "df_005['Code'] = df_005['State or location'].map(code)"
   ]
  },
  {
   "cell_type": "code",
   "execution_count": 89,
   "metadata": {},
   "outputs": [
    {
     "data": {
      "application/vnd.plotly.v1+json": {
       "config": {
        "plotlyServerURL": "https://plot.ly"
       },
       "data": [
        {
         "colorbar": {
          "title": {
           "text": "Total number of doctorate recipients "
          }
         },
         "colorscale": [
          [
           0,
           "#440154"
          ],
          [
           0.1111111111111111,
           "#482878"
          ],
          [
           0.2222222222222222,
           "#3e4989"
          ],
          [
           0.3333333333333333,
           "#31688e"
          ],
          [
           0.4444444444444444,
           "#26828e"
          ],
          [
           0.5555555555555556,
           "#1f9e89"
          ],
          [
           0.6666666666666666,
           "#35b779"
          ],
          [
           0.7777777777777778,
           "#6ece58"
          ],
          [
           0.8888888888888888,
           "#b5de2b"
          ],
          [
           1,
           "#fde725"
          ]
         ],
         "locationmode": "USA-states",
         "locations": [
          "CA",
          "TX",
          "NY",
          "MA",
          "PA",
          "IL",
          "FL",
          "OH",
          "MI",
          "NC",
          "IN",
          "VA",
          "GA",
          "MN",
          "MD",
          "WI",
          "NJ",
          "TN",
          "MO",
          "CO",
          "WA",
          "AZ",
          "CT",
          "IA",
          "AL",
          "DC",
          "LA",
          "OR",
          "KS",
          "OK",
          "UT",
          "SC",
          "KY",
          "MS",
          "NE",
          "RI",
          "NM",
          "DE",
          "AR",
          "NV",
          "HI",
          "WV",
          "ND",
          "NH",
          "MT",
          "SD",
          "ID",
          "WY",
          null,
          "VT",
          "ME",
          "AK"
         ],
         "type": "choropleth",
         "z": [
          6105,
          4068,
          4064,
          2879,
          2628,
          2534,
          2336,
          2028,
          1906,
          1833,
          1572,
          1513,
          1492,
          1374,
          1295,
          1130,
          1115,
          1032,
          1022,
          1005,
          914,
          801,
          748,
          715,
          707,
          623,
          607,
          572,
          530,
          524,
          508,
          506,
          497,
          460,
          363,
          322,
          299,
          238,
          202,
          200,
          189,
          183,
          181,
          158,
          119,
          110,
          103,
          101,
          84,
          61,
          56,
          52
         ]
        }
       ],
       "layout": {
        "geo": {
         "scope": "usa"
        },
        "template": {
         "data": {
          "bar": [
           {
            "error_x": {
             "color": "#2a3f5f"
            },
            "error_y": {
             "color": "#2a3f5f"
            },
            "marker": {
             "line": {
              "color": "#E5ECF6",
              "width": 0.5
             }
            },
            "type": "bar"
           }
          ],
          "barpolar": [
           {
            "marker": {
             "line": {
              "color": "#E5ECF6",
              "width": 0.5
             }
            },
            "type": "barpolar"
           }
          ],
          "carpet": [
           {
            "aaxis": {
             "endlinecolor": "#2a3f5f",
             "gridcolor": "white",
             "linecolor": "white",
             "minorgridcolor": "white",
             "startlinecolor": "#2a3f5f"
            },
            "baxis": {
             "endlinecolor": "#2a3f5f",
             "gridcolor": "white",
             "linecolor": "white",
             "minorgridcolor": "white",
             "startlinecolor": "#2a3f5f"
            },
            "type": "carpet"
           }
          ],
          "choropleth": [
           {
            "colorbar": {
             "outlinewidth": 0,
             "ticks": ""
            },
            "type": "choropleth"
           }
          ],
          "contour": [
           {
            "colorbar": {
             "outlinewidth": 0,
             "ticks": ""
            },
            "colorscale": [
             [
              0,
              "#0d0887"
             ],
             [
              0.1111111111111111,
              "#46039f"
             ],
             [
              0.2222222222222222,
              "#7201a8"
             ],
             [
              0.3333333333333333,
              "#9c179e"
             ],
             [
              0.4444444444444444,
              "#bd3786"
             ],
             [
              0.5555555555555556,
              "#d8576b"
             ],
             [
              0.6666666666666666,
              "#ed7953"
             ],
             [
              0.7777777777777778,
              "#fb9f3a"
             ],
             [
              0.8888888888888888,
              "#fdca26"
             ],
             [
              1,
              "#f0f921"
             ]
            ],
            "type": "contour"
           }
          ],
          "contourcarpet": [
           {
            "colorbar": {
             "outlinewidth": 0,
             "ticks": ""
            },
            "type": "contourcarpet"
           }
          ],
          "heatmap": [
           {
            "colorbar": {
             "outlinewidth": 0,
             "ticks": ""
            },
            "colorscale": [
             [
              0,
              "#0d0887"
             ],
             [
              0.1111111111111111,
              "#46039f"
             ],
             [
              0.2222222222222222,
              "#7201a8"
             ],
             [
              0.3333333333333333,
              "#9c179e"
             ],
             [
              0.4444444444444444,
              "#bd3786"
             ],
             [
              0.5555555555555556,
              "#d8576b"
             ],
             [
              0.6666666666666666,
              "#ed7953"
             ],
             [
              0.7777777777777778,
              "#fb9f3a"
             ],
             [
              0.8888888888888888,
              "#fdca26"
             ],
             [
              1,
              "#f0f921"
             ]
            ],
            "type": "heatmap"
           }
          ],
          "heatmapgl": [
           {
            "colorbar": {
             "outlinewidth": 0,
             "ticks": ""
            },
            "colorscale": [
             [
              0,
              "#0d0887"
             ],
             [
              0.1111111111111111,
              "#46039f"
             ],
             [
              0.2222222222222222,
              "#7201a8"
             ],
             [
              0.3333333333333333,
              "#9c179e"
             ],
             [
              0.4444444444444444,
              "#bd3786"
             ],
             [
              0.5555555555555556,
              "#d8576b"
             ],
             [
              0.6666666666666666,
              "#ed7953"
             ],
             [
              0.7777777777777778,
              "#fb9f3a"
             ],
             [
              0.8888888888888888,
              "#fdca26"
             ],
             [
              1,
              "#f0f921"
             ]
            ],
            "type": "heatmapgl"
           }
          ],
          "histogram": [
           {
            "marker": {
             "colorbar": {
              "outlinewidth": 0,
              "ticks": ""
             }
            },
            "type": "histogram"
           }
          ],
          "histogram2d": [
           {
            "colorbar": {
             "outlinewidth": 0,
             "ticks": ""
            },
            "colorscale": [
             [
              0,
              "#0d0887"
             ],
             [
              0.1111111111111111,
              "#46039f"
             ],
             [
              0.2222222222222222,
              "#7201a8"
             ],
             [
              0.3333333333333333,
              "#9c179e"
             ],
             [
              0.4444444444444444,
              "#bd3786"
             ],
             [
              0.5555555555555556,
              "#d8576b"
             ],
             [
              0.6666666666666666,
              "#ed7953"
             ],
             [
              0.7777777777777778,
              "#fb9f3a"
             ],
             [
              0.8888888888888888,
              "#fdca26"
             ],
             [
              1,
              "#f0f921"
             ]
            ],
            "type": "histogram2d"
           }
          ],
          "histogram2dcontour": [
           {
            "colorbar": {
             "outlinewidth": 0,
             "ticks": ""
            },
            "colorscale": [
             [
              0,
              "#0d0887"
             ],
             [
              0.1111111111111111,
              "#46039f"
             ],
             [
              0.2222222222222222,
              "#7201a8"
             ],
             [
              0.3333333333333333,
              "#9c179e"
             ],
             [
              0.4444444444444444,
              "#bd3786"
             ],
             [
              0.5555555555555556,
              "#d8576b"
             ],
             [
              0.6666666666666666,
              "#ed7953"
             ],
             [
              0.7777777777777778,
              "#fb9f3a"
             ],
             [
              0.8888888888888888,
              "#fdca26"
             ],
             [
              1,
              "#f0f921"
             ]
            ],
            "type": "histogram2dcontour"
           }
          ],
          "mesh3d": [
           {
            "colorbar": {
             "outlinewidth": 0,
             "ticks": ""
            },
            "type": "mesh3d"
           }
          ],
          "parcoords": [
           {
            "line": {
             "colorbar": {
              "outlinewidth": 0,
              "ticks": ""
             }
            },
            "type": "parcoords"
           }
          ],
          "pie": [
           {
            "automargin": true,
            "type": "pie"
           }
          ],
          "scatter": [
           {
            "marker": {
             "colorbar": {
              "outlinewidth": 0,
              "ticks": ""
             }
            },
            "type": "scatter"
           }
          ],
          "scatter3d": [
           {
            "line": {
             "colorbar": {
              "outlinewidth": 0,
              "ticks": ""
             }
            },
            "marker": {
             "colorbar": {
              "outlinewidth": 0,
              "ticks": ""
             }
            },
            "type": "scatter3d"
           }
          ],
          "scattercarpet": [
           {
            "marker": {
             "colorbar": {
              "outlinewidth": 0,
              "ticks": ""
             }
            },
            "type": "scattercarpet"
           }
          ],
          "scattergeo": [
           {
            "marker": {
             "colorbar": {
              "outlinewidth": 0,
              "ticks": ""
             }
            },
            "type": "scattergeo"
           }
          ],
          "scattergl": [
           {
            "marker": {
             "colorbar": {
              "outlinewidth": 0,
              "ticks": ""
             }
            },
            "type": "scattergl"
           }
          ],
          "scattermapbox": [
           {
            "marker": {
             "colorbar": {
              "outlinewidth": 0,
              "ticks": ""
             }
            },
            "type": "scattermapbox"
           }
          ],
          "scatterpolar": [
           {
            "marker": {
             "colorbar": {
              "outlinewidth": 0,
              "ticks": ""
             }
            },
            "type": "scatterpolar"
           }
          ],
          "scatterpolargl": [
           {
            "marker": {
             "colorbar": {
              "outlinewidth": 0,
              "ticks": ""
             }
            },
            "type": "scatterpolargl"
           }
          ],
          "scatterternary": [
           {
            "marker": {
             "colorbar": {
              "outlinewidth": 0,
              "ticks": ""
             }
            },
            "type": "scatterternary"
           }
          ],
          "surface": [
           {
            "colorbar": {
             "outlinewidth": 0,
             "ticks": ""
            },
            "colorscale": [
             [
              0,
              "#0d0887"
             ],
             [
              0.1111111111111111,
              "#46039f"
             ],
             [
              0.2222222222222222,
              "#7201a8"
             ],
             [
              0.3333333333333333,
              "#9c179e"
             ],
             [
              0.4444444444444444,
              "#bd3786"
             ],
             [
              0.5555555555555556,
              "#d8576b"
             ],
             [
              0.6666666666666666,
              "#ed7953"
             ],
             [
              0.7777777777777778,
              "#fb9f3a"
             ],
             [
              0.8888888888888888,
              "#fdca26"
             ],
             [
              1,
              "#f0f921"
             ]
            ],
            "type": "surface"
           }
          ],
          "table": [
           {
            "cells": {
             "fill": {
              "color": "#EBF0F8"
             },
             "line": {
              "color": "white"
             }
            },
            "header": {
             "fill": {
              "color": "#C8D4E3"
             },
             "line": {
              "color": "white"
             }
            },
            "type": "table"
           }
          ]
         },
         "layout": {
          "annotationdefaults": {
           "arrowcolor": "#2a3f5f",
           "arrowhead": 0,
           "arrowwidth": 1
          },
          "coloraxis": {
           "colorbar": {
            "outlinewidth": 0,
            "ticks": ""
           }
          },
          "colorscale": {
           "diverging": [
            [
             0,
             "#8e0152"
            ],
            [
             0.1,
             "#c51b7d"
            ],
            [
             0.2,
             "#de77ae"
            ],
            [
             0.3,
             "#f1b6da"
            ],
            [
             0.4,
             "#fde0ef"
            ],
            [
             0.5,
             "#f7f7f7"
            ],
            [
             0.6,
             "#e6f5d0"
            ],
            [
             0.7,
             "#b8e186"
            ],
            [
             0.8,
             "#7fbc41"
            ],
            [
             0.9,
             "#4d9221"
            ],
            [
             1,
             "#276419"
            ]
           ],
           "sequential": [
            [
             0,
             "#0d0887"
            ],
            [
             0.1111111111111111,
             "#46039f"
            ],
            [
             0.2222222222222222,
             "#7201a8"
            ],
            [
             0.3333333333333333,
             "#9c179e"
            ],
            [
             0.4444444444444444,
             "#bd3786"
            ],
            [
             0.5555555555555556,
             "#d8576b"
            ],
            [
             0.6666666666666666,
             "#ed7953"
            ],
            [
             0.7777777777777778,
             "#fb9f3a"
            ],
            [
             0.8888888888888888,
             "#fdca26"
            ],
            [
             1,
             "#f0f921"
            ]
           ],
           "sequentialminus": [
            [
             0,
             "#0d0887"
            ],
            [
             0.1111111111111111,
             "#46039f"
            ],
            [
             0.2222222222222222,
             "#7201a8"
            ],
            [
             0.3333333333333333,
             "#9c179e"
            ],
            [
             0.4444444444444444,
             "#bd3786"
            ],
            [
             0.5555555555555556,
             "#d8576b"
            ],
            [
             0.6666666666666666,
             "#ed7953"
            ],
            [
             0.7777777777777778,
             "#fb9f3a"
            ],
            [
             0.8888888888888888,
             "#fdca26"
            ],
            [
             1,
             "#f0f921"
            ]
           ]
          },
          "colorway": [
           "#636efa",
           "#EF553B",
           "#00cc96",
           "#ab63fa",
           "#FFA15A",
           "#19d3f3",
           "#FF6692",
           "#B6E880",
           "#FF97FF",
           "#FECB52"
          ],
          "font": {
           "color": "#2a3f5f"
          },
          "geo": {
           "bgcolor": "white",
           "lakecolor": "white",
           "landcolor": "#E5ECF6",
           "showlakes": true,
           "showland": true,
           "subunitcolor": "white"
          },
          "hoverlabel": {
           "align": "left"
          },
          "hovermode": "closest",
          "mapbox": {
           "style": "light"
          },
          "paper_bgcolor": "white",
          "plot_bgcolor": "#E5ECF6",
          "polar": {
           "angularaxis": {
            "gridcolor": "white",
            "linecolor": "white",
            "ticks": ""
           },
           "bgcolor": "#E5ECF6",
           "radialaxis": {
            "gridcolor": "white",
            "linecolor": "white",
            "ticks": ""
           }
          },
          "scene": {
           "xaxis": {
            "backgroundcolor": "#E5ECF6",
            "gridcolor": "white",
            "gridwidth": 2,
            "linecolor": "white",
            "showbackground": true,
            "ticks": "",
            "zerolinecolor": "white"
           },
           "yaxis": {
            "backgroundcolor": "#E5ECF6",
            "gridcolor": "white",
            "gridwidth": 2,
            "linecolor": "white",
            "showbackground": true,
            "ticks": "",
            "zerolinecolor": "white"
           },
           "zaxis": {
            "backgroundcolor": "#E5ECF6",
            "gridcolor": "white",
            "gridwidth": 2,
            "linecolor": "white",
            "showbackground": true,
            "ticks": "",
            "zerolinecolor": "white"
           }
          },
          "shapedefaults": {
           "line": {
            "color": "#2a3f5f"
           }
          },
          "ternary": {
           "aaxis": {
            "gridcolor": "white",
            "linecolor": "white",
            "ticks": ""
           },
           "baxis": {
            "gridcolor": "white",
            "linecolor": "white",
            "ticks": ""
           },
           "bgcolor": "#E5ECF6",
           "caxis": {
            "gridcolor": "white",
            "linecolor": "white",
            "ticks": ""
           }
          },
          "title": {
           "x": 0.05
          },
          "xaxis": {
           "automargin": true,
           "gridcolor": "white",
           "linecolor": "white",
           "ticks": "",
           "title": {
            "standoff": 15
           },
           "zerolinecolor": "white",
           "zerolinewidth": 2
          },
          "yaxis": {
           "automargin": true,
           "gridcolor": "white",
           "linecolor": "white",
           "ticks": "",
           "title": {
            "standoff": 15
           },
           "zerolinecolor": "white",
           "zerolinewidth": 2
          }
         }
        },
        "title": {
         "text": "2017 United States Doctorate Recipients Distribution Map"
        }
       }
      },
      "text/html": [
       "<div>\n",
       "        \n",
       "        \n",
       "            <div id=\"69a0b303-4f11-4fa0-b0de-6b5b901f29be\" class=\"plotly-graph-div\" style=\"height:525px; width:100%;\"></div>\n",
       "            <script type=\"text/javascript\">\n",
       "                require([\"plotly\"], function(Plotly) {\n",
       "                    window.PLOTLYENV=window.PLOTLYENV || {};\n",
       "                    \n",
       "                if (document.getElementById(\"69a0b303-4f11-4fa0-b0de-6b5b901f29be\")) {\n",
       "                    Plotly.newPlot(\n",
       "                        '69a0b303-4f11-4fa0-b0de-6b5b901f29be',\n",
       "                        [{\"colorbar\": {\"title\": {\"text\": \"Total number of doctorate recipients \"}}, \"colorscale\": [[0.0, \"#440154\"], [0.1111111111111111, \"#482878\"], [0.2222222222222222, \"#3e4989\"], [0.3333333333333333, \"#31688e\"], [0.4444444444444444, \"#26828e\"], [0.5555555555555556, \"#1f9e89\"], [0.6666666666666666, \"#35b779\"], [0.7777777777777778, \"#6ece58\"], [0.8888888888888888, \"#b5de2b\"], [1.0, \"#fde725\"]], \"locationmode\": \"USA-states\", \"locations\": [\"CA\", \"TX\", \"NY\", \"MA\", \"PA\", \"IL\", \"FL\", \"OH\", \"MI\", \"NC\", \"IN\", \"VA\", \"GA\", \"MN\", \"MD\", \"WI\", \"NJ\", \"TN\", \"MO\", \"CO\", \"WA\", \"AZ\", \"CT\", \"IA\", \"AL\", \"DC\", \"LA\", \"OR\", \"KS\", \"OK\", \"UT\", \"SC\", \"KY\", \"MS\", \"NE\", \"RI\", \"NM\", \"DE\", \"AR\", \"NV\", \"HI\", \"WV\", \"ND\", \"NH\", \"MT\", \"SD\", \"ID\", \"WY\", null, \"VT\", \"ME\", \"AK\"], \"type\": \"choropleth\", \"z\": [6105.0, 4068.0, 4064.0, 2879.0, 2628.0, 2534.0, 2336.0, 2028.0, 1906.0, 1833.0, 1572.0, 1513.0, 1492.0, 1374.0, 1295.0, 1130.0, 1115.0, 1032.0, 1022.0, 1005.0, 914.0, 801.0, 748.0, 715.0, 707.0, 623.0, 607.0, 572.0, 530.0, 524.0, 508.0, 506.0, 497.0, 460.0, 363.0, 322.0, 299.0, 238.0, 202.0, 200.0, 189.0, 183.0, 181.0, 158.0, 119.0, 110.0, 103.0, 101.0, 84.0, 61.0, 56.0, 52.0]}],\n",
       "                        {\"geo\": {\"scope\": \"usa\"}, \"template\": {\"data\": {\"bar\": [{\"error_x\": {\"color\": \"#2a3f5f\"}, \"error_y\": {\"color\": \"#2a3f5f\"}, \"marker\": {\"line\": {\"color\": \"#E5ECF6\", \"width\": 0.5}}, \"type\": \"bar\"}], \"barpolar\": [{\"marker\": {\"line\": {\"color\": \"#E5ECF6\", \"width\": 0.5}}, \"type\": \"barpolar\"}], \"carpet\": [{\"aaxis\": {\"endlinecolor\": \"#2a3f5f\", \"gridcolor\": \"white\", \"linecolor\": \"white\", \"minorgridcolor\": \"white\", \"startlinecolor\": \"#2a3f5f\"}, \"baxis\": {\"endlinecolor\": \"#2a3f5f\", \"gridcolor\": \"white\", \"linecolor\": \"white\", \"minorgridcolor\": \"white\", \"startlinecolor\": \"#2a3f5f\"}, \"type\": \"carpet\"}], \"choropleth\": [{\"colorbar\": {\"outlinewidth\": 0, \"ticks\": \"\"}, \"type\": \"choropleth\"}], \"contour\": [{\"colorbar\": {\"outlinewidth\": 0, \"ticks\": \"\"}, \"colorscale\": [[0.0, \"#0d0887\"], [0.1111111111111111, \"#46039f\"], [0.2222222222222222, \"#7201a8\"], [0.3333333333333333, \"#9c179e\"], [0.4444444444444444, \"#bd3786\"], [0.5555555555555556, \"#d8576b\"], [0.6666666666666666, \"#ed7953\"], [0.7777777777777778, \"#fb9f3a\"], [0.8888888888888888, \"#fdca26\"], [1.0, \"#f0f921\"]], \"type\": \"contour\"}], \"contourcarpet\": [{\"colorbar\": {\"outlinewidth\": 0, \"ticks\": \"\"}, \"type\": \"contourcarpet\"}], \"heatmap\": [{\"colorbar\": {\"outlinewidth\": 0, \"ticks\": \"\"}, \"colorscale\": [[0.0, \"#0d0887\"], [0.1111111111111111, \"#46039f\"], [0.2222222222222222, \"#7201a8\"], [0.3333333333333333, \"#9c179e\"], [0.4444444444444444, \"#bd3786\"], [0.5555555555555556, \"#d8576b\"], [0.6666666666666666, \"#ed7953\"], [0.7777777777777778, \"#fb9f3a\"], [0.8888888888888888, \"#fdca26\"], [1.0, \"#f0f921\"]], \"type\": \"heatmap\"}], \"heatmapgl\": [{\"colorbar\": {\"outlinewidth\": 0, \"ticks\": \"\"}, \"colorscale\": [[0.0, \"#0d0887\"], [0.1111111111111111, \"#46039f\"], [0.2222222222222222, \"#7201a8\"], [0.3333333333333333, \"#9c179e\"], [0.4444444444444444, \"#bd3786\"], [0.5555555555555556, \"#d8576b\"], [0.6666666666666666, \"#ed7953\"], [0.7777777777777778, \"#fb9f3a\"], [0.8888888888888888, \"#fdca26\"], [1.0, \"#f0f921\"]], \"type\": \"heatmapgl\"}], \"histogram\": [{\"marker\": {\"colorbar\": {\"outlinewidth\": 0, \"ticks\": \"\"}}, \"type\": \"histogram\"}], \"histogram2d\": [{\"colorbar\": {\"outlinewidth\": 0, \"ticks\": \"\"}, \"colorscale\": [[0.0, \"#0d0887\"], [0.1111111111111111, \"#46039f\"], [0.2222222222222222, \"#7201a8\"], [0.3333333333333333, \"#9c179e\"], [0.4444444444444444, \"#bd3786\"], [0.5555555555555556, \"#d8576b\"], [0.6666666666666666, \"#ed7953\"], [0.7777777777777778, \"#fb9f3a\"], [0.8888888888888888, \"#fdca26\"], [1.0, \"#f0f921\"]], \"type\": \"histogram2d\"}], \"histogram2dcontour\": [{\"colorbar\": {\"outlinewidth\": 0, \"ticks\": \"\"}, \"colorscale\": [[0.0, \"#0d0887\"], [0.1111111111111111, \"#46039f\"], [0.2222222222222222, \"#7201a8\"], [0.3333333333333333, \"#9c179e\"], [0.4444444444444444, \"#bd3786\"], [0.5555555555555556, \"#d8576b\"], [0.6666666666666666, \"#ed7953\"], [0.7777777777777778, \"#fb9f3a\"], [0.8888888888888888, \"#fdca26\"], [1.0, \"#f0f921\"]], \"type\": \"histogram2dcontour\"}], \"mesh3d\": [{\"colorbar\": {\"outlinewidth\": 0, \"ticks\": \"\"}, \"type\": \"mesh3d\"}], \"parcoords\": [{\"line\": {\"colorbar\": {\"outlinewidth\": 0, \"ticks\": \"\"}}, \"type\": \"parcoords\"}], \"pie\": [{\"automargin\": true, \"type\": \"pie\"}], \"scatter\": [{\"marker\": {\"colorbar\": {\"outlinewidth\": 0, \"ticks\": \"\"}}, \"type\": \"scatter\"}], \"scatter3d\": [{\"line\": {\"colorbar\": {\"outlinewidth\": 0, \"ticks\": \"\"}}, \"marker\": {\"colorbar\": {\"outlinewidth\": 0, \"ticks\": \"\"}}, \"type\": \"scatter3d\"}], \"scattercarpet\": [{\"marker\": {\"colorbar\": {\"outlinewidth\": 0, \"ticks\": \"\"}}, \"type\": \"scattercarpet\"}], \"scattergeo\": [{\"marker\": {\"colorbar\": {\"outlinewidth\": 0, \"ticks\": \"\"}}, \"type\": \"scattergeo\"}], \"scattergl\": [{\"marker\": {\"colorbar\": {\"outlinewidth\": 0, \"ticks\": \"\"}}, \"type\": \"scattergl\"}], \"scattermapbox\": [{\"marker\": {\"colorbar\": {\"outlinewidth\": 0, \"ticks\": \"\"}}, \"type\": \"scattermapbox\"}], \"scatterpolar\": [{\"marker\": {\"colorbar\": {\"outlinewidth\": 0, \"ticks\": \"\"}}, \"type\": \"scatterpolar\"}], \"scatterpolargl\": [{\"marker\": {\"colorbar\": {\"outlinewidth\": 0, \"ticks\": \"\"}}, \"type\": \"scatterpolargl\"}], \"scatterternary\": [{\"marker\": {\"colorbar\": {\"outlinewidth\": 0, \"ticks\": \"\"}}, \"type\": \"scatterternary\"}], \"surface\": [{\"colorbar\": {\"outlinewidth\": 0, \"ticks\": \"\"}, \"colorscale\": [[0.0, \"#0d0887\"], [0.1111111111111111, \"#46039f\"], [0.2222222222222222, \"#7201a8\"], [0.3333333333333333, \"#9c179e\"], [0.4444444444444444, \"#bd3786\"], [0.5555555555555556, \"#d8576b\"], [0.6666666666666666, \"#ed7953\"], [0.7777777777777778, \"#fb9f3a\"], [0.8888888888888888, \"#fdca26\"], [1.0, \"#f0f921\"]], \"type\": \"surface\"}], \"table\": [{\"cells\": {\"fill\": {\"color\": \"#EBF0F8\"}, \"line\": {\"color\": \"white\"}}, \"header\": {\"fill\": {\"color\": \"#C8D4E3\"}, \"line\": {\"color\": \"white\"}}, \"type\": \"table\"}]}, \"layout\": {\"annotationdefaults\": {\"arrowcolor\": \"#2a3f5f\", \"arrowhead\": 0, \"arrowwidth\": 1}, \"coloraxis\": {\"colorbar\": {\"outlinewidth\": 0, \"ticks\": \"\"}}, \"colorscale\": {\"diverging\": [[0, \"#8e0152\"], [0.1, \"#c51b7d\"], [0.2, \"#de77ae\"], [0.3, \"#f1b6da\"], [0.4, \"#fde0ef\"], [0.5, \"#f7f7f7\"], [0.6, \"#e6f5d0\"], [0.7, \"#b8e186\"], [0.8, \"#7fbc41\"], [0.9, \"#4d9221\"], [1, \"#276419\"]], \"sequential\": [[0.0, \"#0d0887\"], [0.1111111111111111, \"#46039f\"], [0.2222222222222222, \"#7201a8\"], [0.3333333333333333, \"#9c179e\"], [0.4444444444444444, \"#bd3786\"], [0.5555555555555556, \"#d8576b\"], [0.6666666666666666, \"#ed7953\"], [0.7777777777777778, \"#fb9f3a\"], [0.8888888888888888, \"#fdca26\"], [1.0, \"#f0f921\"]], \"sequentialminus\": [[0.0, \"#0d0887\"], [0.1111111111111111, \"#46039f\"], [0.2222222222222222, \"#7201a8\"], [0.3333333333333333, \"#9c179e\"], [0.4444444444444444, \"#bd3786\"], [0.5555555555555556, \"#d8576b\"], [0.6666666666666666, \"#ed7953\"], [0.7777777777777778, \"#fb9f3a\"], [0.8888888888888888, \"#fdca26\"], [1.0, \"#f0f921\"]]}, \"colorway\": [\"#636efa\", \"#EF553B\", \"#00cc96\", \"#ab63fa\", \"#FFA15A\", \"#19d3f3\", \"#FF6692\", \"#B6E880\", \"#FF97FF\", \"#FECB52\"], \"font\": {\"color\": \"#2a3f5f\"}, \"geo\": {\"bgcolor\": \"white\", \"lakecolor\": \"white\", \"landcolor\": \"#E5ECF6\", \"showlakes\": true, \"showland\": true, \"subunitcolor\": \"white\"}, \"hoverlabel\": {\"align\": \"left\"}, \"hovermode\": \"closest\", \"mapbox\": {\"style\": \"light\"}, \"paper_bgcolor\": \"white\", \"plot_bgcolor\": \"#E5ECF6\", \"polar\": {\"angularaxis\": {\"gridcolor\": \"white\", \"linecolor\": \"white\", \"ticks\": \"\"}, \"bgcolor\": \"#E5ECF6\", \"radialaxis\": {\"gridcolor\": \"white\", \"linecolor\": \"white\", \"ticks\": \"\"}}, \"scene\": {\"xaxis\": {\"backgroundcolor\": \"#E5ECF6\", \"gridcolor\": \"white\", \"gridwidth\": 2, \"linecolor\": \"white\", \"showbackground\": true, \"ticks\": \"\", \"zerolinecolor\": \"white\"}, \"yaxis\": {\"backgroundcolor\": \"#E5ECF6\", \"gridcolor\": \"white\", \"gridwidth\": 2, \"linecolor\": \"white\", \"showbackground\": true, \"ticks\": \"\", \"zerolinecolor\": \"white\"}, \"zaxis\": {\"backgroundcolor\": \"#E5ECF6\", \"gridcolor\": \"white\", \"gridwidth\": 2, \"linecolor\": \"white\", \"showbackground\": true, \"ticks\": \"\", \"zerolinecolor\": \"white\"}}, \"shapedefaults\": {\"line\": {\"color\": \"#2a3f5f\"}}, \"ternary\": {\"aaxis\": {\"gridcolor\": \"white\", \"linecolor\": \"white\", \"ticks\": \"\"}, \"baxis\": {\"gridcolor\": \"white\", \"linecolor\": \"white\", \"ticks\": \"\"}, \"bgcolor\": \"#E5ECF6\", \"caxis\": {\"gridcolor\": \"white\", \"linecolor\": \"white\", \"ticks\": \"\"}}, \"title\": {\"x\": 0.05}, \"xaxis\": {\"automargin\": true, \"gridcolor\": \"white\", \"linecolor\": \"white\", \"ticks\": \"\", \"title\": {\"standoff\": 15}, \"zerolinecolor\": \"white\", \"zerolinewidth\": 2}, \"yaxis\": {\"automargin\": true, \"gridcolor\": \"white\", \"linecolor\": \"white\", \"ticks\": \"\", \"title\": {\"standoff\": 15}, \"zerolinecolor\": \"white\", \"zerolinewidth\": 2}}}, \"title\": {\"text\": \"2017 United States Doctorate Recipients Distribution Map\"}},\n",
       "                        {\"responsive\": true}\n",
       "                    ).then(function(){\n",
       "                            \n",
       "var gd = document.getElementById('69a0b303-4f11-4fa0-b0de-6b5b901f29be');\n",
       "var x = new MutationObserver(function (mutations, observer) {{\n",
       "        var display = window.getComputedStyle(gd).display;\n",
       "        if (!display || display === 'none') {{\n",
       "            console.log([gd, 'removed!']);\n",
       "            Plotly.purge(gd);\n",
       "            observer.disconnect();\n",
       "        }}\n",
       "}});\n",
       "\n",
       "// Listen for the removal of the full notebook cells\n",
       "var notebookContainer = gd.closest('#notebook-container');\n",
       "if (notebookContainer) {{\n",
       "    x.observe(notebookContainer, {childList: true});\n",
       "}}\n",
       "\n",
       "// Listen for the clearing of the current output cell\n",
       "var outputEl = gd.closest('.output');\n",
       "if (outputEl) {{\n",
       "    x.observe(outputEl, {childList: true});\n",
       "}}\n",
       "\n",
       "                        })\n",
       "                };\n",
       "                });\n",
       "            </script>\n",
       "        </div>"
      ]
     },
     "metadata": {},
     "output_type": "display_data"
    }
   ],
   "source": [
    "fig8 = go.Figure(data=go.Choropleth(\n",
    "                 locations=df_005['Code'], \n",
    "                 z = df_005['Doctorate recipients'].astype(float), \n",
    "                 locationmode = 'USA-states', # set of locations match entries in `locations \n",
    "                 colorscale = 'Viridis',\n",
    "                 colorbar_title = \"Total number of doctorate recipients \",\n",
    "))\n",
    "\n",
    "fig8.update_layout(\n",
    "    title_text = '2017 United States Doctorate Recipients Distribution Map',\n",
    "    geo_scope='usa', # set map scope to USA\n",
    ")\n",
    "fig8.show()\n",
    "\n",
    "st.plotly_chart(fig7, use_container_width=True)\n"
   ]
  },
  {
   "cell_type": "code",
   "execution_count": null,
   "metadata": {},
   "outputs": [],
   "source": []
  }
 ],
 "metadata": {
  "kernelspec": {
   "display_name": "Python 3",
   "language": "python",
   "name": "python3"
  },
  "language_info": {
   "codemirror_mode": {
    "name": "ipython",
    "version": 3
   },
   "file_extension": ".py",
   "mimetype": "text/x-python",
   "name": "python",
   "nbconvert_exporter": "python",
   "pygments_lexer": "ipython3",
   "version": "3.7.8"
  }
 },
 "nbformat": 4,
 "nbformat_minor": 4
}
